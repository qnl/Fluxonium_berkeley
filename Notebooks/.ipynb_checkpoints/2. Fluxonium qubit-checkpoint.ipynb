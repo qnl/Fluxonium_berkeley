{
 "cells": [
  {
   "cell_type": "markdown",
   "metadata": {},
   "source": [
    "# Fluxonium properties\n",
    "\n",
    "This notebook describes basic properties of a fluxonium circuit, which consists of three elements in parallel: a capacitor with charging energy $E_C$, an inductor with inductive energy $E_L$, and a Josephson junction with Josephson energy $E_J$"
   ]
  },
  {
   "cell_type": "markdown",
   "metadata": {},
   "source": [
    "## Import\n",
    "Import the necessary packages. The easiest way to configure qutip is by creating a qutip environment as instructed on qutip.org, then starting Jupyter notebook from this environnment in Anaconda."
   ]
  },
  {
   "cell_type": "code",
   "execution_count": 4,
   "metadata": {},
   "outputs": [
    {
     "ename": "ModuleNotFoundError",
     "evalue": "No module named 'qutip'",
     "output_type": "error",
     "traceback": [
      "\u001b[0;31m---------------------------------------------------------------------------\u001b[0m",
      "\u001b[0;31mModuleNotFoundError\u001b[0m                       Traceback (most recent call last)",
      "\u001b[0;32m<ipython-input-4-0923de88cda9>\u001b[0m in \u001b[0;36m<module>\u001b[0;34m\u001b[0m\n\u001b[1;32m      1\u001b[0m \u001b[0;32mimport\u001b[0m \u001b[0mnumpy\u001b[0m \u001b[0;32mas\u001b[0m \u001b[0mnp\u001b[0m\u001b[0;34m\u001b[0m\u001b[0;34m\u001b[0m\u001b[0m\n\u001b[1;32m      2\u001b[0m \u001b[0;32mfrom\u001b[0m \u001b[0mmatplotlib\u001b[0m \u001b[0;32mimport\u001b[0m \u001b[0mpyplot\u001b[0m \u001b[0;32mas\u001b[0m \u001b[0mplt\u001b[0m\u001b[0;34m\u001b[0m\u001b[0;34m\u001b[0m\u001b[0m\n\u001b[0;32m----> 3\u001b[0;31m \u001b[0;32mfrom\u001b[0m \u001b[0mqutip\u001b[0m \u001b[0;32mimport\u001b[0m\u001b[0;34m*\u001b[0m\u001b[0;34m\u001b[0m\u001b[0;34m\u001b[0m\u001b[0m\n\u001b[0m\u001b[1;32m      4\u001b[0m \u001b[0;32mfrom\u001b[0m \u001b[0mscipy\u001b[0m\u001b[0;34m.\u001b[0m\u001b[0mspecial\u001b[0m \u001b[0;32mimport\u001b[0m \u001b[0meval_hermite\u001b[0m \u001b[0;32mas\u001b[0m \u001b[0mhpoly\u001b[0m\u001b[0;34m\u001b[0m\u001b[0;34m\u001b[0m\u001b[0m\n\u001b[1;32m      5\u001b[0m \u001b[0;32mimport\u001b[0m \u001b[0msys\u001b[0m\u001b[0;34m\u001b[0m\u001b[0;34m\u001b[0m\u001b[0m\n",
      "\u001b[0;31mModuleNotFoundError\u001b[0m: No module named 'qutip'"
     ]
    }
   ],
   "source": [
    "import numpy as np\n",
    "from matplotlib import pyplot as plt\n",
    "from qutip import*\n",
    "from scipy.special import eval_hermite as hpoly\n",
    "import sys\n",
    "sys.path.append('/Users/longnguyen/Documents/GitHub/Fluxonium_berkeley/')\n",
    "from Fluxonium_hamiltonians import Single_small_junction as fluxonium\n",
    "import plotting_settings\n",
    "import ipywidgets as widgets\n",
    "from matplotlib.widgets import Slider"
   ]
  },
  {
   "cell_type": "code",
   "execution_count": null,
   "metadata": {},
   "outputs": [],
   "source": [
    "%matplotlib inline"
   ]
  },
  {
   "cell_type": "code",
   "execution_count": null,
   "metadata": {},
   "outputs": [],
   "source": [
    "%pwd"
   ]
  },
  {
   "cell_type": "markdown",
   "metadata": {},
   "source": [
    "## Qubit parameters\n",
    "Below we define the parameters used in the simulation:\n",
    "\n",
    "$N$ is the dimension of the harmonic oscillator Hilbert space\n",
    "\n",
    "$E_J=\\phi_0I_0=\\phi_0^2/L_J$ is the Josephson energy\n",
    "\n",
    "$E_C = e^2/2C_\\sum$ is the charging energy\n",
    "\n",
    "$E_L = \\phi_0^2/L$ is the inductive energy\n",
    "\n",
    "where $\\phi_0 = \\Phi_0/2\\pi=\\hbar/2e$ is the reduced flux quantum. The unit of these parameters as define above is joule (J), but we usually work with frequency unit, more specifically GHz. To convert from joules to Hz, we divide the energies above by the Planck constant $h$, so $1~\\mathrm{J} \\approx 1.5092\\times 10^{24} ~\\mathrm{GHz}$\n"
   ]
  },
  {
   "cell_type": "code",
   "execution_count": null,
   "metadata": {},
   "outputs": [],
   "source": [
    "N = 30 #number of levels\n",
    "E_J = 4 #Josephson energy, GHz\n",
    "E_C = 1 #Charging energy, GHz\n",
    "E_L = 1 #Inductive energy, GHz\n",
    "level_num = 10\n",
    "phi_ext = np.linspace(0,1,201)\n",
    "energies = np.zeros((len(phi_ext), level_num))\n",
    "states = np.zeros((len(phi_ext), level_num, N))\n",
    "max_display_y = 10"
   ]
  },
  {
   "cell_type": "markdown",
   "metadata": {},
   "source": [
    "## Spectrum\n",
    "The Hamiltonian is written as \n",
    "$$H=4E_Cn^2 + \\frac{1}{2}E_L\\phi^2 - E_J\\cos(\\phi+\\phi_\\mathrm{ext})$$\n",
    "where, in the harmonic oscillator basis, the operators $n$ and $\\phi$ are written as\n",
    "$$n = \\frac{i}{\\sqrt{2}}\\left(\\frac{8E_C}{E_L}\\right)^\\frac{1}{4}(a^\\dagger -a),$$\n",
    "$$\\phi = \\frac{1}{\\sqrt{2}}\\left(\\frac{E_L}{8E_C}\\right)^\\frac{1}{4}(a^\\dagger +a)$$"
   ]
  },
  {
   "cell_type": "code",
   "execution_count": null,
   "metadata": {},
   "outputs": [],
   "source": [
    "for idx, phi in enumerate(phi_ext):\n",
    "    H = fluxonium.bare_hamiltonian(N, E_L, E_C, E_J, phi*2*np.pi)\n",
    "    energies[idx, :] = H.eigenenergies()[:level_num]\n"
   ]
  },
  {
   "cell_type": "code",
   "execution_count": null,
   "metadata": {},
   "outputs": [],
   "source": [
    "plt.figure(figsize=[12,12])\n",
    "plt.xlim([phi_ext[0], phi_ext[-1]])\n",
    "plt.ylim([0,max_display_y])\n",
    "plt.xlabel(r'$\\Phi_\\mathrm{ext}/\\Phi_0$')\n",
    "plt.ylabel('Frequency (GHz)')\n",
    "for idx in range(1,level_num):\n",
    "    plt.plot(phi_ext, energies[:,idx]-energies[:,0], linewidth = '2')"
   ]
  },
  {
   "cell_type": "markdown",
   "metadata": {},
   "source": [
    "## Wavefunctions\n",
    "Plot the wave functions in phase basis"
   ]
  },
  {
   "cell_type": "code",
   "execution_count": null,
   "metadata": {},
   "outputs": [],
   "source": [
    "#note that we write the Hamiltonian and operators in the harmonic oscillator basis,\n",
    "#so now we have to project the evectors onto the phase basis.\n",
    "def ho_wf(phi,l,Ec,El):\n",
    "    ratio = (8.0*Ec/El)**(0.25)\n",
    "    coeff = (2.0**l*np.math.factorial(l)*np.sqrt(np.pi)*ratio)**(-0.5)\n",
    "    return coeff * np.exp(-0.5*(phi/ratio)**2) * hpoly(l,phi/ratio)\n",
    "\n",
    "toPlotNum = 5\n",
    "# phi_ext=[0.5]\n",
    "phi = np.linspace(-3*np.pi,3*np.pi,101)\n",
    "waveFunc = np.zeros((len(phi), len(phi_ext), toPlotNum))\n",
    "potential = np.zeros((len(phi), len(phi_ext)))\n",
    "for phi_idx, phi_e in enumerate(phi_ext):\n",
    "    H = fluxonium.bare_hamiltonian(N,E_L,E_C,E_J, phi_e*2*np.pi)\n",
    "    evalues, evectors = H.eigenstates()\n",
    "    for state_idx in range(toPlotNum):\n",
    "        wFunc = np.zeros(len(phi))\n",
    "        for lvl_idx in range(N):\n",
    "            coeff = np.real(evectors[state_idx].full()[lvl_idx, 0])\n",
    "            wFunc = wFunc + coeff*ho_wf(phi, lvl_idx, E_C, E_L)\n",
    "        waveFunc[:, phi_idx, state_idx] = wFunc + evalues[state_idx]\n",
    "    potential[:,phi_idx] = 0.5*E_L*phi**2 - E_J*np.cos(phi-phi_e*2*np.pi)   \n",
    "    "
   ]
  },
  {
   "cell_type": "code",
   "execution_count": null,
   "metadata": {},
   "outputs": [],
   "source": [
    "plt.figure(figsize = [12,12])\n",
    "phi_idx = 0   \n",
    "plt.plot(phi,potential[:, phi_idx], linewidth = 5, color = 'k')\n",
    "for state_idx in range(toPlotNum):\n",
    "    plt.plot(phi,np.ones(len(phi))*energies[phi_idx,state_idx], linewidth = 1, alpha = 0.5, color = 'g')\n",
    "    plt.plot(phi,waveFunc[:, phi_idx, state_idx])\n",
    "plt.ylim([-5,20])"
   ]
  },
  {
   "cell_type": "code",
   "execution_count": null,
   "metadata": {},
   "outputs": [],
   "source": [
    "plt.figure(figsize = [12,12])\n",
    "phi_idx = 101\n",
    "plt.plot(phi,potential[:, phi_idx], linewidth = 5, color = 'k')\n",
    "for state_idx in range(toPlotNum):\n",
    "    plt.plot(phi,np.ones(len(phi))*energies[phi_idx,state_idx], linewidth = 1, alpha = 0.5, color = 'g')\n",
    "    plt.plot(phi,waveFunc[:, phi_idx, state_idx])\n",
    "plt.ylim([-1,15])"
   ]
  },
  {
   "cell_type": "markdown",
   "metadata": {},
   "source": [
    "## Matrix elements"
   ]
  },
  {
   "cell_type": "code",
   "execution_count": null,
   "metadata": {},
   "outputs": [],
   "source": [
    "toCompute = 3 #Number of transitions to compute\n",
    "n_me = np.zeros((len(phi_ext), toCompute), dtype = complex)\n",
    "p_me = np.zeros_like(n_me)\n",
    "\n",
    "for idx, phi in enumerate(phi_ext):\n",
    "    n_me[idx, 0] = fluxonium.charge_matrix_element(N, E_L, E_C, E_J, phi*2*np.pi, 0, 1)\n",
    "    p_me[idx, 0] = fluxonium.phase_matrix_element(N, E_L, E_C, E_J, phi*2*np.pi, 0, 1)\n",
    "    n_me[idx, 1] = fluxonium.charge_matrix_element(N, E_L, E_C, E_J, phi*2*np.pi, 2, 1)\n",
    "    p_me[idx, 1] = fluxonium.phase_matrix_element(N, E_L, E_C, E_J, phi*2*np.pi, 2, 1)\n",
    "    n_me[idx, 2] = fluxonium.charge_matrix_element(N, E_L, E_C, E_J, phi*2*np.pi, 0, 2)\n",
    "    p_me[idx, 2] = fluxonium.phase_matrix_element(N, E_L, E_C, E_J, phi*2*np.pi, 0, 2)"
   ]
  },
  {
   "cell_type": "code",
   "execution_count": null,
   "metadata": {},
   "outputs": [],
   "source": [
    "fig, (ax1, ax2) = plt.subplots(2, figsize=[9,9])\n",
    "ax1.set_xlim([phi_ext[0], phi_ext[-1]])\n",
    "ax2.set_xlabel(r'$\\Phi_\\mathrm{ext}/\\Phi_0$')\n",
    "ax1.set_ylabel(r'$|n_{if}|$')\n",
    "ax2.set_ylabel(r'$|\\phi_{if}|$')\n",
    "ax1.plot(phi_ext, abs(n_me[:, 0]), linewidth = '3', label = r'$0-1$')\n",
    "ax2.plot(phi_ext, abs(p_me[:, 0]), linewidth = '3', label = r'$0-1$')\n",
    "ax1.plot(phi_ext, abs(n_me[:, 1]), linewidth = '3', linestyle = '--', label = r'$1-2$')\n",
    "ax2.plot(phi_ext, abs(p_me[:, 1]), linewidth = '3', linestyle = '--', label = r'$1-2$')\n",
    "ax1.plot(phi_ext, abs(n_me[:, 2]), linewidth = '3', linestyle = '-.', label = r'$0-2$')\n",
    "ax2.plot(phi_ext, abs(p_me[:, 2]), linewidth = '3', linestyle = '-.', label = r'$0-2$')\n",
    "ax1.legend(loc='best')\n",
    "ax2.legend(loc='right')"
   ]
  },
  {
   "cell_type": "markdown",
   "metadata": {},
   "source": [
    "## Dispersive shifts \n",
    "The dispersive shift between levels $i$ and $j$ of a  fluxonium circuit coupled capacitively to a resonator is written as\n",
    "$$\\chi_{ij} = g^2\\left( \\sum_{k\\neq i}|n_{ik}|^2\\frac{2f_{ik}}{f_{ik}^2-f_r^2} - \\sum_{k\\neq j}|n_{jk}|^2\\frac{2f_{jk}}{f_{jk}^2-f_r^2}\\right),$$\n",
    "where $g$ is the qubit-cavity coupling constant, $n_{ik}$ is the charge matrix element between states $i$ and $k$, $f_{ik}$ is the transition frequency between those states, and $f_r$ is the cavity frequency. Note that the dispersive shift $\\chi$ has the same unit as the coupling $g$. For inductive coupling, we can simply replace $n$ with $\\phi$\n",
    "\n",
    "Let's now simulate the $0-1$ dispersive shift at different flux bias for fixed cavity resonance and coupling coefficient."
   ]
  },
  {
   "cell_type": "code",
   "execution_count": null,
   "metadata": {},
   "outputs": [],
   "source": [
    "iState = 0\n",
    "fState = 1\n",
    "g = 0.1 #Coupling to cavity, GHz\n",
    "w_R = 7.5 #Readout frequency, GHz\n",
    "chi_01 = np.zeros_like(phi_ext)\n",
    "for idx, phi in enumerate(phi_ext):\n",
    "    chi_01[idx]= fluxonium.charge_dispersive_shift(N, level_num, E_L, E_C, E_J, phi*2*np.pi, iState, fState, w_R, g)"
   ]
  },
  {
   "cell_type": "code",
   "execution_count": null,
   "metadata": {},
   "outputs": [],
   "source": [
    "plt.figure(figsize=[9,6])\n",
    "plt.xlim([phi_ext[0], phi_ext[-1]])\n",
    "plt.ylim([-10,10])\n",
    "plt.xlabel(r'$\\Phi_\\mathrm{ext}/\\Phi_0$')\n",
    "plt.ylabel(r'$\\chi_{01}$ (MHz)')\n",
    "plt.plot(phi_ext, chi_01*1e3, linewidth = '2')"
   ]
  },
  {
   "cell_type": "markdown",
   "metadata": {},
   "source": [
    "We can simulate dispersive shift with varying resonator frequency to find the optimal readout design"
   ]
  },
  {
   "cell_type": "code",
   "execution_count": null,
   "metadata": {},
   "outputs": [],
   "source": [
    "iState = 0\n",
    "fState = 1\n",
    "g = 0.1 #Coupling to cavity, GHz\n",
    "w_R_array = np.linspace(4,10,101) #Readout frequency, GHz\n",
    "chi_R_01 = np.zeros_like(w_R_array)\n",
    "for idx, w_R in enumerate(w_R_array):\n",
    "    chi_R_01[idx]= fluxonium.charge_dispersive_shift(N, level_num, E_L, E_C, E_J, np.pi, iState, fState, w_R, g)"
   ]
  },
  {
   "cell_type": "code",
   "execution_count": null,
   "metadata": {},
   "outputs": [],
   "source": [
    "plt.figure(figsize=[9,6])\n",
    "plt.xlim([w_R_array[0], w_R_array[-1]])\n",
    "plt.ylim([-10,10])\n",
    "plt.xlabel(r'Resonance freq (GHz)')\n",
    "plt.ylabel(r'$\\chi_{01}$ (MHz)')\n",
    "plt.plot(w_R_array, chi_R_01*1e3, linewidth = '2')"
   ]
  },
  {
   "cell_type": "markdown",
   "metadata": {},
   "source": [
    "We can repeat the computation process with inductive coupling."
   ]
  },
  {
   "cell_type": "code",
   "execution_count": null,
   "metadata": {},
   "outputs": [],
   "source": [
    "iState = 0\n",
    "fState = 1\n",
    "g = 0.1 #Coupling to cavity, GHz\n",
    "w_R = 7.5 #Readout frequency, GHz\n",
    "chi_01 = np.zeros_like(phi_ext)\n",
    "for idx, phi in enumerate(phi_ext):\n",
    "    chi_01[idx]= fluxonium.phase_dispersive_shift(N, level_num, E_L, E_C, E_J, phi*2*np.pi, iState, fState, w_R, g)"
   ]
  },
  {
   "cell_type": "code",
   "execution_count": null,
   "metadata": {},
   "outputs": [],
   "source": [
    "plt.figure(figsize=[9,6])\n",
    "plt.xlim([phi_ext[0], phi_ext[-1]])\n",
    "plt.ylim([-10,10])\n",
    "plt.xlabel(r'$\\Phi_\\mathrm{ext}/\\Phi_0$')\n",
    "plt.ylabel(r'$\\chi_{01}$ (MHz)')\n",
    "plt.plot(phi_ext, chi_01*1e3, linewidth = '2')"
   ]
  },
  {
   "cell_type": "markdown",
   "metadata": {},
   "source": [
    "## Energy relaxation"
   ]
  },
  {
   "cell_type": "markdown",
   "metadata": {},
   "source": [
    "### Dielectric loss"
   ]
  },
  {
   "cell_type": "code",
   "execution_count": null,
   "metadata": {},
   "outputs": [],
   "source": [
    "freq = energies[:,1]-energies[:,0]\n",
    "h = 6.626e-34 #Planck constant\n",
    "kB = 1.38e-23 #Boltzmann constant\n",
    "T_diel = 20e-3 #effective temperature in K\n",
    "thermal_factor_diel = (1+np.exp(-h*freq*1e9/(kB*T_diel)))\n",
    "Q_cap_array = [3e6]\n",
    "gamma_cap  = np.zeros((len(phi_ext), len(Q_cap_array)), dtype = complex)\n",
    "\n",
    "for Q_idx, Q_cap in enumerate(Q_cap_array):\n",
    "    for phi_idx in range(len(phi_ext)):\n",
    "        gamma_cap[phi_idx, Q_idx] = fluxonium.relaxation_rate_cap(E_L, E_C, E_J, Q_cap*(6.0/freq[phi_idx])**0.15, \n",
    "                                                                  freq[phi_idx], p_me[phi_idx,0], T_diel)*thermal_factor_diel[phi_idx]"
   ]
  },
  {
   "cell_type": "code",
   "execution_count": null,
   "metadata": {},
   "outputs": [],
   "source": [
    "plt.figure(figsize = [9,6])\n",
    "# plt.ylim([10,3000])\n",
    "plt.xlim([phi_ext[0], phi_ext[-1]])\n",
    "plt.tick_params(labelsize = 18.0)\n",
    "plt.xlabel(r'$\\Phi_\\mathrm{ext}/\\Phi_0$')\n",
    "plt.ylabel('$\\mathrm{T_1(\\mu s)}$')\n",
    "for idx in range (len(Q_cap_array)):\n",
    "    plt.semilogy(phi_ext, 1.0/abs(gamma_cap[:,idx]) *1e6, linewidth= 3.0, linestyle ='-')"
   ]
  },
  {
   "cell_type": "markdown",
   "metadata": {},
   "source": [
    "### Quasiparticles near small junction\n"
   ]
  },
  {
   "cell_type": "code",
   "execution_count": null,
   "metadata": {},
   "outputs": [],
   "source": [
    "#Quasiparticle tunneling across small junction\n",
    "T_qp = 20e-3 #effective temperature in K\n",
    "thermal_factor_qp = (1+np.exp(-h*freq*1e9/(kB*T_qp)))\n",
    "Q_qp_array = [1e6]\n",
    "gamma_qp = np.zeros((len(phi_ext), len(Q_qp_array)), dtype=complex)\n",
    "qp_me = np.zeros_like(gamma_qp)\n",
    "for phi_idx, phi in enumerate(phi_ext):\n",
    "    qp_me[phi_idx] = abs(fluxonium.qp_matrix_element(N, E_L, E_C, E_J, phi * 2.0 * np.pi, 0, 1))\n",
    "for Q_idx, Q_qp in enumerate(Q_qp_array):\n",
    "    for phi_idx in range(len(phi_ext)):\n",
    "        gamma_qp[phi_idx, Q_idx] = fluxonium.relaxation_rate_qp(E_L, E_C, E_J, Q_qp, freq[phi_idx], \n",
    "                                                                      qp_me[phi_idx,0])*thermal_factor_qp[phi_idx]"
   ]
  },
  {
   "cell_type": "code",
   "execution_count": null,
   "metadata": {},
   "outputs": [],
   "source": [
    "plt.xlim([phi_ext[0], phi_ext[-1]])\n",
    "plt.xlabel(r'$\\Phi_\\mathrm{ext}/\\Phi_0$')\n",
    "plt.ylabel('$\\mathrm{T_1(\\mu s)}$')\n",
    "for idx in range (len(Q_qp_array)):\n",
    "    plt.semilogy(phi_ext, 1.0/abs(gamma_qp[:,idx]) *1e6, linewidth= 2.0, linestyle ='-')"
   ]
  },
  {
   "cell_type": "markdown",
   "metadata": {},
   "source": [
    "### Quasiparticles in the inductor"
   ]
  },
  {
   "cell_type": "code",
   "execution_count": null,
   "metadata": {},
   "outputs": [],
   "source": [
    "#Quasiparticle in JJ array. Inductive noise has similar effects.\n",
    "T_qp = 20e-3 #effective temperature in K\n",
    "thermal_factor_qp = (1+np.exp(-h*freq*1e9/(kB*T_qp)))\n",
    "Q_qp_array = [1e9]\n",
    "gamma_qp_chain = np.zeros((len(phi_ext), len(Q_qp_array)), dtype=complex)\n",
    "for Q_idx, Q_qp in enumerate(Q_qp_array):\n",
    "    for phi_idx in range(len(phi_ext)):\n",
    "        gamma_qp_chain[phi_idx, Q_idx] = fluxonium.relaxation_rate_qp_array(E_L, E_C, E_J, Q_qp, freq[phi_idx], \n",
    "                                                                      p_me[phi_idx,0])*thermal_factor_qp[phi_idx]"
   ]
  },
  {
   "cell_type": "code",
   "execution_count": null,
   "metadata": {},
   "outputs": [],
   "source": [
    "# plt.figure(figsize = [10,8])\n",
    "# plt.ylim([10,1000])\n",
    "plt.xlim([phi_ext[0], phi_ext[-1]])\n",
    "plt.xlabel(r'$\\Phi_\\mathrm{ext}/\\Phi_0$')\n",
    "plt.ylabel('$\\mathrm{T_1(\\mu s)}$')\n",
    "for idx in range (len(Q_qp_array)):\n",
    "    plt.semilogy(phi_ext, 1.0/abs(gamma_qp_chain[:,idx]) *1e6, linewidth= 2.0, linestyle ='-')"
   ]
  },
  {
   "cell_type": "markdown",
   "metadata": {},
   "source": [
    "## Flux noise dephasing\n",
    "We use the formula\n",
    "$$\\Gamma_\\Phi = \\left(\\frac{\\partial \\omega}{\\partial \\Phi} \\right)A\\mathrm{ln}\\sqrt{2} $$"
   ]
  },
  {
   "cell_type": "code",
   "execution_count": null,
   "metadata": {},
   "outputs": [],
   "source": [
    "#T2 due to flux noise (measured with echo)\n",
    "plt.figure(figsize=[9,6])\n",
    "fn_amp = 2.0e-6 #unit is flux quantum\n",
    "trans_energy = energies[:,1]-energies[:,0]\n",
    "sensitivity = np.gradient(trans_energy)/(phi_ext[1]-phi_ext[0]) #in unit of GHz / (Flux/phi_o)\n",
    "sensitivity = sensitivity*1e9*2*np.pi #Unit of radian Hz / (Flux/phi_o)\n",
    "gamma = abs(sensitivity)*fn_amp*np.sqrt(np.log(2))\n",
    "plt.semilogy(phi_ext, (gamma**-1)*1e6)\n",
    "plt.xlabel(r'$\\Phi_\\mathrm{ext}/\\Phi_0$')\n",
    "plt.ylabel(r'$\\mathrm{T_2(\\mu s)}$')\n",
    "plt.ylim([1,1000])"
   ]
  },
  {
   "cell_type": "code",
   "execution_count": null,
   "metadata": {},
   "outputs": [],
   "source": [
    "#T2 due to 2nd order flux noise\n",
    "fn_amp = 2.0e-6 #unit is flux quantum\n",
    "trans_energy = energies[:,1]-energies[:,0]\n",
    "sensitivity = np.gradient(trans_energy)/(phi_ext[1]-phi_ext[0]) #in unit of GHz / (Flux/phi_o)\n",
    "sensitivity2 = np.gradient(sensitivity)/(phi_ext[1]-phi_ext[0]) #in unit of GHz / (Flux/phi_o)^2\n",
    "sensitivity2 = sensitivity2*1e9*2*np.pi #in unit of radian Hz / (Flux/phi_o)^2\n",
    "gamma = abs(sensitivity2)*fn_amp**2\n",
    "plt.semilogy(phi_ext, (gamma**-1))\n",
    "plt.xlabel(r'$\\Phi_\\mathrm{ext}/\\Phi_0$')\n",
    "plt.ylabel(r'$\\mathrm{T_2(s)}$')"
   ]
  },
  {
   "cell_type": "markdown",
   "metadata": {},
   "source": []
  }
 ],
 "metadata": {
  "kernelspec": {
   "display_name": "Python 3",
   "language": "python",
   "name": "python3"
  },
  "language_info": {
   "codemirror_mode": {
    "name": "ipython",
    "version": 3
   },
   "file_extension": ".py",
   "mimetype": "text/x-python",
   "name": "python",
   "nbconvert_exporter": "python",
   "pygments_lexer": "ipython3",
   "version": "3.8.3"
  }
 },
 "nbformat": 4,
 "nbformat_minor": 4
}
