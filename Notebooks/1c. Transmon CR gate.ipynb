{
 "cells": [
  {
   "cell_type": "markdown",
   "metadata": {
    "toc": true
   },
   "source": [
    "<h1>Table of Contents<span class=\"tocSkip\"></span></h1>\n",
    "<div class=\"toc\"><ul class=\"toc-item\"><li><span><a href=\"#Preambles\" data-toc-modified-id=\"Preambles-1\"><span class=\"toc-item-num\">1&nbsp;&nbsp;</span>Preambles</a></span></li><li><span><a href=\"#Qubit-parameters\" data-toc-modified-id=\"Qubit-parameters-2\"><span class=\"toc-item-num\">2&nbsp;&nbsp;</span>Qubit parameters</a></span></li><li><span><a href=\"#Drive-parameters\" data-toc-modified-id=\"Drive-parameters-3\"><span class=\"toc-item-num\">3&nbsp;&nbsp;</span>Drive parameters</a></span></li><li><span><a href=\"#Extract-rate\" data-toc-modified-id=\"Extract-rate-4\"><span class=\"toc-item-num\">4&nbsp;&nbsp;</span>Extract rate</a></span></li></ul></div>"
   ]
  },
  {
   "cell_type": "markdown",
   "metadata": {},
   "source": [
    "# Preambles"
   ]
  },
  {
   "cell_type": "code",
   "execution_count": 9,
   "metadata": {
    "ExecuteTime": {
     "end_time": "2021-12-19T07:52:02.460678Z",
     "start_time": "2021-12-19T07:52:02.457403Z"
    }
   },
   "outputs": [],
   "source": [
    "import numpy as np\n",
    "from matplotlib import pyplot as plt\n",
    "from qutip import*\n",
    "from scipy.special import eval_hermite as hpoly\n",
    "import sys\n",
    "sys.path.append('/Users/longnguyen/Documents/GitHub/Fluxonium_berkeley/')\n",
    "from Fluxonium_hamiltonians import qchard_coupobj as coupobj\n",
    "from Fluxonium_hamiltonians import qchard_transmon as transmon\n",
    "from Fluxonium_hamiltonians import qchard_pshapes as pshapes\n",
    "from Fluxonium_hamiltonians import qchard_evolgates as gates\n",
    "from Fluxonium_hamiltonians import qchard_evolgates_twod as gates_2d\n",
    "from Fluxonium_hamiltonians import qchard_rotope as op\n",
    "import plotting_settings\n",
    "from scipy.optimize import curve_fit\n",
    "import scipy.linalg\n",
    "from scipy.optimize import minimize\n",
    "from scipy.optimize import optimize"
   ]
  },
  {
   "cell_type": "code",
   "execution_count": 14,
   "metadata": {
    "ExecuteTime": {
     "end_time": "2021-12-19T07:53:33.831007Z",
     "start_time": "2021-12-19T07:53:33.828206Z"
    }
   },
   "outputs": [],
   "source": [
    "def line_func(x,slope,c1,c2):\n",
    "    return slope*(x-c1)+c2\n",
    "\n",
    "def cos_func(x,amp,freq,c1,c2):\n",
    "    return amp*np.cos(2*np.pi*freq*(x-c1))+c2"
   ]
  },
  {
   "cell_type": "markdown",
   "metadata": {},
   "source": [
    "# Qubit parameters"
   ]
  },
  {
   "cell_type": "code",
   "execution_count": 87,
   "metadata": {
    "ExecuteTime": {
     "end_time": "2021-12-19T08:28:13.624768Z",
     "start_time": "2021-12-19T08:28:13.608533Z"
    }
   },
   "outputs": [],
   "source": [
    "omega1 = 5.254 #GHz\n",
    "omega2 = 5.331\n",
    "omega3 = 5.491\n",
    "alpha1 = -0.277\n",
    "alpha2 = -0.272\n",
    "alpha3 = -0.271\n",
    "nlev = 3\n",
    "\n",
    "qubit1 = transmon.TransmonSimple(omega_q = omega1, alpha = alpha1, nlev = nlev)\n",
    "qubit2 = transmon.TransmonSimple(omega_q = omega2, alpha = alpha2, nlev = nlev)\n",
    "qubit3 = transmon.TransmonSimple(omega_q = omega3, alpha = alpha3, nlev = nlev)\n",
    "JC = 0.0025 #GHz\n",
    "coupling_type = 'JC-rwa'\n",
    "system = coupobj.CoupledObjects(qubit1, qubit2,\n",
    "    [qubit1, qubit2, 0.0024, coupling_type])\n",
    "vec00 = system.eigvec('00')\n",
    "vec01 = system.eigvec('10')\n",
    "vec10 = system.eigvec('10')\n",
    "vec11 = system.eigvec('11')\n",
    "\n",
    "\n",
    "# system = coupobj.CoupledObjects(qubit1, qubit2,qubit3,\n",
    "#     [qubit1, qubit2, 0.0024, coupling_type],\n",
    "#     [qubit2, qubit3, 0.003, coupling_type])\n",
    "# vec000 = system.eigvec('000')\n",
    "# vec001 = system.eigvec('010')\n",
    "# vec010 = system.eigvec('010')\n",
    "# vec011 = system.eigvec('011')\n",
    "# vec100 = system.eigvec('100')\n",
    "# vec101 = system.eigvec('101')\n",
    "# vec110 = system.eigvec('110')\n",
    "# vec111 = system.eigvec('111')\n"
   ]
  },
  {
   "cell_type": "markdown",
   "metadata": {},
   "source": [
    "# Drive parameters"
   ]
  },
  {
   "cell_type": "code",
   "execution_count": 104,
   "metadata": {
    "ExecuteTime": {
     "end_time": "2021-12-19T08:44:07.350195Z",
     "start_time": "2021-12-19T08:43:58.311484Z"
    }
   },
   "outputs": [],
   "source": [
    "#Gate parameters\n",
    "shape = 'cosflattop'\n",
    "T_gate = 375 #ns\n",
    "T_rise = 30\n",
    "drag = False\n",
    "drag_coeff = 0.0\n",
    "sigma = 0.25\n",
    "coupl = 10 #MHz\n",
    "coupl_const = coupl*1e-3*2*np.pi\n",
    "eta = 0.3\n",
    "\n",
    "#Drive amplitude and frequency\n",
    "omega_d1 = abs(system.freq('00', '01')) \n",
    "omega_d2 = abs(system.freq('00', '01')) \n",
    "\n",
    "#Evolve gate\n",
    "t_points = np.linspace(0, T_gate, 2 * int(T_gate) + 1)\n",
    "H_drive1 = coupl_const * (system.a(0) + system.a(0).dag())\n",
    "H_drive2 = eta * coupl_const * (system.a(1) + system.a(1).dag())\n",
    "U_t = gates_2d.evolution_operator_microwave_nonorm(\n",
    "                system.H(), H_drive1, H_drive2, t_points=t_points, DRAG = drag, DRAG_coefficient = drag_coeff,\n",
    "                T_gate=T_gate, T_rise = T_rise, shape=shape, sigma=sigma, omega_d1=omega_d1,omega_d2=omega_d2)"
   ]
  },
  {
   "cell_type": "markdown",
   "metadata": {},
   "source": [
    "# Extract rate"
   ]
  },
  {
   "cell_type": "code",
   "execution_count": 105,
   "metadata": {
    "ExecuteTime": {
     "end_time": "2021-12-19T08:44:10.489708Z",
     "start_time": "2021-12-19T08:44:10.156402Z"
    }
   },
   "outputs": [
    {
     "data": {
      "text/plain": [
       "Text(0, 0.5, '$P_{00}$')"
      ]
     },
     "execution_count": 105,
     "metadata": {},
     "output_type": "execute_result"
    },
    {
     "data": {
      "image/png": "[encoded data removed]",
      "text/plain": [
       "<Figure size 432x288 with 1 Axes>"
      ]
     },
     "metadata": {
      "needs_background": "light"
     },
     "output_type": "display_data"
    }
   ],
   "source": [
    "plt.plot(t_points, expect(vec00*vec00.dag(), U_t*vec00), label = '00')\n",
    "plt.plot(t_points, expect(vec10*vec10.dag(), U_t*vec10), label = '10')\n",
    "plt.legend()\n",
    "plt.xlabel(\"ns\")\n",
    "plt.ylabel(r'$P_{00}$')"
   ]
  },
  {
   "cell_type": "code",
   "execution_count": 81,
   "metadata": {
    "ExecuteTime": {
     "end_time": "2021-12-19T08:17:39.735550Z",
     "start_time": "2021-12-19T08:17:39.301237Z"
    }
   },
   "outputs": [
    {
     "name": "stdout",
     "output_type": "stream",
     "text": [
      "0.02255750195170441\n",
      "12.17916118413087\n"
     ]
    },
    {
     "data": {
      "text/plain": [
       "Text(0, 0.5, '$\\\\phi_{00}+\\\\phi_{11}-\\\\phi_{10}-\\\\phi_{01}$')"
      ]
     },
     "execution_count": 81,
     "metadata": {},
     "output_type": "execute_result"
    },
    {
     "data": {
      "image/png": "[encoded data removed]",
      "text/plain": [
       "<Figure size 432x288 with 1 Axes>"
      ]
     },
     "metadata": {
      "needs_background": "light"
     },
     "output_type": "display_data"
    }
   ],
   "source": [
    "phase_evol = np.zeros_like(t_points)\n",
    "for tind in range(len(t_points)):\n",
    "    u00 = U_t[tind].matrix_element(vec00.dag(), vec00)\n",
    "    u01 = U_t[tind].matrix_element(vec01.dag(), vec01)\n",
    "    u10 = U_t[tind].matrix_element(vec10.dag(), vec10)\n",
    "    u11 = U_t[tind].matrix_element(vec11.dag(), vec11)\n",
    "    phase_evol[tind] = np.angle(u11 * u00 / (u10 * u01))\n",
    "\n",
    "plt.plot(t_points, np.unwrap(phase_evol))\n",
    "slope_guess = (phase_evol[-1]-phase_evol[0])/(t_points[-1]-t_points[0])\n",
    "print (slope_guess/(2*np.pi)*1e3)\n",
    "guess = [slope_guess,0,0]\n",
    "opt, cov = curve_fit(line_func,xdata = t_points, ydata=np.unwrap(phase_evol), p0=guess)\n",
    "zeta_ZZ = opt[0]/(2*np.pi)*1e3\n",
    "print (zeta_ZZ)\n",
    "plt.plot(t_points, line_func(t_points,*opt))\n",
    "plt.xlabel(\"ns\")\n",
    "plt.ylabel(r'$\\phi_{00}+\\phi_{11}-\\phi_{10}-\\phi_{01}$')"
   ]
  },
  {
   "cell_type": "code",
   "execution_count": null,
   "metadata": {},
   "outputs": [],
   "source": []
  },
  {
   "cell_type": "code",
   "execution_count": null,
   "metadata": {},
   "outputs": [],
   "source": []
  }
 ],
 "metadata": {
  "kernelspec": {
   "display_name": "Python 3",
   "language": "python",
   "name": "python3"
  },
  "language_info": {
   "codemirror_mode": {
    "name": "ipython",
    "version": 3
   },
   "file_extension": ".py",
   "mimetype": "text/x-python",
   "name": "python",
   "nbconvert_exporter": "python",
   "pygments_lexer": "ipython3",
   "version": "3.8.5"
  },
  "latex_envs": {
   "LaTeX_envs_menu_present": true,
   "autoclose": false,
   "autocomplete": true,
   "bibliofile": "biblio.bib",
   "cite_by": "apalike",
   "current_citInitial": 1,
   "eqLabelWithNumbers": true,
   "eqNumInitial": 1,
   "hotkeys": {
    "equation": "Ctrl-E",
    "itemize": "Ctrl-I"
   },
   "labels_anchors": false,
   "latex_user_defs": false,
   "report_style_numbering": false,
   "user_envs_cfg": false
  },
  "toc": {
   "base_numbering": 1,
   "nav_menu": {},
   "number_sections": true,
   "sideBar": true,
   "skip_h1_title": false,
   "title_cell": "Table of Contents",
   "title_sidebar": "Contents",
   "toc_cell": true,
   "toc_position": {},
   "toc_section_display": true,
   "toc_window_display": true
  },
  "varInspector": {
   "cols": {
    "lenName": 16,
    "lenType": 16,
    "lenVar": 40
   },
   "kernels_config": {
    "python": {
     "delete_cmd_postfix": "",
     "delete_cmd_prefix": "del ",
     "library": "var_list.py",
     "varRefreshCmd": "print(var_dic_list())"
    },
    "r": {
     "delete_cmd_postfix": ") ",
     "delete_cmd_prefix": "rm(",
     "library": "var_list.r",
     "varRefreshCmd": "cat(var_dic_list()) "
    }
   },
   "types_to_exclude": [
    "module",
    "function",
    "builtin_function_or_method",
    "instance",
    "_Feature"
   ],
   "window_display": false
  }
 },
 "nbformat": 4,
 "nbformat_minor": 4
}
