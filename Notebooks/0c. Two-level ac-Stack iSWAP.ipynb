{
 "cells": [
  {
   "cell_type": "markdown",
   "metadata": {
    "toc": true
   },
   "source": [
    "<h1>Table of Contents<span class=\"tocSkip\"></span></h1>\n",
    "<div class=\"toc\"><ul class=\"toc-item\"><li><span><a href=\"#Preambles\" data-toc-modified-id=\"Preambles-1\"><span class=\"toc-item-num\">1&nbsp;&nbsp;</span>Preambles</a></span></li><li><span><a href=\"#Static-part\" data-toc-modified-id=\"Static-part-2\"><span class=\"toc-item-num\">2&nbsp;&nbsp;</span>Static part</a></span></li><li><span><a href=\"#Dynamical-part\" data-toc-modified-id=\"Dynamical-part-3\"><span class=\"toc-item-num\">3&nbsp;&nbsp;</span>Dynamical part</a></span></li><li><span><a href=\"#Analyze-results\" data-toc-modified-id=\"Analyze-results-4\"><span class=\"toc-item-num\">4&nbsp;&nbsp;</span>Analyze results</a></span></li><li><span><a href=\"#Sweep-coupling\" data-toc-modified-id=\"Sweep-coupling-5\"><span class=\"toc-item-num\">5&nbsp;&nbsp;</span>Sweep coupling</a></span></li><li><span><a href=\"#Optimize-coupling\" data-toc-modified-id=\"Optimize-coupling-6\"><span class=\"toc-item-num\">6&nbsp;&nbsp;</span>Optimize coupling</a></span></li><li><span><a href=\"#Try-some-rotations-+-iSWAP-here\" data-toc-modified-id=\"Try-some-rotations-+-iSWAP-here-7\"><span class=\"toc-item-num\">7&nbsp;&nbsp;</span>Try some rotations + iSWAP here</a></span><ul class=\"toc-item\"><li><span><a href=\"#Correct-single-qubit-gates\" data-toc-modified-id=\"Correct-single-qubit-gates-7.1\"><span class=\"toc-item-num\">7.1&nbsp;&nbsp;</span>Correct single qubit gates</a></span></li></ul></li></ul></div>"
   ]
  },
  {
   "cell_type": "markdown",
   "metadata": {},
   "source": [
    "# Preambles"
   ]
  },
  {
   "cell_type": "code",
   "execution_count": 1,
   "metadata": {
    "ExecuteTime": {
     "end_time": "2021-09-21T21:59:16.475775Z",
     "start_time": "2021-09-21T21:59:15.452308Z"
    }
   },
   "outputs": [
    {
     "data": {
      "image/png": "[encoded data removed]",
      "text/plain": [
       "<Figure size 720x504 with 1 Axes>"
      ]
     },
     "metadata": {
      "needs_background": "light"
     },
     "output_type": "display_data"
    }
   ],
   "source": [
    "import numpy as np\n",
    "from matplotlib import pyplot as plt\n",
    "from qutip import*\n",
    "from scipy.special import eval_hermite as hpoly\n",
    "import sys\n",
    "sys.path.append('/Users/longnguyen/Documents/GitHub/Fluxonium_berkeley/')\n",
    "from Fluxonium_hamiltonians import Single_small_junction as fluxonium\n",
    "from Fluxonium_hamiltonians import qchard_pshapes as pshapes\n",
    "from Fluxonium_hamiltonians import qchard_evolgates as evol_gates\n",
    "from Fluxonium_hamiltonians import qchard_evolgates_twod as evol_gates_2d\n",
    "import plotting_settings\n",
    "import scipy.linalg\n",
    "from qutip.qip.operations import*"
   ]
  },
  {
   "cell_type": "markdown",
   "metadata": {},
   "source": [
    "# Static part"
   ]
  },
  {
   "cell_type": "code",
   "execution_count": 2,
   "metadata": {
    "ExecuteTime": {
     "end_time": "2021-09-21T21:59:17.147978Z",
     "start_time": "2021-09-21T21:59:17.136284Z"
    }
   },
   "outputs": [],
   "source": [
    "#Define coupled two-level system Hamiltonian\n",
    "IZ = tensor(qeye(2), sigmaz())\n",
    "ZI = tensor(sigmaz(), qeye(2))\n",
    "XI = tensor(sigmax(), qeye(2))\n",
    "IX = tensor(qeye(2), sigmax())\n",
    "YI = tensor(sigmay(), qeye(2))\n",
    "IY = tensor(qeye(2), sigmay())\n",
    "XX = tensor(sigmax(), sigmax())\n",
    "\n",
    "def two_q_hamiltonian(w1, w2, J):\n",
    "    return -0.5*w1*ZI - 0.5*w2*IZ + J*XX\n",
    "\n",
    "#Static part\n",
    "w1 = 5.2\n",
    "w2 = 5.3\n",
    "#Static part\n",
    "#Ravi's paper LO is at 5.425 GHz, detuned by -130MHz, qubit 4 is at 5.25 GHz, qubit 4 is at 5.3\n",
    "#zeta_ZZ -> 4 MHz, driven with same aplitubes\n",
    "\n",
    "J = 5e-3 #GHz\n",
    "H0 = two_q_hamiltonian(w1, w2, J)\n",
    "eig_energies, eig_states = H0.eigenstates() #System"
   ]
  },
  {
   "cell_type": "code",
   "execution_count": 3,
   "metadata": {
    "ExecuteTime": {
     "end_time": "2021-09-21T21:59:17.916367Z",
     "start_time": "2021-09-21T21:59:17.912682Z"
    }
   },
   "outputs": [],
   "source": [
    "state_00 = eig_states[0]\n",
    "state_01 = eig_states[2]\n",
    "state_10 = eig_states[1]\n",
    "state_11 = eig_states[3]\n",
    "sup_state_p0 = (state_00 + state_10)/np.sqrt(2)\n",
    "sup_state_p1 = (state_01 + state_11)/np.sqrt(2)\n",
    "sup_state_0p = (state_00 + state_01)/np.sqrt(2)\n",
    "sup_state_1p = (state_10 + state_11)/np.sqrt(2)"
   ]
  },
  {
   "cell_type": "markdown",
   "metadata": {},
   "source": [
    "# Dynamical part"
   ]
  },
  {
   "cell_type": "code",
   "execution_count": 4,
   "metadata": {
    "ExecuteTime": {
     "end_time": "2021-09-21T21:59:21.758568Z",
     "start_time": "2021-09-21T21:59:19.376169Z"
    }
   },
   "outputs": [],
   "source": [
    "#Driving part\n",
    "delta_omega_d = 30e-3\n",
    "coupl_const = 50 #MHz\n",
    "coupl_const = coupl_const*1e-3 * 2 *np.pi\n",
    "\n",
    "drive_freq1 = eig_energies[1]-eig_energies[0] - delta_omega_d #qubit A\n",
    "drive_freq2 = eig_energies[2]-eig_energies[0] + delta_omega_d #qubit B\n",
    "\n",
    "H1 = coupl_const*(XI) \n",
    "H2 = coupl_const*(IX)\n",
    "\n",
    "#Gate parameters\n",
    "T_start = 0\n",
    "T_gate = 300\n",
    "# shape = 'gauss'\n",
    "shape = 'cosflattop'\n",
    "sigma = 0.25\n",
    "T_rise = 50\n",
    "drag = False\n",
    "drag_coeff = 0.3\n",
    "t_points = np.linspace(0,T_gate, 2*int(T_gate)+1)\n",
    "\n",
    "#Using propagator\n",
    "H_dum = tensor(qeye(2), qeye(2))\n",
    "U_t = evol_gates_2d.evolution_operator_microwave_nonorm(H0,H1,H2, t_points=t_points, DRAG = drag, DRAG_coefficient = drag_coeff,\n",
    "        T_gate=T_gate, shape=shape, sigma=sigma, T_rise = T_rise, omega_d1=drive_freq1, omega_d2 = drive_freq2)\n",
    "# U_nothing = gates.evolution_operator_microwave(-H0,H_dum, t_points=t_points, DRAG = drag, DRAG_coefficient = drag_coeff,\n",
    "#         T_gate=T_gate, shape=shape, sigma=sigma, T_rise = T_rise, omega_d=drive_freq1)"
   ]
  },
  {
   "cell_type": "markdown",
   "metadata": {},
   "source": [
    "# Analyze results"
   ]
  },
  {
   "cell_type": "code",
   "execution_count": null,
   "metadata": {
    "ExecuteTime": {
     "end_time": "2021-09-21T21:31:30.200829Z",
     "start_time": "2021-09-21T21:31:29.664170Z"
    }
   },
   "outputs": [],
   "source": [
    "transition_00_00 = expect(state_00*state_00.dag(), U_t*state_00)\n",
    "transition_00_10 = expect(state_10*state_10.dag(), U_t*state_00)\n",
    "transition_00_01 = expect(state_01*state_01.dag(), U_t*state_00)\n",
    "transition_00_11 = expect(state_11*state_11.dag(), U_t*state_00)\n",
    "\n",
    "plt.plot(t_points, transition_00_00, label = '00')\n",
    "plt.plot(t_points, transition_00_10, label = '10')\n",
    "plt.plot(t_points, transition_00_01, label = '01')\n",
    "plt.plot(t_points, transition_00_11, label = '11')\n",
    "plt.legend()"
   ]
  },
  {
   "cell_type": "code",
   "execution_count": null,
   "metadata": {
    "ExecuteTime": {
     "end_time": "2021-09-21T21:31:33.009841Z",
     "start_time": "2021-09-21T21:31:32.512136Z"
    }
   },
   "outputs": [],
   "source": [
    "transition_01_10 = expect(state_10*state_10.dag(), U_t*state_01)\n",
    "transition_01_10 = expect(state_10*state_10.dag(), U_t*state_00)\n",
    "transition_01_01 = expect(state_01*state_01.dag(), U_t*state_00)\n",
    "transition_01_11 = expect(state_11*state_11.dag(), U_t*state_00)\n",
    "\n",
    "plt.plot(t_points, transition_01_10, label = '10')\n",
    "# plt.plot(t_points, transition_00_10, label = '10')\n",
    "# plt.plot(t_points, transition_00_01, label = '01')\n",
    "# plt.plot(t_points, transition_00_11, label = '11')\n",
    "plt.legend()"
   ]
  },
  {
   "cell_type": "code",
   "execution_count": null,
   "metadata": {
    "ExecuteTime": {
     "end_time": "2021-09-17T19:49:32.626531Z",
     "start_time": "2021-09-17T19:49:32.437241Z"
    }
   },
   "outputs": [],
   "source": [
    "phase_ZI = np.zeros_like(t_points)\n",
    "phase_IZ = np.zeros_like(t_points)\n",
    "phase_ZZ = np.zeros_like(t_points)\n",
    "U_rw = U_nothing*U_t\n",
    "\n",
    "for tind in range(len(t_points)):\n",
    "    u00 = U_rw [tind].matrix_element(state_00.dag(), state_00)\n",
    "    u01 = U_rw [tind].matrix_element(state_01.dag(), state_01)\n",
    "    u10 = U_rw [tind].matrix_element(state_10.dag(), state_10)\n",
    "    u11 = U_rw [tind].matrix_element(state_11.dag(), state_11)\n",
    "    phase_ZI[tind] = (np.angle(u00*u01 / (u10*u11)))\n",
    "    phase_IZ[tind] = (np.angle(u00*u10 / (u01*u11)))\n",
    "    phase_ZZ[tind] = (np.angle(u00*u11 / (u10*u01)))\n",
    "    \n",
    "phase_ZI = np.unwrap (phase_ZI)\n",
    "phase_IZ = np.unwrap (phase_IZ)\n",
    "phase_ZZ = np.unwrap (phase_ZZ)"
   ]
  },
  {
   "cell_type": "code",
   "execution_count": null,
   "metadata": {
    "ExecuteTime": {
     "end_time": "2021-09-17T19:49:38.113693Z",
     "start_time": "2021-09-17T19:49:37.974253Z"
    }
   },
   "outputs": [],
   "source": [
    "plt.plot(t_points, (phase_IZ))\n",
    "plt.plot(t_points, (phase_ZI))\n",
    "zeta_IZ = (phase_IZ[-1] - phase_IZ[0])/(t_points[-1]*2*np.pi)*1e3\n",
    "zeta_ZI = (phase_ZI[-1] - phase_ZI[0])/(t_points[-1]*2*np.pi)*1e3\n",
    "\n",
    "print (zeta_ZI)\n",
    "print (zeta_IZ)\n",
    "\n",
    "# U_t[250]*state_00 "
   ]
  },
  {
   "cell_type": "code",
   "execution_count": null,
   "metadata": {
    "ExecuteTime": {
     "end_time": "2021-09-17T19:49:43.630100Z",
     "start_time": "2021-09-17T19:49:43.458485Z"
    }
   },
   "outputs": [],
   "source": [
    "zeta_ZZ = (phase_ZZ[-1] - phase_ZZ[0])/(t_points[-1]*2*np.pi)*1e3\n",
    "print (zeta_ZZ)\n",
    "plt.plot(t_points, (phase_ZZ))"
   ]
  },
  {
   "cell_type": "markdown",
   "metadata": {},
   "source": [
    "# Sweep coupling"
   ]
  },
  {
   "cell_type": "code",
   "execution_count": 8,
   "metadata": {
    "ExecuteTime": {
     "end_time": "2021-09-21T22:06:28.956036Z",
     "start_time": "2021-09-21T22:04:24.541310Z"
    }
   },
   "outputs": [],
   "source": [
    "coupl_array = np.linspace(60,90,61)\n",
    "trans_prob = np.zeros((len(coupl_array), 4))\n",
    "for idx, coupl in enumerate(coupl_array):\n",
    "#     print (idx)\n",
    "    coupl_const = coupl*1e-3 * 2 *np.pi\n",
    "    H1 = coupl_const*(XI) #Driving both qubits at this frequency\\\n",
    "    H2 = coupl_const*(IX)\n",
    "    U_t = evol_gates_2d.evolution_operator_microwave_nonorm(H0,H1,H2, t_points=t_points, DRAG = drag, DRAG_coefficient = drag_coeff,\n",
    "            T_gate=T_gate, shape=shape, sigma=sigma, T_rise = T_rise, omega_d1=drive_freq1, omega_d2 = drive_freq2)\n",
    "    trans_prob[idx, 0] = expect(state_00*state_00.dag(), U_t[-1]*state_01)\n",
    "    trans_prob[idx, 1] = expect(state_10*state_10.dag(), U_t[-1]*state_01)\n",
    "    trans_prob[idx, 2] = expect(state_01*state_01.dag(), U_t[-1]*state_01)\n",
    "    trans_prob[idx, 3] = expect(state_11*state_11.dag(), U_t[-1]*state_01)"
   ]
  },
  {
   "cell_type": "code",
   "execution_count": 9,
   "metadata": {
    "ExecuteTime": {
     "end_time": "2021-09-21T22:06:31.152674Z",
     "start_time": "2021-09-21T22:06:30.998141Z"
    }
   },
   "outputs": [
    {
     "data": {
      "text/plain": [
       "<matplotlib.legend.Legend at 0x7f7f115ac820>"
      ]
     },
     "execution_count": 9,
     "metadata": {},
     "output_type": "execute_result"
    },
    {
     "data": {
      "image/png": "[encoded data removed]",
      "text/plain": [
       "<Figure size 432x288 with 1 Axes>"
      ]
     },
     "metadata": {
      "needs_background": "light"
     },
     "output_type": "display_data"
    }
   ],
   "source": [
    "# plt.plot(coupl_array, tr÷ans_prob[:,0],label='01-00')\n",
    "plt.plot(coupl_array, trans_prob[:,1],label='01-10')\n",
    "# plt.plot(coupl_array, trans_prob[:,2],label='01-01')\n",
    "# plt.plot(coupl_array, trans_prob[:,3],label='01-11')\n",
    "plt.xlabel('Coupling (MHz)')\n",
    "plt.ylabel('P')\n",
    "plt.legend()"
   ]
  },
  {
   "cell_type": "markdown",
   "metadata": {
    "ExecuteTime": {
     "end_time": "2021-09-21T22:00:33.385159Z",
     "start_time": "2021-09-21T22:00:33.383439Z"
    }
   },
   "source": [
    "# Optimize coupling"
   ]
  },
  {
   "cell_type": "markdown",
   "metadata": {},
   "source": [
    "# Try some rotations + iSWAP here"
   ]
  },
  {
   "cell_type": "code",
   "execution_count": null,
   "metadata": {
    "ExecuteTime": {
     "end_time": "2021-09-17T22:09:54.279136Z",
     "start_time": "2021-09-17T22:09:54.276203Z"
    }
   },
   "outputs": [],
   "source": [
    "#Define ZZ gate\n",
    "def rzz(phase):\n",
    "    gate = np.diag([1,1,1, np.exp(-1j*phase)])\n",
    "    gate = Qobj(gate)\n",
    "    gate.dims = [[2, 2], [2, 2]]\n",
    "    return gate"
   ]
  },
  {
   "cell_type": "code",
   "execution_count": null,
   "metadata": {
    "ExecuteTime": {
     "end_time": "2021-09-17T21:44:46.859015Z",
     "start_time": "2021-09-17T21:44:46.855217Z"
    }
   },
   "outputs": [],
   "source": [
    "#Define general iswap gate\n",
    "def iswapp(phase_01, phase_10, phase_11):\n",
    "    gate = np.diag(np.zeros((4), dtype = complex))\n",
    "    gate[0,0] = 1\n",
    "    gate[1,2] = np.exp(1j*phase_01)\n",
    "    gate[2,1] = np.exp(1j*phase_10)\n",
    "    gate[3,3] = np.exp(1j*phase_11)\n",
    "    gate = Qobj(gate)\n",
    "    gate.dims = [[2, 2], [2, 2]]\n",
    "    return gate"
   ]
  },
  {
   "cell_type": "code",
   "execution_count": null,
   "metadata": {
    "ExecuteTime": {
     "end_time": "2021-09-18T03:53:23.081893Z",
     "start_time": "2021-09-18T03:53:23.078314Z"
    }
   },
   "outputs": [],
   "source": [
    "print(iswapp(np.pi/2,np.pi/2,np.pi))"
   ]
  },
  {
   "cell_type": "markdown",
   "metadata": {},
   "source": [
    "## Correct single qubit gates"
   ]
  },
  {
   "cell_type": "code",
   "execution_count": null,
   "metadata": {
    "ExecuteTime": {
     "end_time": "2021-09-18T04:10:52.161219Z",
     "start_time": "2021-09-18T04:10:48.660726Z"
    }
   },
   "outputs": [],
   "source": [
    "from qutip.qip.operations import*\n",
    "state_0 = basis(2,0)\n",
    "state_1 = basis(2,1)\n",
    "state_pX = (state_0 + state_1)/np.sqrt(2)\n",
    "state_mX = (state_0 - state_1)/np.sqrt(2)\n",
    "state_pY = (state_0 + 1j*state_1)/np.sqrt(2)\n",
    "state_mY = (state_0 - 1j*state_1)/np.sqrt(2)\n",
    "\n",
    "phase_array = np.linspace(-np.pi, np.pi, 6001)\n",
    "result = np.zeros_like(phase_array)\n",
    "\n",
    "#Here, we assume an iswap with some errors\n",
    "phase_01 = np.pi/2 + 0.2\n",
    "phase_10 = np.pi/2 + 0.3\n",
    "phase_11 = 0.15\n",
    "U = iswapp(phase_01, phase_10, phase_11)\n",
    "# U = iswap() * tensor(rz(phase_10), qeye(2)) * tensor(qeye(2), rz(phase_01)) * rzz(phase_11)\n",
    "print (np.angle(U[1,2])-np.pi/2)\n",
    "\n",
    "# Now, we sweep the single qubit phases to check\n",
    "ini_state = tensor(state_pX, state_0) #+0\n",
    "meas_op = tensor(state_0*state_0.dag(), state_mY*state_mY.dag())\n",
    "\n",
    "for idx, p in enumerate(phase_array):\n",
    "    gate = tensor(qeye(2), rz(p)) * U\n",
    "    result[idx] = expect(meas_op, gate*ini_state)\n",
    "    \n",
    "plt.plot(phase_array, result)\n",
    "print (phase_array[np.argmin(result)])\n"
   ]
  },
  {
   "cell_type": "code",
   "execution_count": null,
   "metadata": {
    "ExecuteTime": {
     "end_time": "2021-09-18T04:04:37.274042Z",
     "start_time": "2021-09-18T04:04:33.745159Z"
    }
   },
   "outputs": [],
   "source": [
    "U = iswapp(phase_01, phase_10, phase_11)\n",
    "print (np.angle(U[2,1])-np.pi/2)\n",
    "\n",
    "# Now, we sweep the single qubit phases to check\n",
    "ini_state = tensor(state_0, state_pX)\n",
    "meas_op = tensor(state_mY*state_mY.dag(), state_0*state_0.dag())\n",
    "\n",
    "for idx, p in enumerate(phase_array):\n",
    "    gate = tensor(rz(p), qeye(2)) * U\n",
    "    result[idx] = expect(meas_op, gate*ini_state)\n",
    "    \n",
    "plt.plot(phase_array, result)\n",
    "print (phase_array[np.argmin(result)])"
   ]
  },
  {
   "cell_type": "code",
   "execution_count": null,
   "metadata": {
    "ExecuteTime": {
     "end_time": "2021-09-18T04:11:01.763144Z",
     "start_time": "2021-09-18T04:11:01.759048Z"
    }
   },
   "outputs": [],
   "source": [
    "Uni = tensor(rz(-0.3), rz(-0.2)) * U\n",
    "u11 = Uni[3,3]\n",
    "u00 = Uni[0,0]\n",
    "print (np.angle(u11/u00))"
   ]
  },
  {
   "cell_type": "code",
   "execution_count": null,
   "metadata": {
    "ExecuteTime": {
     "end_time": "2021-09-18T04:11:12.498365Z",
     "start_time": "2021-09-18T04:11:08.323191Z"
    }
   },
   "outputs": [],
   "source": [
    "U = iswapp(phase_01, phase_10, phase_11)\n",
    "\n",
    "# Now, we sweep the ZZ phase to check\n",
    "ini_state = tensor(state_mX, state_pX)\n",
    "meas_op = tensor(state_pX*state_pX.dag(), state_pX*state_pX.dag())\n",
    "\n",
    "for idx, p in enumerate(phase_array):\n",
    "    gate = tensor(rz(-0.3), rz(-0.2+p)) * U\n",
    "    result[idx] = expect(meas_op, gate*ini_state)\n",
    "    \n",
    "plt.plot(phase_array, result)\n",
    "print (phase_array[np.argmin(result)])"
   ]
  },
  {
   "cell_type": "code",
   "execution_count": null,
   "metadata": {
    "ExecuteTime": {
     "end_time": "2021-09-18T03:49:17.674725Z",
     "start_time": "2021-09-18T03:49:17.670465Z"
    }
   },
   "outputs": [],
   "source": [
    "print (cphase(np.pi))"
   ]
  },
  {
   "cell_type": "code",
   "execution_count": null,
   "metadata": {
    "ExecuteTime": {
     "end_time": "2021-09-18T04:24:15.363677Z",
     "start_time": "2021-09-18T04:24:15.360589Z"
    }
   },
   "outputs": [],
   "source": [
    "print (ry(np.pi/2))"
   ]
  },
  {
   "cell_type": "code",
   "execution_count": null,
   "metadata": {},
   "outputs": [],
   "source": []
  },
  {
   "cell_type": "code",
   "execution_count": null,
   "metadata": {
    "ExecuteTime": {
     "end_time": "2021-09-17T21:05:09.046494Z",
     "start_time": "2021-09-17T21:05:07.897146Z"
    }
   },
   "outputs": [],
   "source": [
    "U = iswap()*tensor(rz(0.2), qeye(2))*tensor(qeye(2), rz(0.5))*rzz(0.1)\n",
    "U = U*tensor(rz(-1.1), qeye(2))\n",
    "# U = U*tensor(rz(-0.2), qeye(2))*tensor(qeye(2), rz(-0.5))\n",
    "for idx, p in enumerate(phase_array):\n",
    "    gate = U*tensor(rz(p), qeye(2)) * U * tensor(rz(p), qeye(2))\n",
    "    result[idx] = expect(meas_op, gate*tensor(state_sup, state_sup))\n",
    "plt.plot(phase_array, result)\n",
    "print (phase_array[np.argmin(result)])"
   ]
  },
  {
   "cell_type": "code",
   "execution_count": null,
   "metadata": {
    "ExecuteTime": {
     "end_time": "2021-09-17T23:23:57.998411Z",
     "start_time": "2021-09-17T23:23:57.994002Z"
    }
   },
   "outputs": [],
   "source": [
    "U_real = iswapp(np.pi/2+0.02, np.pi/2+0.02, 17*np.pi/180)\n",
    "U_ideal = iswap()\n",
    "op1 = U_real.dag() * U_real\n",
    "op2 = U_real * U_ideal.dag()\n",
    "fidel = (op1.tr() + (abs(op2.tr())) ** 2) / 20.0\n",
    "print (fidel)\n",
    "# print (U)"
   ]
  },
  {
   "cell_type": "code",
   "execution_count": null,
   "metadata": {},
   "outputs": [],
   "source": []
  },
  {
   "cell_type": "code",
   "execution_count": null,
   "metadata": {
    "ExecuteTime": {
     "end_time": "2021-09-17T04:34:18.941516Z",
     "start_time": "2021-09-17T04:34:17.534840Z"
    }
   },
   "outputs": [],
   "source": [
    "phase_array = np.linspace(-2*np.pi, 2*np.pi, 1001)\n",
    "result = np.zeros_like(phase_array)\n",
    "U = iswap()\n",
    "meas_op = tensor(state_sup*state_sup.dag(), state_sup*state_sup.dag())\n",
    "\n",
    "for idx, p in enumerate(phase_array):\n",
    "    gate = U*tensor(rz(p), qeye(2)) * U * tensor(rz(p), qeye(2))\n",
    "    result[idx] = expect(meas_op, gate*tensor(state_sup, state_sup))\n",
    "plt.plot(phase_array, result)"
   ]
  },
  {
   "cell_type": "code",
   "execution_count": null,
   "metadata": {
    "ExecuteTime": {
     "end_time": "2021-09-17T23:06:35.251110Z",
     "start_time": "2021-09-17T23:06:35.243606Z"
    }
   },
   "outputs": [],
   "source": [
    "U=iswapp(np.pi/2+0.00, np.pi/2+0.00, 17*np.pi/180)\n",
    "state_p = (state_0 + state_1)/np.sqrt(2)\n",
    "state_m = (state_0 - state_1)/np.sqrt(2)\n",
    "ini_state_array = [tensor(state_p,state_p), tensor(state_p,state_m), tensor(state_m,state_p), tensor(state_m,state_m)]\n",
    "meas_op = [tensor(state_p*state_p.dag(), state_p*state_p.dag()), tensor(state_p*state_p.dag(), state_m*state_m.dag()), tensor(state_m*state_m.dag(), state_p*state_p.dag()), tensor(state_m*state_m.dag(), state_m*state_m.dag())]"
   ]
  },
  {
   "cell_type": "code",
   "execution_count": null,
   "metadata": {
    "ExecuteTime": {
     "end_time": "2021-09-17T23:06:40.973944Z",
     "start_time": "2021-09-17T23:06:40.969230Z"
    }
   },
   "outputs": [],
   "source": [
    "result = np.zeros((4,4))\n",
    "for idx, state in enumerate(ini_state_array):\n",
    "    for idy, meas in enumerate(meas_op):\n",
    "        result[idx,idy] = expect(meas,U*state)"
   ]
  },
  {
   "cell_type": "code",
   "execution_count": null,
   "metadata": {
    "ExecuteTime": {
     "end_time": "2021-09-17T23:06:46.541892Z",
     "start_time": "2021-09-17T23:06:46.538589Z"
    }
   },
   "outputs": [],
   "source": [
    "print (result)"
   ]
  },
  {
   "cell_type": "code",
   "execution_count": null,
   "metadata": {
    "ExecuteTime": {
     "end_time": "2021-09-17T22:43:43.157445Z",
     "start_time": "2021-09-17T22:43:42.272895Z"
    }
   },
   "outputs": [],
   "source": [
    "prep_generator = [qeye(2), ry(np.pi/2.0), rx(np.pi/2.0), sigmax()]\n",
    "prep_rotations = []\n",
    "for q1gate in prep_generator:\n",
    "    for q2gate in prep_generator:\n",
    "        gate = (tensor(q1gate, q2gate))\n",
    "        prep_rotations.append(gate)\n",
    "\n",
    "meas_generator = [qeye(2), sigmax(), sigmay(), sigmaz()]\n",
    "meas_rotations = []\n",
    "for q1gate in meas_generator:\n",
    "    for q2gate in meas_generator:\n",
    "        gate = (tensor(q1gate, q2gate))\n",
    "        meas_rotations.append(gate)\n",
    "        \n",
    "p_in = np.zeros((16,16)) \n",
    "p_out = np.zeros((16,16)) \n",
    "\n",
    "gnd_state = tensor(basis(2,0), basis(2,0))\n",
    "# gate_op = tensor(qeye(2), rx(np.pi/2))\n",
    "# gate_op = tensor(rx(np.pi/2), qeye(2))\n",
    "# gate_op = cnot()\n",
    "# gate_op = cphase(np.pi)\n",
    "# gate_op = iswap()*tensor(rz(1.1), qeye(2))*tensor(qeye(2),rz(0.9))\n",
    "gate_op = iswap()\n",
    "for i, rot_i in enumerate(prep_rotations):\n",
    "    for j, rot_j in enumerate(meas_rotations):\n",
    "        p_in[i,j] = expect(rot_j, rot_i*gnd_state)\n",
    "        p_out[i,j] = expect(rot_j, gate_op*(rot_i*gnd_state))        \n",
    "ptm_ideal_2q = np.linalg.lstsq(p_in, p_out)[0]\n",
    "\n",
    "str_primitive = [\"I\",\"X\",\"Y\",\"Z\"]\n",
    "op_label = []\n",
    "for prim1 in str_primitive:\n",
    "    for prim2 in str_primitive:\n",
    "        op_label.append(prim1+prim2)\n",
    "# print (op_label)\n",
    "qutip.hinton(ptm_ideal_2q, xlabels = op_label, ylabels = op_label)"
   ]
  },
  {
   "cell_type": "code",
   "execution_count": null,
   "metadata": {
    "ExecuteTime": {
     "end_time": "2021-09-17T22:46:55.581200Z",
     "start_time": "2021-09-17T22:46:55.577727Z"
    }
   },
   "outputs": [],
   "source": [
    "print (iswap())"
   ]
  },
  {
   "cell_type": "code",
   "execution_count": null,
   "metadata": {},
   "outputs": [],
   "source": []
  },
  {
   "cell_type": "code",
   "execution_count": null,
   "metadata": {},
   "outputs": [],
   "source": []
  },
  {
   "cell_type": "code",
   "execution_count": null,
   "metadata": {},
   "outputs": [],
   "source": []
  },
  {
   "cell_type": "code",
   "execution_count": null,
   "metadata": {},
   "outputs": [],
   "source": []
  },
  {
   "cell_type": "code",
   "execution_count": null,
   "metadata": {},
   "outputs": [],
   "source": []
  },
  {
   "cell_type": "code",
   "execution_count": null,
   "metadata": {},
   "outputs": [],
   "source": []
  },
  {
   "cell_type": "code",
   "execution_count": null,
   "metadata": {
    "ExecuteTime": {
     "end_time": "2021-09-16T22:20:50.787859Z",
     "start_time": "2021-09-16T22:20:49.536845Z"
    }
   },
   "outputs": [],
   "source": [
    "U = iswap()*tensor(rz(0.1), qeye(2))*tensor(qeye(2), rz(0.5))\n",
    "U = U * tensor(rz(-0.5969026041820604), qeye(2))\n",
    "print (U)\n",
    "for idx, p in enumerate(phase_array):\n",
    "    gate = U*tensor(qeye(2), rz(p))*U*tensor(qeye(2), rz(p))\n",
    "    result[idx] = expect(meas_op, gate*tensor(state_sup, state_0))\n",
    "plt.plot(phase_array, result)\n",
    "print (phase_array[np.argmin(result)])"
   ]
  },
  {
   "cell_type": "code",
   "execution_count": null,
   "metadata": {},
   "outputs": [],
   "source": []
  }
 ],
 "metadata": {
  "kernelspec": {
   "display_name": "Python 3",
   "language": "python",
   "name": "python3"
  },
  "language_info": {
   "codemirror_mode": {
    "name": "ipython",
    "version": 3
   },
   "file_extension": ".py",
   "mimetype": "text/x-python",
   "name": "python",
   "nbconvert_exporter": "python",
   "pygments_lexer": "ipython3",
   "version": "3.8.5"
  },
  "latex_envs": {
   "LaTeX_envs_menu_present": true,
   "autoclose": false,
   "autocomplete": true,
   "bibliofile": "biblio.bib",
   "cite_by": "apalike",
   "current_citInitial": 1,
   "eqLabelWithNumbers": true,
   "eqNumInitial": 1,
   "hotkeys": {
    "equation": "Ctrl-E",
    "itemize": "Ctrl-I"
   },
   "labels_anchors": false,
   "latex_user_defs": false,
   "report_style_numbering": false,
   "user_envs_cfg": false
  },
  "toc": {
   "base_numbering": 1,
   "nav_menu": {},
   "number_sections": true,
   "sideBar": true,
   "skip_h1_title": false,
   "title_cell": "Table of Contents",
   "title_sidebar": "Contents",
   "toc_cell": true,
   "toc_position": {
    "height": "calc(100% - 180px)",
    "left": "10px",
    "top": "150px",
    "width": "286.712px"
   },
   "toc_section_display": true,
   "toc_window_display": true
  },
  "varInspector": {
   "cols": {
    "lenName": 16,
    "lenType": 16,
    "lenVar": 40
   },
   "kernels_config": {
    "python": {
     "delete_cmd_postfix": "",
     "delete_cmd_prefix": "del ",
     "library": "var_list.py",
     "varRefreshCmd": "print(var_dic_list())"
    },
    "r": {
     "delete_cmd_postfix": ") ",
     "delete_cmd_prefix": "rm(",
     "library": "var_list.r",
     "varRefreshCmd": "cat(var_dic_list()) "
    }
   },
   "types_to_exclude": [
    "module",
    "function",
    "builtin_function_or_method",
    "instance",
    "_Feature"
   ],
   "window_display": false
  }
 },
 "nbformat": 4,
 "nbformat_minor": 4
}
