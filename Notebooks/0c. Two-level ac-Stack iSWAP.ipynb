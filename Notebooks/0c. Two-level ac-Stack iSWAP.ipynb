{
 "cells": [
  {
   "cell_type": "markdown",
   "metadata": {
    "toc": true
   },
   "source": [
    "<h1>Table of Contents<span class=\"tocSkip\"></span></h1>\n",
    "<div class=\"toc\"><ul class=\"toc-item\"><li><span><a href=\"#Preambles\" data-toc-modified-id=\"Preambles-1\"><span class=\"toc-item-num\">1&nbsp;&nbsp;</span>Preambles</a></span></li><li><span><a href=\"#Transmon-parameters\" data-toc-modified-id=\"Transmon-parameters-2\"><span class=\"toc-item-num\">2&nbsp;&nbsp;</span>Transmon parameters</a></span></li><li><span><a href=\"#Unitary-relations\" data-toc-modified-id=\"Unitary-relations-3\"><span class=\"toc-item-num\">3&nbsp;&nbsp;</span>Unitary relations</a></span><ul class=\"toc-item\"><li><span><a href=\"#Berkeley-gate\" data-toc-modified-id=\"Berkeley-gate-3.1\"><span class=\"toc-item-num\">3.1&nbsp;&nbsp;</span>Berkeley gate</a></span></li></ul></li><li><span><a href=\"#Static-part\" data-toc-modified-id=\"Static-part-4\"><span class=\"toc-item-num\">4&nbsp;&nbsp;</span>Static part</a></span></li><li><span><a href=\"#Dynamical-part\" data-toc-modified-id=\"Dynamical-part-5\"><span class=\"toc-item-num\">5&nbsp;&nbsp;</span>Dynamical part</a></span></li><li><span><a href=\"#Analyze-results\" data-toc-modified-id=\"Analyze-results-6\"><span class=\"toc-item-num\">6&nbsp;&nbsp;</span>Analyze results</a></span></li><li><span><a href=\"#Sweep-coupling\" data-toc-modified-id=\"Sweep-coupling-7\"><span class=\"toc-item-num\">7&nbsp;&nbsp;</span>Sweep coupling</a></span></li><li><span><a href=\"#Calibrate-gate\" data-toc-modified-id=\"Calibrate-gate-8\"><span class=\"toc-item-num\">8&nbsp;&nbsp;</span>Calibrate gate</a></span></li><li><span><a href=\"#Try-some-rotations-+-iSWAP-here\" data-toc-modified-id=\"Try-some-rotations-+-iSWAP-here-9\"><span class=\"toc-item-num\">9&nbsp;&nbsp;</span>Try some rotations + iSWAP here</a></span><ul class=\"toc-item\"><li><span><a href=\"#Correct-single-qubit-gates\" data-toc-modified-id=\"Correct-single-qubit-gates-9.1\"><span class=\"toc-item-num\">9.1&nbsp;&nbsp;</span>Correct single qubit gates</a></span></li></ul></li></ul></div>"
   ]
  },
  {
   "cell_type": "markdown",
   "metadata": {},
   "source": [
    "# Preambles"
   ]
  },
  {
   "cell_type": "code",
   "execution_count": 1,
   "metadata": {
    "ExecuteTime": {
     "end_time": "2022-07-23T14:06:56.954315Z",
     "start_time": "2022-07-23T14:06:55.780882Z"
    }
   },
   "outputs": [
    {
     "data": {
      "image/png": "[encoded data removed]",
      "text/plain": [
       "<Figure size 360x288 with 1 Axes>"
      ]
     },
     "metadata": {
      "needs_background": "light"
     },
     "output_type": "display_data"
    }
   ],
   "source": [
    "import numpy as np\n",
    "from matplotlib import pyplot as plt\n",
    "import qutip as qt\n",
    "from scipy.special import eval_hermite as hpoly\n",
    "from scipy.optimize import minimize\n",
    "import sys\n",
    "sys.path.append('/Users/longnguyen/Documents/GitHub/Fluxonium_berkeley/')\n",
    "from Fluxonium_hamiltonians import Single_small_junction as fluxonium\n",
    "from Fluxonium_hamiltonians import qchard_pshapes as pshapes\n",
    "from Fluxonium_hamiltonians import qchard_evolgates as evol_gates\n",
    "from Fluxonium_hamiltonians import qchard_evolgates_twod as evol_gates_2d\n",
    "import plotting_settings\n",
    "import scipy.linalg\n",
    "from qutip.qip.operations import*"
   ]
  },
  {
   "cell_type": "code",
   "execution_count": 2,
   "metadata": {
    "ExecuteTime": {
     "end_time": "2022-07-23T14:06:57.000433Z",
     "start_time": "2022-07-23T14:06:56.997573Z"
    }
   },
   "outputs": [],
   "source": [
    "def fidelity_func(U_real,U_ideal):\n",
    "    op1 = U_real.dag() * U_real\n",
    "    op2 = U_real * U_ideal.dag()\n",
    "    return (op1.tr() + (abs(op2.tr())) ** 2) / 20.0"
   ]
  },
  {
   "cell_type": "markdown",
   "metadata": {},
   "source": [
    "# Transmon parameters"
   ]
  },
  {
   "cell_type": "code",
   "execution_count": 3,
   "metadata": {
    "ExecuteTime": {
     "end_time": "2022-07-23T14:06:59.374607Z",
     "start_time": "2022-07-23T14:06:59.372474Z"
    }
   },
   "outputs": [],
   "source": [
    "f0 = 5.288412723871037 #f12 = 5.015748546534614\n",
    "f1 = 5.362283536671297 #f12 = 5.090039436549708\n",
    "f2 = 5.523370532253491 #f12 = 5.253555662779555\n",
    "f3 = 5.691686394175733 #f12 = 5.425319162117605\n",
    "fLO = 5.46"
   ]
  },
  {
   "cell_type": "code",
   "execution_count": 4,
   "metadata": {
    "ExecuteTime": {
     "end_time": "2022-07-23T14:07:00.091384Z",
     "start_time": "2022-07-23T14:06:59.940251Z"
    }
   },
   "outputs": [
    {
     "name": "stdout",
     "output_type": "stream",
     "text": [
      "0.07387081280026031\n",
      "0.19837328732132953\n",
      "5.325348130271167\n"
     ]
    },
    {
     "data": {
      "text/plain": [
       "<matplotlib.lines.Line2D at 0x7f9f5055e160>"
      ]
     },
     "execution_count": 4,
     "metadata": {},
     "output_type": "execute_result"
    },
    {
     "data": {
      "image/png": "[encoded data removed]",
      "text/plain": [
       "<Figure size 864x288 with 1 Axes>"
      ]
     },
     "metadata": {
      "needs_background": "light"
     },
     "output_type": "display_data"
    }
   ],
   "source": [
    "# 4-5 pair\n",
    "f10 = f0\n",
    "f01 = f1\n",
    "f11 = f10 + f01\n",
    "f20 = f10 + 5.015748546534614\n",
    "f02 = f01 + 5.090039436549708\n",
    "f21 = f11 + 5.015748546534614\n",
    "f12 = f11 + 5.090039436549708\n",
    "f22 = f11 + 5.015748546534614 + 5.090039436549708\n",
    "\n",
    "print(f01-f10)\n",
    "print(f11-f02)\n",
    "print(f11/2)\n",
    "plt.figure(figsize=[12,4])\n",
    "plt.yticks([])\n",
    "plt.axvline(f10, color = 'C0')\n",
    "plt.axvline(f01, color = 'C1')\n",
    "plt.axvline(f11/2, linestyle = '-.', color = 'C3')\n",
    "plt.axvline(5.015748546534614, color = 'C0', linestyle = '--')\n",
    "plt.axvline(5.090039436549708, color = 'C1', linestyle = '--')\n",
    "plt.axvline((f22-f11)/2, linestyle = '-.', color = 'C3')\n",
    "plt.axvline(5.46, linewidth =4.0, color = 'k')"
   ]
  },
  {
   "cell_type": "code",
   "execution_count": 15,
   "metadata": {
    "ExecuteTime": {
     "end_time": "2022-07-23T14:27:20.810096Z",
     "start_time": "2022-07-23T14:27:20.663781Z"
    }
   },
   "outputs": [
    {
     "name": "stdout",
     "output_type": "stream",
     "text": [
      "5.253555662779554\n",
      "-206.44433722044565\n",
      "-288.20245033536906\n"
     ]
    },
    {
     "data": {
      "text/plain": [
       "<matplotlib.lines.Line2D at 0x7f9f5138cd30>"
      ]
     },
     "execution_count": 15,
     "metadata": {},
     "output_type": "execute_result"
    },
    {
     "data": {
      "image/png": "[encoded data removed]",
      "text/plain": [
       "<Figure size 864x288 with 1 Axes>"
      ]
     },
     "metadata": {
      "needs_background": "light"
     },
     "output_type": "display_data"
    }
   ],
   "source": [
    "# 5-6 pair\n",
    "f10 = f1\n",
    "f01 = f2\n",
    "f11 = f10 + f01\n",
    "f20 = f10 + 5.090039436549708\n",
    "f02 = f01 + 5.253555662779555\n",
    "f21 = f11 + 5.090039436549708\n",
    "f12 = f11 + 5.253555662779555\n",
    "f22 = f11 + 5.090039436549708 + 5.253555662779555\n",
    "\n",
    "print(f02-f01)\n",
    "# print(f11-f02)\n",
    "# print(f11/2)\n",
    "# print((f22-f11)/2)\n",
    "# print(f02-f01-(f22-f11)/2)\n",
    "\n",
    "print (-(5.46 - (f02-f01))*1e3)\n",
    "print (-(5.46 - (f22-f11)/2)*1e3)\n",
    "plt.figure(figsize=[12,4])\n",
    "plt.yticks([])\n",
    "plt.axvline(f10, color = 'C0')\n",
    "plt.axvline(f01, color = 'C1')\n",
    "plt.axvline(f11/2, linestyle = '-.', color = 'C2')\n",
    "plt.axvline(5.090039436549708, color = 'C0', linestyle = '--')\n",
    "plt.axvline(5.253555662779555, color = 'C1', linestyle = '--')\n",
    "plt.axvline((f22-f11)/2, linestyle = '-.', color = 'C2')\n",
    "plt.axvline(5.46, linewidth =4.0, color = 'k')\n",
    "# plt.xlim([5.05,5.3])"
   ]
  },
  {
   "cell_type": "code",
   "execution_count": 36,
   "metadata": {
    "ExecuteTime": {
     "end_time": "2022-06-12T06:15:18.489935Z",
     "start_time": "2022-06-12T06:15:18.487312Z"
    }
   },
   "outputs": [
    {
     "name": "stdout",
     "output_type": "stream",
     "text": [
      "0.017172965537605833\n",
      "0.28820245033536906\n"
     ]
    }
   ],
   "source": [
    "#calculate freq: \n",
    "print(5.46 - 5.442827034462394)\n",
    "print(5.46 - 5.171797549664631)"
   ]
  },
  {
   "cell_type": "code",
   "execution_count": null,
   "metadata": {},
   "outputs": [],
   "source": []
  },
  {
   "cell_type": "markdown",
   "metadata": {},
   "source": [
    "# Unitary relations"
   ]
  },
  {
   "cell_type": "code",
   "execution_count": 18,
   "metadata": {
    "ExecuteTime": {
     "end_time": "2022-05-20T04:59:16.384947Z",
     "start_time": "2022-05-20T04:59:16.380215Z"
    }
   },
   "outputs": [
    {
     "data": {
      "text/latex": [
       "Quantum object: dims = [[2, 2], [2, 2]], shape = (4, 4), type = oper, isherm = False\\begin{equation*}\\left(\\begin{array}{*{11}c}1.0 & 0.0 & 0.0 & 0.0\\\\0.0 & 0.0 & 1.0j & 0.0\\\\0.0 & 1.0j & 0.0 & 0.0\\\\0.0 & 0.0 & 0.0 & 1.0\\\\\\end{array}\\right)\\end{equation*}"
      ],
      "text/plain": [
       "Quantum object: dims = [[2, 2], [2, 2]], shape = (4, 4), type = oper, isherm = False\n",
       "Qobj data =\n",
       "[[1.+0.j 0.+0.j 0.+0.j 0.+0.j]\n",
       " [0.+0.j 0.+0.j 0.+1.j 0.+0.j]\n",
       " [0.+0.j 0.+1.j 0.+0.j 0.+0.j]\n",
       " [0.+0.j 0.+0.j 0.+0.j 1.+0.j]]"
      ]
     },
     "execution_count": 18,
     "metadata": {},
     "output_type": "execute_result"
    }
   ],
   "source": [
    "iswap()"
   ]
  },
  {
   "cell_type": "code",
   "execution_count": 20,
   "metadata": {
    "ExecuteTime": {
     "end_time": "2022-05-20T04:59:27.954410Z",
     "start_time": "2022-05-20T04:59:27.949809Z"
    }
   },
   "outputs": [
    {
     "data": {
      "text/latex": [
       "Quantum object: dims = [[2, 2], [2, 2]], shape = (4, 4), type = oper, isherm = True\\begin{equation*}\\left(\\begin{array}{*{11}c}1.0 & 0.0 & 0.0 & 0.0\\\\0.0 & 0.0 & 1.0 & 0.0\\\\0.0 & 1.0 & 0.0 & 0.0\\\\0.0 & 0.0 & 0.0 & 1.0\\\\\\end{array}\\right)\\end{equation*}"
      ],
      "text/plain": [
       "Quantum object: dims = [[2, 2], [2, 2]], shape = (4, 4), type = oper, isherm = True\n",
       "Qobj data =\n",
       "[[1. 0. 0. 0.]\n",
       " [0. 0. 1. 0.]\n",
       " [0. 1. 0. 0.]\n",
       " [0. 0. 0. 1.]]"
      ]
     },
     "execution_count": 20,
     "metadata": {},
     "output_type": "execute_result"
    }
   ],
   "source": [
    "swap()"
   ]
  },
  {
   "cell_type": "code",
   "execution_count": 43,
   "metadata": {
    "ExecuteTime": {
     "end_time": "2022-05-20T05:09:05.279480Z",
     "start_time": "2022-05-20T05:09:05.271828Z"
    }
   },
   "outputs": [
    {
     "data": {
      "text/latex": [
       "Quantum object: dims = [[2, 2], [2, 2]], shape = (4, 4), type = oper, isherm = False\\begin{equation*}\\left(\\begin{array}{*{11}c}1.0j & 0.0 & 0.0 & 0.0\\\\0.0 & 0.0 & 1.0j & 0.0\\\\0.0 & 1.0j & 0.0 & 0.0\\\\0.0 & 0.0 & 0.0 & 1.0j\\\\\\end{array}\\right)\\end{equation*}"
      ],
      "text/plain": [
       "Quantum object: dims = [[2, 2], [2, 2]], shape = (4, 4), type = oper, isherm = False\n",
       "Qobj data =\n",
       "[[0.+1.j 0.+0.j 0.+0.j 0.+0.j]\n",
       " [0.+0.j 0.+0.j 0.+1.j 0.+0.j]\n",
       " [0.+0.j 0.+1.j 0.+0.j 0.+0.j]\n",
       " [0.+0.j 0.+0.j 0.+0.j 0.+1.j]]"
      ]
     },
     "execution_count": 43,
     "metadata": {},
     "output_type": "execute_result"
    }
   ],
   "source": [
    "gate=iswap()*cphase(np.pi)*qt.tensor(rz(-np.pi/2),rz(-np.pi/2))\n",
    "gate"
   ]
  },
  {
   "cell_type": "code",
   "execution_count": 35,
   "metadata": {
    "ExecuteTime": {
     "end_time": "2022-05-20T05:06:57.886065Z",
     "start_time": "2022-05-20T05:06:57.722041Z"
    }
   },
   "outputs": [
    {
     "name": "stdout",
     "output_type": "stream",
     "text": [
      "[-1.57079634 -1.57079634]\n",
      "0.0\n"
     ]
    }
   ],
   "source": [
    "target_unitary = swap()\n",
    "def error(x):\n",
    "    angle1, angle2 = x\n",
    "    gate_zz2 = qt.tensor(rz(angle1),rz(angle2))\n",
    "    sim_unitary = gate_zz2*gate\n",
    "    return abs(1-fidelity_func(sim_unitary,target_unitary))\n",
    "\n",
    "x0 = [0,0] #guess\n",
    "xopt = minimize(error, x0, method ='Nelder-Mead', tol = 1e-10)\n",
    "# print (phi1, phi2, (phi1+phi2)/2)\n",
    "print (xopt.x)\n",
    "print (error(xopt.x))\n",
    "# print (error([phi,phi]))"
   ]
  },
  {
   "cell_type": "code",
   "execution_count": 16,
   "metadata": {
    "ExecuteTime": {
     "end_time": "2022-05-20T04:58:40.618435Z",
     "start_time": "2022-05-20T04:58:39.101894Z"
    }
   },
   "outputs": [],
   "source": [
    "from sympy import*\n",
    "from sympy import exp, I, pi"
   ]
  },
  {
   "cell_type": "code",
   "execution_count": 17,
   "metadata": {
    "ExecuteTime": {
     "end_time": "2022-05-20T04:58:40.969387Z",
     "start_time": "2022-05-20T04:58:40.861046Z"
    }
   },
   "outputs": [],
   "source": [
    "gate_zz1 = qt.tensor(rz(-np.pi/5), rz(np.pi/3))\n",
    "gate_zz2 = qt.tensor(rz(np.pi/3), rz(-np.pi/5))\n",
    "sqisw = Matrix(sqrtiswap())\n",
    "isw = Matrix(iswap())\n",
    "sw = Matrix(swap())\n",
    "b1 = symbols('b1')\n",
    "b2 = symbols('b2')"
   ]
  },
  {
   "cell_type": "code",
   "execution_count": 72,
   "metadata": {
    "ExecuteTime": {
     "end_time": "2022-04-14T05:44:14.230529Z",
     "start_time": "2022-04-14T05:44:14.224798Z"
    }
   },
   "outputs": [],
   "source": [
    "gate1 = Matrix([[exp(-I*(b1+b2)/2), 0,0,0], [0,exp(-I*(b1-b2)/2),0,0], [0,0,exp(I*(b1-b2)/2),0], [0,0,0,exp(I*(b1+b2)/2)]])\n",
    "gate2 = Matrix([[exp(-I*(b1+b2)/2), 0,0,0], [0,exp(I*(b1-b2)/2),0,0], [0,0,exp(-I*(b1-b2)/2),0], [0,0,0,exp(I*(b1+b2)/2)]])\n",
    "\n",
    "gate3 = Matrix([[exp(-I*(b3+b4)/2), 0,0,0], [0,exp(-I*(b3-b4)/2),0,0], [0,0,exp(I*(b3-b4)/2),0], [0,0,0,exp(I*(b3+b4)/2)]])"
   ]
  },
  {
   "cell_type": "code",
   "execution_count": 79,
   "metadata": {
    "ExecuteTime": {
     "end_time": "2022-04-14T05:53:24.452165Z",
     "start_time": "2022-04-14T05:53:24.447075Z"
    }
   },
   "outputs": [
    {
     "data": {
      "text/latex": [
       "Quantum object: dims = [[2, 2], [2, 2]], shape = (4, 4), type = oper, isherm = False\\begin{equation*}\\left(\\begin{array}{*{11}c}1.0 & 0.0 & 0.0 & 0.0\\\\0.0 & 0.707 & 0.707j & 0.0\\\\0.0 & 0.707j & 0.707 & 0.0\\\\0.0 & 0.0 & 0.0 & 1.0\\\\\\end{array}\\right)\\end{equation*}"
      ],
      "text/plain": [
       "Quantum object: dims = [[2, 2], [2, 2]], shape = (4, 4), type = oper, isherm = False\n",
       "Qobj data =\n",
       "[[1.        +0.j         0.        +0.j         0.        +0.j\n",
       "  0.        +0.j        ]\n",
       " [0.        +0.j         0.70710678+0.j         0.        +0.70710678j\n",
       "  0.        +0.j        ]\n",
       " [0.        +0.j         0.        +0.70710678j 0.70710678+0.j\n",
       "  0.        +0.j        ]\n",
       " [0.        +0.j         0.        +0.j         0.        +0.j\n",
       "  1.        +0.j        ]]"
      ]
     },
     "execution_count": 79,
     "metadata": {},
     "output_type": "execute_result"
    }
   ],
   "source": [
    "sqrtiswap()"
   ]
  },
  {
   "cell_type": "code",
   "execution_count": 77,
   "metadata": {
    "ExecuteTime": {
     "end_time": "2022-04-14T05:44:49.407175Z",
     "start_time": "2022-04-14T05:44:49.393778Z"
    }
   },
   "outputs": [
    {
     "data": {
      "text/latex": [
       "$\\displaystyle \\left[\\begin{matrix}1.0 e^{\\frac{i \\left(b_{1} + b_{2}\\right)}{2}} - 1.0 e^{- \\frac{i \\left(b_{1} + b_{2}\\right)}{2}} & 0 & 0 & 0\\\\0 & 0.707106781186547 e^{\\frac{i \\left(b_{1} - b_{2}\\right)}{2}} - 0.707106781186547 e^{- \\frac{i \\left(b_{1} - b_{2}\\right)}{2}} & 0 & 0\\\\0 & 0 & - 0.707106781186547 e^{\\frac{i \\left(b_{1} - b_{2}\\right)}{2}} + 0.707106781186547 e^{- \\frac{i \\left(b_{1} - b_{2}\\right)}{2}} & 0\\\\0 & 0 & 0 & - 1.0 e^{\\frac{i \\left(b_{1} + b_{2}\\right)}{2}} + 1.0 e^{- \\frac{i \\left(b_{1} + b_{2}\\right)}{2}}\\end{matrix}\\right]$"
      ],
      "text/plain": [
       "Matrix([\n",
       "[1.0*exp(I*(b1 + b2)/2) - 1.0*exp(-I*(b1 + b2)/2),                                                                            0,                                                                             0,                                                 0],\n",
       "[                                               0, 0.707106781186547*exp(I*(b1 - b2)/2) - 0.707106781186547*exp(-I*(b1 - b2)/2),                                                                             0,                                                 0],\n",
       "[                                               0,                                                                            0, -0.707106781186547*exp(I*(b1 - b2)/2) + 0.707106781186547*exp(-I*(b1 - b2)/2),                                                 0],\n",
       "[                                               0,                                                                            0,                                                                             0, -1.0*exp(I*(b1 + b2)/2) + 1.0*exp(-I*(b1 + b2)/2)]])"
      ]
     },
     "execution_count": 77,
     "metadata": {},
     "output_type": "execute_result"
    }
   ],
   "source": [
    "sqisw*gate3 - gate1*sqisw"
   ]
  },
  {
   "cell_type": "code",
   "execution_count": 144,
   "metadata": {
    "ExecuteTime": {
     "end_time": "2022-04-16T01:47:04.662382Z",
     "start_time": "2022-04-16T01:47:04.463069Z"
    }
   },
   "outputs": [
    {
     "name": "stdout",
     "output_type": "stream",
     "text": [
      "0.980085950219896 0.6659475477788028 0.8230167489993494\n",
      "[0.82301675 0.82301675]\n",
      "0.009817714739125072\n",
      "0.009817714739125072\n"
     ]
    }
   ],
   "source": [
    "phi1 = np.random.rand()\n",
    "phi2 = np.random.rand()\n",
    "phi = np.mean([phi1,phi2])\n",
    "gate_zz1 = qt.tensor(rz(phi1),rz(phi2))\n",
    "target_unitary = gate_zz1*sqrtiswap()\n",
    "\n",
    "def fidelity_func(U_real,U_ideal):\n",
    "    op1 = U_real.dag() * U_real\n",
    "    op2 = U_real * U_ideal.dag()\n",
    "    return (op1.tr() + (abs(op2.tr())) ** 2) / 20.0\n",
    "def error(x):\n",
    "    angle1, angle2 = x\n",
    "    gate_zz2 = qt.tensor(rz(angle1),rz(angle2))\n",
    "    sim_unitary = sqrtiswap()*gate_zz2\n",
    "    return abs(1-fidelity_func(sim_unitary,target_unitary))\n",
    "\n",
    "x0 = [0,0] #guess\n",
    "xopt = minimize(error, x0, method ='Nelder-Mead', tol = 1e-10)\n",
    "print (phi1, phi2, (phi1+phi2)/2)\n",
    "print (xopt.x)\n",
    "print (error(xopt.x))\n",
    "print (error([phi,phi]))"
   ]
  },
  {
   "cell_type": "markdown",
   "metadata": {},
   "source": [
    "## Berkeley gate"
   ]
  },
  {
   "cell_type": "code",
   "execution_count": 145,
   "metadata": {
    "ExecuteTime": {
     "end_time": "2022-04-16T01:47:06.555761Z",
     "start_time": "2022-04-16T01:47:06.551591Z"
    }
   },
   "outputs": [
    {
     "data": {
      "text/latex": [
       "Quantum object: dims = [[2, 2], [2, 2]], shape = (4, 4), type = oper, isherm = False\\begin{equation*}\\left(\\begin{array}{*{11}c}0.924 & 0.0 & 0.0 & 0.383j\\\\0.0 & 0.383 & 0.924j & 0.0\\\\0.0 & 0.924j & 0.383 & 0.0\\\\0.383j & 0.0 & 0.0 & 0.924\\\\\\end{array}\\right)\\end{equation*}"
      ],
      "text/plain": [
       "Quantum object: dims = [[2, 2], [2, 2]], shape = (4, 4), type = oper, isherm = False\n",
       "Qobj data =\n",
       "[[0.92387953+0.j         0.        +0.j         0.        +0.j\n",
       "  0.        +0.38268343j]\n",
       " [0.        +0.j         0.38268343+0.j         0.        +0.92387953j\n",
       "  0.        +0.j        ]\n",
       " [0.        +0.j         0.        +0.92387953j 0.38268343+0.j\n",
       "  0.        +0.j        ]\n",
       " [0.        +0.38268343j 0.        +0.j         0.        +0.j\n",
       "  0.92387953+0.j        ]]"
      ]
     },
     "execution_count": 145,
     "metadata": {},
     "output_type": "execute_result"
    }
   ],
   "source": [
    "berkeley()"
   ]
  },
  {
   "cell_type": "code",
   "execution_count": null,
   "metadata": {},
   "outputs": [],
   "source": []
  },
  {
   "cell_type": "code",
   "execution_count": 158,
   "metadata": {
    "ExecuteTime": {
     "end_time": "2022-04-16T01:53:48.713365Z",
     "start_time": "2022-04-16T01:53:48.285990Z"
    }
   },
   "outputs": [
    {
     "name": "stdout",
     "output_type": "stream",
     "text": [
      "alpha = [0.25151511 1.58373024]\n",
      "1-F = 0.4288397854631185\n"
     ]
    }
   ],
   "source": [
    "def error(x):\n",
    "    alpha = x[0]\n",
    "    t = x[1]\n",
    "    H = qt.tensor(sigmax(), qeye(2)) + qt.tensor(qeye(2), sigmax()) + alpha*qt.tensor(sigmay(), sigmay())\n",
    "    uni = (1j*H*t).expm()\n",
    "    return abs(1-fidelity_func(uni,berkeley()))\n",
    "\n",
    "x0 = [1,1] #guess\n",
    "xopt = minimize(error, x0, method ='Nelder-Mead', tol = 1e-10)\n",
    "print (r'alpha =',xopt.x)\n",
    "print (r'1-F =', error(xopt.x))"
   ]
  },
  {
   "cell_type": "code",
   "execution_count": null,
   "metadata": {},
   "outputs": [],
   "source": []
  },
  {
   "cell_type": "markdown",
   "metadata": {},
   "source": [
    "# Static part"
   ]
  },
  {
   "cell_type": "code",
   "execution_count": 15,
   "metadata": {
    "ExecuteTime": {
     "end_time": "2022-04-28T08:59:26.456562Z",
     "start_time": "2022-04-28T08:59:26.444431Z"
    }
   },
   "outputs": [],
   "source": [
    "#Define coupled two-level system Hamiltonian\n",
    "IZ = tensor(qeye(2), sigmaz())\n",
    "ZI = tensor(sigmaz(), qeye(2))\n",
    "XI = tensor(sigmax(), qeye(2))\n",
    "IX = tensor(qeye(2), sigmax())\n",
    "YI = tensor(sigmay(), qeye(2))\n",
    "IY = tensor(qeye(2), sigmay())\n",
    "XX = tensor(sigmax(), sigmax())\n",
    "\n",
    "def two_q_hamiltonian(w1, w2, J):\n",
    "    return -0.5*w1*ZI - 0.5*w2*IZ + J*XX\n",
    "\n",
    "#Static part\n",
    "w1 = 5.254 #GHz\n",
    "w2 = 5.331\n",
    "#Static part\n",
    "\n",
    "J = 5e-3 #GHz\n",
    "H0 = two_q_hamiltonian(w1, w2, J)\n",
    "eig_energies, eig_states = H0.eigenstates() #System"
   ]
  },
  {
   "cell_type": "code",
   "execution_count": 16,
   "metadata": {
    "ExecuteTime": {
     "end_time": "2022-04-28T08:59:27.367924Z",
     "start_time": "2022-04-28T08:59:27.363304Z"
    }
   },
   "outputs": [],
   "source": [
    "state_00 = eig_states[0]\n",
    "state_01 = eig_states[2]\n",
    "state_10 = eig_states[1]\n",
    "state_11 = eig_states[3]\n",
    "sup_state_p0 = (state_00 + state_10)/np.sqrt(2)\n",
    "sup_state_p1 = (state_01 + state_11)/np.sqrt(2)\n",
    "sup_state_0p = (state_00 + state_01)/np.sqrt(2)\n",
    "sup_state_1p = (state_10 + state_11)/np.sqrt(2)"
   ]
  },
  {
   "cell_type": "markdown",
   "metadata": {},
   "source": [
    "# Dynamical part"
   ]
  },
  {
   "cell_type": "code",
   "execution_count": 37,
   "metadata": {
    "ExecuteTime": {
     "end_time": "2022-04-28T09:16:14.532025Z",
     "start_time": "2022-04-28T09:16:13.675464Z"
    }
   },
   "outputs": [],
   "source": [
    "#Driving part\n",
    "delta_omega_d = 30e-3\n",
    "coupl_const = 100 #MHz\n",
    "coupl_const = coupl_const*1e-3 * 2 *np.pi\n",
    "\n",
    "drive_freq1 = eig_energies[1]-eig_energies[0] - delta_omega_d #qubit A\n",
    "drive_freq2 = eig_energies[2]-eig_energies[0] + delta_omega_d #qubit B\n",
    "\n",
    "H1 = coupl_const*(XI) \n",
    "H2 = 0*(IX)\n",
    "\n",
    "#Gate parameters\n",
    "T_start = 0\n",
    "T_gate = 100\n",
    "# shape = 'gauss'\n",
    "# shape = 'cosflattop'\n",
    "shape = 'cos'\n",
    "sigma = 0.25\n",
    "T_rise = 30\n",
    "drag = True\n",
    "drag_coeff = 0.0\n",
    "t_points = np.linspace(0,T_gate, 2*int(T_gate)+1)\n",
    "\n",
    "#Using propagator\n",
    "H_dum = tensor(qeye(2), qeye(2))\n",
    "U_t = evol_gates_2d.evolution_operator_microwave_nonorm(H0,H1,H2, t_points=t_points, DRAG = drag, DRAG_coefficient = drag_coeff,\n",
    "        T_gate=T_gate, shape=shape, sigma=sigma, T_rise = T_rise, omega_d1=drive_freq1, omega_d2 = drive_freq2)\n",
    "# U_nothing = gates.evolution_operator_microwave(-H0,H_dum, t_points=t_points, DRAG = drag, DRAG_coefficient = drag_coeff,\n",
    "#         T_gate=T_gate, shape=shape, sigma=sigma, T_rise = T_rise, omega_d=drive_freq1)"
   ]
  },
  {
   "cell_type": "markdown",
   "metadata": {},
   "source": [
    "# Analyze results"
   ]
  },
  {
   "cell_type": "code",
   "execution_count": 26,
   "metadata": {
    "ExecuteTime": {
     "end_time": "2022-04-28T09:01:26.241199Z",
     "start_time": "2022-04-28T09:01:25.877016Z"
    }
   },
   "outputs": [
    {
     "name": "stdout",
     "output_type": "stream",
     "text": [
      "0.020423916655230023\n"
     ]
    },
    {
     "data": {
      "image/png": "[encoded data removed]",
      "text/plain": [
       "<Figure size 432x288 with 1 Axes>"
      ]
     },
     "metadata": {
      "needs_background": "light"
     },
     "output_type": "display_data"
    }
   ],
   "source": [
    "transition_00_00 = expect(state_00*state_00.dag(), U_t*state_00)\n",
    "transition_00_10 = expect(state_10*state_10.dag(), U_t*state_00)\n",
    "transition_00_01 = expect(state_01*state_01.dag(), U_t*state_00)\n",
    "transition_00_11 = expect(state_11*state_11.dag(), U_t*state_00)\n",
    "\n",
    "plt.plot(t_points, transition_00_00, label = '00')\n",
    "plt.plot(t_points, transition_00_10, label = '10')\n",
    "plt.plot(t_points, transition_00_01, label = '01')\n",
    "plt.plot(t_points, transition_00_11, label = '11')\n",
    "plt.legend()\n",
    "print (1-transition_00_00[-1])"
   ]
  },
  {
   "cell_type": "code",
   "execution_count": 6,
   "metadata": {
    "ExecuteTime": {
     "end_time": "2021-09-30T05:17:56.688116Z",
     "start_time": "2021-09-30T05:17:56.254639Z"
    }
   },
   "outputs": [
    {
     "data": {
      "text/plain": [
       "<matplotlib.legend.Legend at 0x7fd40489f190>"
      ]
     },
     "execution_count": 6,
     "metadata": {},
     "output_type": "execute_result"
    },
    {
     "data": {
      "image/png": "[encoded data removed]",
      "text/plain": [
       "<Figure size 432x288 with 1 Axes>"
      ]
     },
     "metadata": {
      "needs_background": "light"
     },
     "output_type": "display_data"
    }
   ],
   "source": [
    "transition_01_10 = expect(state_10*state_10.dag(), U_t*state_01)\n",
    "transition_01_10 = expect(state_10*state_10.dag(), U_t*state_00)\n",
    "transition_01_01 = expect(state_01*state_01.dag(), U_t*state_00)\n",
    "transition_01_11 = expect(state_11*state_11.dag(), U_t*state_00)\n",
    "\n",
    "plt.plot(t_points, transition_01_10, label = '10')\n",
    "# plt.plot(t_points, transition_00_10, label = '10')\n",
    "# plt.plot(t_points, transition_00_01, label = '01')\n",
    "# plt.plot(t_points, transition_00_11, label = '11')\n",
    "plt.legend()"
   ]
  },
  {
   "cell_type": "code",
   "execution_count": 7,
   "metadata": {
    "ExecuteTime": {
     "end_time": "2021-09-30T05:17:57.330389Z",
     "start_time": "2021-09-30T05:17:57.317403Z"
    }
   },
   "outputs": [
    {
     "ename": "NameError",
     "evalue": "name 'U_nothing' is not defined",
     "output_type": "error",
     "traceback": [
      "\u001b[0;31m---------------------------------------------------------------------------\u001b[0m",
      "\u001b[0;31mNameError\u001b[0m                                 Traceback (most recent call last)",
      "\u001b[0;32m<ipython-input-7-3d4711443b8e>\u001b[0m in \u001b[0;36m<module>\u001b[0;34m\u001b[0m\n\u001b[1;32m      2\u001b[0m \u001b[0mphase_IZ\u001b[0m \u001b[0;34m=\u001b[0m \u001b[0mnp\u001b[0m\u001b[0;34m.\u001b[0m\u001b[0mzeros_like\u001b[0m\u001b[0;34m(\u001b[0m\u001b[0mt_points\u001b[0m\u001b[0;34m)\u001b[0m\u001b[0;34m\u001b[0m\u001b[0;34m\u001b[0m\u001b[0m\n\u001b[1;32m      3\u001b[0m \u001b[0mphase_ZZ\u001b[0m \u001b[0;34m=\u001b[0m \u001b[0mnp\u001b[0m\u001b[0;34m.\u001b[0m\u001b[0mzeros_like\u001b[0m\u001b[0;34m(\u001b[0m\u001b[0mt_points\u001b[0m\u001b[0;34m)\u001b[0m\u001b[0;34m\u001b[0m\u001b[0;34m\u001b[0m\u001b[0m\n\u001b[0;32m----> 4\u001b[0;31m \u001b[0mU_rw\u001b[0m \u001b[0;34m=\u001b[0m \u001b[0mU_nothing\u001b[0m\u001b[0;34m*\u001b[0m\u001b[0mU_t\u001b[0m\u001b[0;34m\u001b[0m\u001b[0;34m\u001b[0m\u001b[0m\n\u001b[0m\u001b[1;32m      5\u001b[0m \u001b[0;34m\u001b[0m\u001b[0m\n\u001b[1;32m      6\u001b[0m \u001b[0;32mfor\u001b[0m \u001b[0mtind\u001b[0m \u001b[0;32min\u001b[0m \u001b[0mrange\u001b[0m\u001b[0;34m(\u001b[0m\u001b[0mlen\u001b[0m\u001b[0;34m(\u001b[0m\u001b[0mt_points\u001b[0m\u001b[0;34m)\u001b[0m\u001b[0;34m)\u001b[0m\u001b[0;34m:\u001b[0m\u001b[0;34m\u001b[0m\u001b[0;34m\u001b[0m\u001b[0m\n",
      "\u001b[0;31mNameError\u001b[0m: name 'U_nothing' is not defined"
     ]
    }
   ],
   "source": [
    "phase_ZI = np.zeros_like(t_points)\n",
    "phase_IZ = np.zeros_like(t_points)\n",
    "phase_ZZ = np.zeros_like(t_points)\n",
    "U_rw = U_nothing*U_t\n",
    "\n",
    "for tind in range(len(t_points)):\n",
    "    u00 = U_rw [tind].matrix_element(state_00.dag(), state_00)\n",
    "    u01 = U_rw [tind].matrix_element(state_01.dag(), state_01)\n",
    "    u10 = U_rw [tind].matrix_element(state_10.dag(), state_10)\n",
    "    u11 = U_rw [tind].matrix_element(state_11.dag(), state_11)\n",
    "    phase_ZI[tind] = (np.angle(u00*u01 / (u10*u11)))\n",
    "    phase_IZ[tind] = (np.angle(u00*u10 / (u01*u11)))\n",
    "    phase_ZZ[tind] = (np.angle(u00*u11 / (u10*u01)))\n",
    "    \n",
    "phase_ZI = np.unwrap (phase_ZI)\n",
    "phase_IZ = np.unwrap (phase_IZ)\n",
    "phase_ZZ = np.unwrap (phase_ZZ)"
   ]
  },
  {
   "cell_type": "code",
   "execution_count": 40,
   "metadata": {
    "ExecuteTime": {
     "end_time": "2022-04-28T09:19:36.511594Z",
     "start_time": "2022-04-28T09:19:02.445618Z"
    }
   },
   "outputs": [
    {
     "name": "stdout",
     "output_type": "stream",
     "text": [
      "0.037272296886097234 [0.24]\n",
      "0.11191454394375078\n"
     ]
    }
   ],
   "source": [
    "from scipy.optimize import minimize\n",
    "drag = True\n",
    "T_gate = 100\n",
    "shape = 'cosflattop'\n",
    "T_rise = 50\n",
    "def nonadiabaticity(x):\n",
    "    drag_coeff = x[0]\n",
    "    U_t = evol_gates_2d.evolution_operator_microwave_nonorm(H0,H1,H2, t_points=t_points, DRAG = drag, DRAG_coefficient = drag_coeff,\n",
    "        T_gate=T_gate, shape=shape, sigma=sigma, T_rise = T_rise, omega_d1=drive_freq1, omega_d2 = drive_freq2)\n",
    "    transition_00_00 = expect(state_00*state_00.dag(), U_t*state_00)\n",
    "    return (1 - transition_00_00[-1])\n",
    "x0 = [0] #guess\n",
    "xopt = minimize(nonadiabaticity, x0, method ='Nelder-Mead', tol = None)\n",
    "print (nonadiabaticity(xopt.x), xopt.x)\n",
    "print (nonadiabaticity([0]))"
   ]
  },
  {
   "cell_type": "code",
   "execution_count": 45,
   "metadata": {
    "ExecuteTime": {
     "end_time": "2022-04-28T16:52:03.388201Z",
     "start_time": "2022-04-28T15:53:33.800982Z"
    }
   },
   "outputs": [],
   "source": [
    "T_gate = 200\n",
    "shape = 'cosflattop'\n",
    "T_rise_array = np.linspace(20,100,81)\n",
    "leak_array = np.zeros_like(T_rise_array)\n",
    "for idx, T_rise in enumerate(T_rise_array):\n",
    "    def nonadiabaticity(x):\n",
    "        drag_coeff = x[0]\n",
    "        U_t = evol_gates_2d.evolution_operator_microwave_nonorm(H0,H1,H2, t_points=t_points, DRAG = drag, DRAG_coefficient = drag_coeff,\n",
    "            T_gate=T_gate, shape=shape, sigma=sigma, T_rise = T_rise, omega_d1=drive_freq1, omega_d2 = drive_freq2)\n",
    "        transition_00_00 = expect(state_00*state_00.dag(), U_t*state_00)\n",
    "        return (1 - transition_00_00[-1])\n",
    "    x0 = [0] #guess\n",
    "    xopt = minimize(nonadiabaticity, x0, method ='Nelder-Mead', tol = 1e-6)\n",
    "    leak_array[idx] = nonadiabaticity(xopt.x)"
   ]
  },
  {
   "cell_type": "code",
   "execution_count": 46,
   "metadata": {
    "ExecuteTime": {
     "end_time": "2022-04-28T16:52:03.642446Z",
     "start_time": "2022-04-28T16:52:03.493466Z"
    }
   },
   "outputs": [
    {
     "data": {
      "text/plain": [
       "[<matplotlib.lines.Line2D at 0x7fa6740d6be0>]"
      ]
     },
     "execution_count": 46,
     "metadata": {},
     "output_type": "execute_result"
    },
    {
     "data": {
      "image/png": "[encoded data removed]",
      "text/plain": [
       "<Figure size 432x288 with 1 Axes>"
      ]
     },
     "metadata": {
      "needs_background": "light"
     },
     "output_type": "display_data"
    }
   ],
   "source": [
    "plt.plot(T_rise_array,leak_array)"
   ]
  },
  {
   "cell_type": "markdown",
   "metadata": {},
   "source": [
    "# Sweep coupling"
   ]
  },
  {
   "cell_type": "code",
   "execution_count": 8,
   "metadata": {
    "ExecuteTime": {
     "end_time": "2021-09-30T05:20:34.663957Z",
     "start_time": "2021-09-30T05:17:58.432550Z"
    }
   },
   "outputs": [],
   "source": [
    "coupl_array = np.linspace(60,90,61)\n",
    "trans_prob = np.zeros((len(coupl_array), 4))\n",
    "for idx, coupl in enumerate(coupl_array):\n",
    "#     print (idx)\n",
    "    coupl_const = coupl*1e-3 * 2 *np.pi\n",
    "    H1 = coupl_const*(XI) #Driving both qubits at this frequency\\\n",
    "    H2 = coupl_const*(IX)\n",
    "    U_t = evol_gates_2d.evolution_operator_microwave_nonorm(H0,H1,H2, t_points=t_points, DRAG = drag, DRAG_coefficient = drag_coeff,\n",
    "            T_gate=T_gate, shape=shape, sigma=sigma, T_rise = T_rise, omega_d1=drive_freq1, omega_d2 = drive_freq2)\n",
    "    trans_prob[idx, 0] = expect(state_00*state_00.dag(), U_t[-1]*state_01)\n",
    "    trans_prob[idx, 1] = expect(state_10*state_10.dag(), U_t[-1]*state_01)\n",
    "    trans_prob[idx, 2] = expect(state_01*state_01.dag(), U_t[-1]*state_01)\n",
    "    trans_prob[idx, 3] = expect(state_11*state_11.dag(), U_t[-1]*state_01)"
   ]
  },
  {
   "cell_type": "code",
   "execution_count": 10,
   "metadata": {
    "ExecuteTime": {
     "end_time": "2021-09-30T05:21:21.183187Z",
     "start_time": "2021-09-30T05:21:21.024085Z"
    }
   },
   "outputs": [
    {
     "name": "stdout",
     "output_type": "stream",
     "text": [
      "77.0\n"
     ]
    },
    {
     "data": {
      "image/png": "[encoded data removed]",
      "text/plain": [
       "<Figure size 432x288 with 1 Axes>"
      ]
     },
     "metadata": {
      "needs_background": "light"
     },
     "output_type": "display_data"
    }
   ],
   "source": [
    "# plt.plot(coupl_array, tr÷ans_prob[:,0],label='01-00')\n",
    "plt.plot(coupl_array, trans_prob[:,1],label='01-10')\n",
    "# plt.plot(coupl_array, trans_prob[:,2],label='01-01')\n",
    "# plt.plot(coupl_array, trans_prob[:,3],label='01-11')\n",
    "plt.xlabel('Coupling (MHz)')\n",
    "plt.ylabel('P')\n",
    "plt.legend()\n",
    "print (coupl_array[np.argmax(trans_prob[:,1])])"
   ]
  },
  {
   "cell_type": "markdown",
   "metadata": {
    "ExecuteTime": {
     "end_time": "2021-09-21T22:00:33.385159Z",
     "start_time": "2021-09-21T22:00:33.383439Z"
    }
   },
   "source": [
    "# Calibrate gate"
   ]
  },
  {
   "cell_type": "code",
   "execution_count": 11,
   "metadata": {
    "ExecuteTime": {
     "end_time": "2021-09-30T05:22:31.862750Z",
     "start_time": "2021-09-30T05:22:29.869342Z"
    }
   },
   "outputs": [],
   "source": [
    "coupl_const = 77\n",
    "coupl_const = coupl_const*1e-3 * 2 *np.pi\n",
    "H1 = coupl_const*(XI) \n",
    "H2 = coupl_const*(IX)\n",
    "U_t = evol_gates_2d.evolution_operator_microwave_nonorm(H0,H1,H2, t_points=t_points, DRAG = drag, DRAG_coefficient = drag_coeff,\n",
    "        T_gate=T_gate, shape=shape, sigma=sigma, T_rise = T_rise, omega_d1=drive_freq1, omega_d2 = drive_freq2)"
   ]
  },
  {
   "cell_type": "code",
   "execution_count": 13,
   "metadata": {
    "ExecuteTime": {
     "end_time": "2021-09-30T05:24:51.079352Z",
     "start_time": "2021-09-30T05:24:50.653867Z"
    }
   },
   "outputs": [
    {
     "data": {
      "text/plain": [
       "<matplotlib.legend.Legend at 0x7fd40619bf10>"
      ]
     },
     "execution_count": 13,
     "metadata": {},
     "output_type": "execute_result"
    },
    {
     "data": {
      "image/png": "[encoded data removed]",
      "text/plain": [
       "<Figure size 432x288 with 1 Axes>"
      ]
     },
     "metadata": {
      "needs_background": "light"
     },
     "output_type": "display_data"
    }
   ],
   "source": [
    "trans_prob_01_00 = expect(state_00*state_00.dag(), U_t*state_01)\n",
    "trans_prob_01_10 = expect(state_10*state_10.dag(), U_t*state_01)\n",
    "trans_prob_01_01 = expect(state_01*state_01.dag(), U_t*state_01)\n",
    "trans_prob_01_11 = expect(state_11*state_11.dag(), U_t*state_01)\n",
    "\n",
    "plt.plot(t_points, trans_prob_01_00, label = '01-00')\n",
    "plt.plot(t_points, trans_prob_01_10, label = '01-10')\n",
    "plt.plot(t_points, trans_prob_01_01, label = '01-01')\n",
    "plt.plot(t_points, trans_prob_01_11, label = '01-11')\n",
    "plt.legend()"
   ]
  },
  {
   "cell_type": "markdown",
   "metadata": {},
   "source": [
    "# Try some rotations + iSWAP here"
   ]
  },
  {
   "cell_type": "code",
   "execution_count": null,
   "metadata": {
    "ExecuteTime": {
     "end_time": "2021-09-17T22:09:54.279136Z",
     "start_time": "2021-09-17T22:09:54.276203Z"
    }
   },
   "outputs": [],
   "source": [
    "#Define ZZ gate\n",
    "def rzz(phase):\n",
    "    gate = np.diag([1,1,1, np.exp(-1j*phase)])\n",
    "    gate = Qobj(gate)\n",
    "    gate.dims = [[2, 2], [2, 2]]\n",
    "    return gate"
   ]
  },
  {
   "cell_type": "code",
   "execution_count": null,
   "metadata": {
    "ExecuteTime": {
     "end_time": "2021-09-17T21:44:46.859015Z",
     "start_time": "2021-09-17T21:44:46.855217Z"
    }
   },
   "outputs": [],
   "source": [
    "#Define general iswap gate\n",
    "def iswapp(phase_01, phase_10, phase_11):\n",
    "    gate = np.diag(np.zeros((4), dtype = complex))\n",
    "    gate[0,0] = 1\n",
    "    gate[1,2] = np.exp(1j*phase_01)\n",
    "    gate[2,1] = np.exp(1j*phase_10)\n",
    "    gate[3,3] = np.exp(1j*phase_11)\n",
    "    gate = Qobj(gate)\n",
    "    gate.dims = [[2, 2], [2, 2]]\n",
    "    return gate"
   ]
  },
  {
   "cell_type": "code",
   "execution_count": null,
   "metadata": {
    "ExecuteTime": {
     "end_time": "2021-09-18T03:53:23.081893Z",
     "start_time": "2021-09-18T03:53:23.078314Z"
    }
   },
   "outputs": [],
   "source": [
    "print(iswapp(np.pi/2,np.pi/2,np.pi))"
   ]
  },
  {
   "cell_type": "markdown",
   "metadata": {},
   "source": [
    "## Correct single qubit gates"
   ]
  },
  {
   "cell_type": "code",
   "execution_count": null,
   "metadata": {
    "ExecuteTime": {
     "end_time": "2021-09-18T04:10:52.161219Z",
     "start_time": "2021-09-18T04:10:48.660726Z"
    }
   },
   "outputs": [],
   "source": [
    "from qutip.qip.operations import*\n",
    "state_0 = basis(2,0)\n",
    "state_1 = basis(2,1)\n",
    "state_pX = (state_0 + state_1)/np.sqrt(2)\n",
    "state_mX = (state_0 - state_1)/np.sqrt(2)\n",
    "state_pY = (state_0 + 1j*state_1)/np.sqrt(2)\n",
    "state_mY = (state_0 - 1j*state_1)/np.sqrt(2)\n",
    "\n",
    "phase_array = np.linspace(-np.pi, np.pi, 6001)\n",
    "result = np.zeros_like(phase_array)\n",
    "\n",
    "#Here, we assume an iswap with some errors\n",
    "phase_01 = np.pi/2 + 0.2\n",
    "phase_10 = np.pi/2 + 0.3\n",
    "phase_11 = 0.15\n",
    "U = iswapp(phase_01, phase_10, phase_11)\n",
    "# U = iswap() * tensor(rz(phase_10), qeye(2)) * tensor(qeye(2), rz(phase_01)) * rzz(phase_11)\n",
    "print (np.angle(U[1,2])-np.pi/2)\n",
    "\n",
    "# Now, we sweep the single qubit phases to check\n",
    "ini_state = tensor(state_pX, state_0) #+0\n",
    "meas_op = tensor(state_0*state_0.dag(), state_mY*state_mY.dag())\n",
    "\n",
    "for idx, p in enumerate(phase_array):\n",
    "    gate = tensor(qeye(2), rz(p)) * U\n",
    "    result[idx] = expect(meas_op, gate*ini_state)\n",
    "    \n",
    "plt.plot(phase_array, result)\n",
    "print (phase_array[np.argmin(result)])\n"
   ]
  },
  {
   "cell_type": "code",
   "execution_count": null,
   "metadata": {
    "ExecuteTime": {
     "end_time": "2021-09-18T04:04:37.274042Z",
     "start_time": "2021-09-18T04:04:33.745159Z"
    }
   },
   "outputs": [],
   "source": [
    "U = iswapp(phase_01, phase_10, phase_11)\n",
    "print (np.angle(U[2,1])-np.pi/2)\n",
    "\n",
    "# Now, we sweep the single qubit phases to check\n",
    "ini_state = tensor(state_0, state_pX)\n",
    "meas_op = tensor(state_mY*state_mY.dag(), state_0*state_0.dag())\n",
    "\n",
    "for idx, p in enumerate(phase_array):\n",
    "    gate = tensor(rz(p), qeye(2)) * U\n",
    "    result[idx] = expect(meas_op, gate*ini_state)\n",
    "    \n",
    "plt.plot(phase_array, result)\n",
    "print (phase_array[np.argmin(result)])"
   ]
  },
  {
   "cell_type": "code",
   "execution_count": null,
   "metadata": {
    "ExecuteTime": {
     "end_time": "2021-09-18T04:11:01.763144Z",
     "start_time": "2021-09-18T04:11:01.759048Z"
    }
   },
   "outputs": [],
   "source": [
    "Uni = tensor(rz(-0.3), rz(-0.2)) * U\n",
    "u11 = Uni[3,3]\n",
    "u00 = Uni[0,0]\n",
    "print (np.angle(u11/u00))"
   ]
  },
  {
   "cell_type": "code",
   "execution_count": null,
   "metadata": {
    "ExecuteTime": {
     "end_time": "2021-09-18T04:11:12.498365Z",
     "start_time": "2021-09-18T04:11:08.323191Z"
    }
   },
   "outputs": [],
   "source": [
    "U = iswapp(phase_01, phase_10, phase_11)\n",
    "\n",
    "# Now, we sweep the ZZ phase to check\n",
    "ini_state = tensor(state_mX, state_pX)\n",
    "meas_op = tensor(state_pX*state_pX.dag(), state_pX*state_pX.dag())\n",
    "\n",
    "for idx, p in enumerate(phase_array):\n",
    "    gate = tensor(rz(-0.3), rz(-0.2+p)) * U\n",
    "    result[idx] = expect(meas_op, gate*ini_state)\n",
    "    \n",
    "plt.plot(phase_array, result)\n",
    "print (phase_array[np.argmin(result)])"
   ]
  },
  {
   "cell_type": "code",
   "execution_count": null,
   "metadata": {
    "ExecuteTime": {
     "end_time": "2021-09-18T03:49:17.674725Z",
     "start_time": "2021-09-18T03:49:17.670465Z"
    }
   },
   "outputs": [],
   "source": [
    "print (cphase(np.pi))"
   ]
  },
  {
   "cell_type": "code",
   "execution_count": null,
   "metadata": {
    "ExecuteTime": {
     "end_time": "2021-09-18T04:24:15.363677Z",
     "start_time": "2021-09-18T04:24:15.360589Z"
    }
   },
   "outputs": [],
   "source": [
    "print (ry(np.pi/2))"
   ]
  },
  {
   "cell_type": "code",
   "execution_count": null,
   "metadata": {},
   "outputs": [],
   "source": []
  },
  {
   "cell_type": "code",
   "execution_count": null,
   "metadata": {
    "ExecuteTime": {
     "end_time": "2021-09-17T21:05:09.046494Z",
     "start_time": "2021-09-17T21:05:07.897146Z"
    }
   },
   "outputs": [],
   "source": [
    "U = iswap()*tensor(rz(0.2), qeye(2))*tensor(qeye(2), rz(0.5))*rzz(0.1)\n",
    "U = U*tensor(rz(-1.1), qeye(2))\n",
    "# U = U*tensor(rz(-0.2), qeye(2))*tensor(qeye(2), rz(-0.5))\n",
    "for idx, p in enumerate(phase_array):\n",
    "    gate = U*tensor(rz(p), qeye(2)) * U * tensor(rz(p), qeye(2))\n",
    "    result[idx] = expect(meas_op, gate*tensor(state_sup, state_sup))\n",
    "plt.plot(phase_array, result)\n",
    "print (phase_array[np.argmin(result)])"
   ]
  },
  {
   "cell_type": "code",
   "execution_count": null,
   "metadata": {
    "ExecuteTime": {
     "end_time": "2021-09-17T23:23:57.998411Z",
     "start_time": "2021-09-17T23:23:57.994002Z"
    }
   },
   "outputs": [],
   "source": [
    "U_real = iswapp(np.pi/2+0.02, np.pi/2+0.02, 17*np.pi/180)\n",
    "U_ideal = iswap()\n",
    "op1 = U_real.dag() * U_real\n",
    "op2 = U_real * U_ideal.dag()\n",
    "fidel = (op1.tr() + (abs(op2.tr())) ** 2) / 20.0\n",
    "print (fidel)\n",
    "# print (U)"
   ]
  },
  {
   "cell_type": "code",
   "execution_count": null,
   "metadata": {},
   "outputs": [],
   "source": []
  },
  {
   "cell_type": "code",
   "execution_count": null,
   "metadata": {
    "ExecuteTime": {
     "end_time": "2021-09-17T04:34:18.941516Z",
     "start_time": "2021-09-17T04:34:17.534840Z"
    }
   },
   "outputs": [],
   "source": [
    "phase_array = np.linspace(-2*np.pi, 2*np.pi, 1001)\n",
    "result = np.zeros_like(phase_array)\n",
    "U = iswap()\n",
    "meas_op = tensor(state_sup*state_sup.dag(), state_sup*state_sup.dag())\n",
    "\n",
    "for idx, p in enumerate(phase_array):\n",
    "    gate = U*tensor(rz(p), qeye(2)) * U * tensor(rz(p), qeye(2))\n",
    "    result[idx] = expect(meas_op, gate*tensor(state_sup, state_sup))\n",
    "plt.plot(phase_array, result)"
   ]
  },
  {
   "cell_type": "code",
   "execution_count": null,
   "metadata": {
    "ExecuteTime": {
     "end_time": "2021-09-17T23:06:35.251110Z",
     "start_time": "2021-09-17T23:06:35.243606Z"
    }
   },
   "outputs": [],
   "source": [
    "U=iswapp(np.pi/2+0.00, np.pi/2+0.00, 17*np.pi/180)\n",
    "state_p = (state_0 + state_1)/np.sqrt(2)\n",
    "state_m = (state_0 - state_1)/np.sqrt(2)\n",
    "ini_state_array = [tensor(state_p,state_p), tensor(state_p,state_m), tensor(state_m,state_p), tensor(state_m,state_m)]\n",
    "meas_op = [tensor(state_p*state_p.dag(), state_p*state_p.dag()), tensor(state_p*state_p.dag(), state_m*state_m.dag()), tensor(state_m*state_m.dag(), state_p*state_p.dag()), tensor(state_m*state_m.dag(), state_m*state_m.dag())]"
   ]
  },
  {
   "cell_type": "code",
   "execution_count": null,
   "metadata": {
    "ExecuteTime": {
     "end_time": "2021-09-17T23:06:40.973944Z",
     "start_time": "2021-09-17T23:06:40.969230Z"
    }
   },
   "outputs": [],
   "source": [
    "result = np.zeros((4,4))\n",
    "for idx, state in enumerate(ini_state_array):\n",
    "    for idy, meas in enumerate(meas_op):\n",
    "        result[idx,idy] = expect(meas,U*state)"
   ]
  },
  {
   "cell_type": "code",
   "execution_count": null,
   "metadata": {
    "ExecuteTime": {
     "end_time": "2021-09-17T23:06:46.541892Z",
     "start_time": "2021-09-17T23:06:46.538589Z"
    }
   },
   "outputs": [],
   "source": [
    "print (result)"
   ]
  },
  {
   "cell_type": "code",
   "execution_count": null,
   "metadata": {
    "ExecuteTime": {
     "end_time": "2021-09-17T22:43:43.157445Z",
     "start_time": "2021-09-17T22:43:42.272895Z"
    }
   },
   "outputs": [],
   "source": [
    "prep_generator = [qeye(2), ry(np.pi/2.0), rx(np.pi/2.0), sigmax()]\n",
    "prep_rotations = []\n",
    "for q1gate in prep_generator:\n",
    "    for q2gate in prep_generator:\n",
    "        gate = (tensor(q1gate, q2gate))\n",
    "        prep_rotations.append(gate)\n",
    "\n",
    "meas_generator = [qeye(2), sigmax(), sigmay(), sigmaz()]\n",
    "meas_rotations = []\n",
    "for q1gate in meas_generator:\n",
    "    for q2gate in meas_generator:\n",
    "        gate = (tensor(q1gate, q2gate))\n",
    "        meas_rotations.append(gate)\n",
    "        \n",
    "p_in = np.zeros((16,16)) \n",
    "p_out = np.zeros((16,16)) \n",
    "\n",
    "gnd_state = tensor(basis(2,0), basis(2,0))\n",
    "# gate_op = tensor(qeye(2), rx(np.pi/2))\n",
    "# gate_op = tensor(rx(np.pi/2), qeye(2))\n",
    "# gate_op = cnot()\n",
    "# gate_op = cphase(np.pi)\n",
    "# gate_op = iswap()*tensor(rz(1.1), qeye(2))*tensor(qeye(2),rz(0.9))\n",
    "gate_op = iswap()\n",
    "for i, rot_i in enumerate(prep_rotations):\n",
    "    for j, rot_j in enumerate(meas_rotations):\n",
    "        p_in[i,j] = expect(rot_j, rot_i*gnd_state)\n",
    "        p_out[i,j] = expect(rot_j, gate_op*(rot_i*gnd_state))        \n",
    "ptm_ideal_2q = np.linalg.lstsq(p_in, p_out)[0]\n",
    "\n",
    "str_primitive = [\"I\",\"X\",\"Y\",\"Z\"]\n",
    "op_label = []\n",
    "for prim1 in str_primitive:\n",
    "    for prim2 in str_primitive:\n",
    "        op_label.append(prim1+prim2)\n",
    "# print (op_label)\n",
    "qutip.hinton(ptm_ideal_2q, xlabels = op_label, ylabels = op_label)"
   ]
  },
  {
   "cell_type": "code",
   "execution_count": null,
   "metadata": {
    "ExecuteTime": {
     "end_time": "2021-09-17T22:46:55.581200Z",
     "start_time": "2021-09-17T22:46:55.577727Z"
    }
   },
   "outputs": [],
   "source": [
    "print (iswap())"
   ]
  },
  {
   "cell_type": "code",
   "execution_count": null,
   "metadata": {},
   "outputs": [],
   "source": []
  },
  {
   "cell_type": "code",
   "execution_count": null,
   "metadata": {},
   "outputs": [],
   "source": []
  },
  {
   "cell_type": "code",
   "execution_count": null,
   "metadata": {},
   "outputs": [],
   "source": []
  },
  {
   "cell_type": "code",
   "execution_count": null,
   "metadata": {},
   "outputs": [],
   "source": []
  },
  {
   "cell_type": "code",
   "execution_count": null,
   "metadata": {},
   "outputs": [],
   "source": []
  },
  {
   "cell_type": "code",
   "execution_count": null,
   "metadata": {},
   "outputs": [],
   "source": []
  },
  {
   "cell_type": "code",
   "execution_count": null,
   "metadata": {
    "ExecuteTime": {
     "end_time": "2021-09-16T22:20:50.787859Z",
     "start_time": "2021-09-16T22:20:49.536845Z"
    }
   },
   "outputs": [],
   "source": [
    "U = iswap()*tensor(rz(0.1), qeye(2))*tensor(qeye(2), rz(0.5))\n",
    "U = U * tensor(rz(-0.5969026041820604), qeye(2))\n",
    "print (U)\n",
    "for idx, p in enumerate(phase_array):\n",
    "    gate = U*tensor(qeye(2), rz(p))*U*tensor(qeye(2), rz(p))\n",
    "    result[idx] = expect(meas_op, gate*tensor(state_sup, state_0))\n",
    "plt.plot(phase_array, result)\n",
    "print (phase_array[np.argmin(result)])"
   ]
  },
  {
   "cell_type": "code",
   "execution_count": null,
   "metadata": {},
   "outputs": [],
   "source": []
  }
 ],
 "metadata": {
  "kernelspec": {
   "display_name": "Python 3",
   "language": "python",
   "name": "python3"
  },
  "language_info": {
   "codemirror_mode": {
    "name": "ipython",
    "version": 3
   },
   "file_extension": ".py",
   "mimetype": "text/x-python",
   "name": "python",
   "nbconvert_exporter": "python",
   "pygments_lexer": "ipython3",
   "version": "3.8.5"
  },
  "latex_envs": {
   "LaTeX_envs_menu_present": true,
   "autoclose": false,
   "autocomplete": true,
   "bibliofile": "biblio.bib",
   "cite_by": "apalike",
   "current_citInitial": 1,
   "eqLabelWithNumbers": true,
   "eqNumInitial": 1,
   "hotkeys": {
    "equation": "Ctrl-E",
    "itemize": "Ctrl-I"
   },
   "labels_anchors": false,
   "latex_user_defs": false,
   "report_style_numbering": false,
   "user_envs_cfg": false
  },
  "toc": {
   "base_numbering": 1,
   "nav_menu": {},
   "number_sections": true,
   "sideBar": true,
   "skip_h1_title": false,
   "title_cell": "Table of Contents",
   "title_sidebar": "Contents",
   "toc_cell": true,
   "toc_position": {
    "height": "calc(100% - 180px)",
    "left": "10px",
    "top": "150px",
    "width": "286.7px"
   },
   "toc_section_display": true,
   "toc_window_display": true
  },
  "varInspector": {
   "cols": {
    "lenName": 16,
    "lenType": 16,
    "lenVar": 40
   },
   "kernels_config": {
    "python": {
     "delete_cmd_postfix": "",
     "delete_cmd_prefix": "del ",
     "library": "var_list.py",
     "varRefreshCmd": "print(var_dic_list())"
    },
    "r": {
     "delete_cmd_postfix": ") ",
     "delete_cmd_prefix": "rm(",
     "library": "var_list.r",
     "varRefreshCmd": "cat(var_dic_list()) "
    }
   },
   "types_to_exclude": [
    "module",
    "function",
    "builtin_function_or_method",
    "instance",
    "_Feature"
   ],
   "window_display": false
  }
 },
 "nbformat": 4,
 "nbformat_minor": 4
}
