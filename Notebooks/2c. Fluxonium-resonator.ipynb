{
 "cells": [
  {
   "cell_type": "markdown",
   "metadata": {
    "toc": true
   },
   "source": [
    "<h1>Table of Contents<span class=\"tocSkip\"></span></h1>\n",
    "<div class=\"toc\"><ul class=\"toc-item\"><li><span><a href=\"#Preamble\" data-toc-modified-id=\"Preamble-1\"><span class=\"toc-item-num\">1&nbsp;&nbsp;</span>Preamble</a></span></li><li><span><a href=\"#System-parameters\" data-toc-modified-id=\"System-parameters-2\"><span class=\"toc-item-num\">2&nbsp;&nbsp;</span>System parameters</a></span></li><li><span><a href=\"#Sweep-flux\" data-toc-modified-id=\"Sweep-flux-3\"><span class=\"toc-item-num\">3&nbsp;&nbsp;</span>Sweep flux</a></span></li><li><span><a href=\"#Sweep-cavity-frequency\" data-toc-modified-id=\"Sweep-cavity-frequency-4\"><span class=\"toc-item-num\">4&nbsp;&nbsp;</span>Sweep cavity frequency</a></span></li></ul></div>"
   ]
  },
  {
   "cell_type": "markdown",
   "metadata": {},
   "source": [
    "# Preamble"
   ]
  },
  {
   "cell_type": "code",
   "execution_count": 1,
   "metadata": {
    "ExecuteTime": {
     "end_time": "2021-12-29T06:16:25.366039Z",
     "start_time": "2021-12-29T06:16:23.867471Z"
    }
   },
   "outputs": [],
   "source": [
    "import sys\n",
    "sys.dont_write_bytecode = True\n",
    "import time\n",
    "import numpy as np\n",
    "from matplotlib import pyplot as plt\n",
    "sys.path.append('/Users/longnguyen/Documents/GitHub/Fluxonium_berkeley/')\n",
    "from Fluxonium_hamiltonians import qchard_fluxonium as fluxonium\n",
    "from Fluxonium_hamiltonians import qchard_resonator as resonator\n",
    "from Fluxonium_hamiltonians import qchard_coupobj as coupobj\n",
    "import plotting_settings\n",
    "import matplotlib as mpl\n",
    "mpl.rcParams['figure.dpi']= 500\n",
    "%matplotlib inline\n",
    "figpath = '/Users/longnguyen/Google Drive/LBL Research/Illustration/HCF paper/'"
   ]
  },
  {
   "cell_type": "markdown",
   "metadata": {},
   "source": [
    "# System parameters"
   ]
  },
  {
   "cell_type": "code",
   "execution_count": 9,
   "metadata": {
    "ExecuteTime": {
     "end_time": "2021-12-29T06:25:45.690039Z",
     "start_time": "2021-12-29T06:25:45.683700Z"
    }
   },
   "outputs": [],
   "source": [
    "nlev_lc = 40\n",
    "nlev_single = 7  # The number of single-qubit levels to show.\n",
    "take_data_from_input_file = False\n",
    "\n",
    "if not take_data_from_input_file:\n",
    "    # Parameters of the first fluxonium.\n",
    "    E_L = 1 # inductive energy\n",
    "    E_C = 1.0  # charging energy\n",
    "    E_J = 4  # Josephson energy\n",
    "    phi_ext = np.pi  # external phase shift\n",
    "  \n",
    "    # Parameters of the coupling resonators\n",
    "    omega_c = 7.0 \n",
    "    g = 0.1\n",
    "    \n",
    "qubit = fluxonium.Fluxonium(E_J = E_J, E_C=E_C, E_L=E_L, phi_ext=phi_ext, nlev = nlev_single, nlev_lc = nlev_lc)\n",
    "coupl_res = resonator.Cavity(omega=omega_c, nlev=12)"
   ]
  },
  {
   "cell_type": "markdown",
   "metadata": {},
   "source": [
    "# Sweep flux"
   ]
  },
  {
   "cell_type": "code",
   "execution_count": 10,
   "metadata": {
    "ExecuteTime": {
     "end_time": "2021-12-29T06:26:24.268908Z",
     "start_time": "2021-12-29T06:25:47.000901Z"
    }
   },
   "outputs": [],
   "source": [
    "phi_ext = np.linspace(0,1,201)\n",
    "chi = np.zeros_like(phi_ext)\n",
    "for idx, phi in enumerate(phi_ext):\n",
    "    qubit = fluxonium.Fluxonium(E_J = E_J, E_C=E_C, E_L=E_L, phi_ext=2*phi*np.pi, nlev = nlev_single, nlev_lc = nlev_lc)\n",
    "    system = coupobj.CoupledObjects(qubit, coupl_res,\n",
    "                                        [coupl_res, qubit, g, 'JC-charge'])\n",
    "    energies = system.levels()\n",
    "    e00 = energies[system.level_label('00')]\n",
    "    e10 = energies[system.level_label('10')]\n",
    "    e01 = energies[system.level_label('01')]\n",
    "    e11 = energies[system.level_label('11')]\n",
    "\n",
    "#     e00 = energies[system.level_label('08')]\n",
    "#     e10 = energies[system.level_label('18')]\n",
    "#     e01 = energies[system.level_label('09')]\n",
    "#     e11 = energies[system.level_label('19')]\n",
    "    chi[idx] = (e11-e10) - (e01-e00)\n",
    "np.save(figpath+'/chi_numerical.npy',chi)"
   ]
  },
  {
   "cell_type": "code",
   "execution_count": 11,
   "metadata": {
    "ExecuteTime": {
     "end_time": "2021-12-29T06:26:24.833232Z",
     "start_time": "2021-12-29T06:26:24.328044Z"
    }
   },
   "outputs": [
    {
     "data": {
      "text/plain": [
       "[<matplotlib.lines.Line2D at 0x7fe3b61bb610>]"
      ]
     },
     "execution_count": 11,
     "metadata": {},
     "output_type": "execute_result"
    },
    {
     "data": {
      "image/png": "[encoded data removed]",
      "text/plain": [
       "<Figure size 432x288 with 1 Axes>"
      ]
     },
     "metadata": {
      "needs_background": "light"
     },
     "output_type": "display_data"
    }
   ],
   "source": [
    "plt.plot(phi_ext,chi*1e3)"
   ]
  },
  {
   "cell_type": "markdown",
   "metadata": {},
   "source": [
    "# Sweep cavity frequency"
   ]
  },
  {
   "cell_type": "code",
   "execution_count": 7,
   "metadata": {
    "ExecuteTime": {
     "end_time": "2021-12-29T06:18:26.447550Z",
     "start_time": "2021-12-29T06:18:05.110891Z"
    }
   },
   "outputs": [],
   "source": [
    "wr_array = np.linspace(4,10,301)\n",
    "chi = np.zeros_like(wr_array)\n",
    "qubit = fluxonium.Fluxonium(E_J = E_J, E_C=E_C, E_L=E_L, phi_ext=np.pi, nlev = nlev_single, nlev_lc = nlev_lc)\n",
    "\n",
    "for idx, wr in enumerate(wr_array):\n",
    "    coupl_res = resonator.Cavity(omega=wr, nlev=12)\n",
    "    system = coupobj.CoupledObjects(qubit, coupl_res,\n",
    "                                        [coupl_res, qubit, g, 'JC-charge'])\n",
    "    energies = system.levels()\n",
    "    e00 = energies[system.level_label('00')]\n",
    "    e10 = energies[system.level_label('10')]\n",
    "    e01 = energies[system.level_label('01')]\n",
    "    e11 = energies[system.level_label('11')]\n",
    "    \n",
    "#     e00 = energies[system.level_label('08')]\n",
    "#     e10 = energies[system.level_label('18')]\n",
    "#     e01 = energies[system.level_label('09')]\n",
    "#     e11 = energies[system.level_label('19')]\n",
    "    \n",
    "    chi[idx] = (e11-e10) - (e01-e00)\n",
    "np.save(figpath+'/chi_numerical_wr.npy',chi)"
   ]
  },
  {
   "cell_type": "code",
   "execution_count": 8,
   "metadata": {
    "ExecuteTime": {
     "end_time": "2021-12-29T06:18:26.708146Z",
     "start_time": "2021-12-29T06:18:26.490791Z"
    }
   },
   "outputs": [
    {
     "data": {
      "text/plain": [
       "[<matplotlib.lines.Line2D at 0x7fe3b6041d00>]"
      ]
     },
     "execution_count": 8,
     "metadata": {},
     "output_type": "execute_result"
    },
    {
     "data": {
      "image/png": "[encoded data removed]",
      "text/plain": [
       "<Figure size 432x288 with 1 Axes>"
      ]
     },
     "metadata": {
      "needs_background": "light"
     },
     "output_type": "display_data"
    }
   ],
   "source": [
    "plt.plot(wr_array, chi*1e3)"
   ]
  },
  {
   "cell_type": "code",
   "execution_count": null,
   "metadata": {},
   "outputs": [],
   "source": []
  }
 ],
 "metadata": {
  "kernelspec": {
   "display_name": "Python 3",
   "language": "python",
   "name": "python3"
  },
  "language_info": {
   "codemirror_mode": {
    "name": "ipython",
    "version": 3
   },
   "file_extension": ".py",
   "mimetype": "text/x-python",
   "name": "python",
   "nbconvert_exporter": "python",
   "pygments_lexer": "ipython3",
   "version": "3.8.5"
  },
  "latex_envs": {
   "LaTeX_envs_menu_present": true,
   "autoclose": false,
   "autocomplete": true,
   "bibliofile": "biblio.bib",
   "cite_by": "apalike",
   "current_citInitial": 1,
   "eqLabelWithNumbers": true,
   "eqNumInitial": 1,
   "hotkeys": {
    "equation": "Ctrl-E",
    "itemize": "Ctrl-I"
   },
   "labels_anchors": false,
   "latex_user_defs": false,
   "report_style_numbering": false,
   "user_envs_cfg": false
  },
  "toc": {
   "base_numbering": 1,
   "nav_menu": {},
   "number_sections": true,
   "sideBar": true,
   "skip_h1_title": false,
   "title_cell": "Table of Contents",
   "title_sidebar": "Contents",
   "toc_cell": true,
   "toc_position": {},
   "toc_section_display": true,
   "toc_window_display": true
  },
  "varInspector": {
   "cols": {
    "lenName": 16,
    "lenType": 16,
    "lenVar": 40
   },
   "kernels_config": {
    "python": {
     "delete_cmd_postfix": "",
     "delete_cmd_prefix": "del ",
     "library": "var_list.py",
     "varRefreshCmd": "print(var_dic_list())"
    },
    "r": {
     "delete_cmd_postfix": ") ",
     "delete_cmd_prefix": "rm(",
     "library": "var_list.r",
     "varRefreshCmd": "cat(var_dic_list()) "
    }
   },
   "types_to_exclude": [
    "module",
    "function",
    "builtin_function_or_method",
    "instance",
    "_Feature"
   ],
   "window_display": false
  }
 },
 "nbformat": 4,
 "nbformat_minor": 4
}
