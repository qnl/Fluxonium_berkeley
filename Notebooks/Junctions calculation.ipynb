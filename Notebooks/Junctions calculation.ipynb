{
 "cells": [
  {
   "cell_type": "markdown",
   "metadata": {},
   "source": [
    "# Junction parameters estimation"
   ]
  },
  {
   "cell_type": "code",
   "execution_count": 63,
   "metadata": {},
   "outputs": [],
   "source": [
    "import scipy.constants as cs\n",
    "import numpy as np\n",
    "from matplotlib import pyplot as plt\n",
    "import sys\n",
    "sys.path.append('/Users/longnguyen/Documents/GitHub/Fluxonium_berkeley/')\n",
    "import plotting_settings"
   ]
  },
  {
   "cell_type": "markdown",
   "metadata": {},
   "source": [
    "## Conversion\n",
    "Here we use the formulas\n",
    "$$ E_C = \\frac{e^2}{2C_\\sum} ,$$\n",
    "\n",
    "$$ E_L = \\frac{\\phi^2}{L},$$\n",
    "and with $L_J = \\phi_0 I_c$, we can write\n",
    "$$E_J = \\phi_o I_c,$$\n",
    "where $\\phi_o = \\hbar/2e$ is the reduced flux quantum, and $I_c$ is the Josephson junction's critical current. The critical current density can be computed via the relation $J_c \\times \\mathrm{area} = I_c$. For an array of junctions, the inductive energy and the array junction Josephson energy are linked via the simple relation $E_L \\times N = E_{JA}$.\\\\\n",
    "\n",
    "To convert from joules to Hz, simple divide by the Planck constant."
   ]
  },
  {
   "cell_type": "code",
   "execution_count": 64,
   "metadata": {},
   "outputs": [],
   "source": [
    "phi_o = cs.hbar/(2*cs.e)\n",
    "def charging_energy(junc_area, C_shunt):\n",
    "    ''' \n",
    "    Junction capacitance: roughly 45fF/um^2  \n",
    "    Input: junc_area in um^2, C_shunt in F\n",
    "    Output: charging energy in GHz\n",
    "    '''\n",
    "    C_J = 45e-15*junc_area #F\n",
    "    C_sum = C_J+C_shunt\n",
    "    E_C = cs.e**2/(2*C_sum)/cs.h\n",
    "    return round(E_C*1e-9,4)\n",
    "\n",
    "def inductive_energy(inductance):\n",
    "    '''\n",
    "    input: inductance in H\n",
    "    output: inductive energy in GHz\n",
    "    '''\n",
    "    E_L = phi_o**2/L/cs.h\n",
    "    return round(E_L*1e-9,4)"
   ]
  },
  {
   "cell_type": "code",
   "execution_count": 65,
   "metadata": {},
   "outputs": [
    {
     "name": "stdout",
     "output_type": "stream",
     "text": [
      "Charging energy E_C = 7.9062 GHz\n",
      "Josephnson energy E_J = 5.4487 GHz\n"
     ]
    }
   ],
   "source": [
    "#Small junction\n",
    "junc_area = 100e-3 * 100e-3 #um^2\n",
    "C_shunt = 2e-15 #F\n",
    "E_C = charging_energy(junc_area, C_shunt)\n",
    "print ('Charging energy E_C = ' +str(E_C) +' GHz')\n",
    "\n",
    "L = 30e-9\n",
    "E_J = inductive_energy(L)\n",
    "print ('Josephnson energy E_J = ' +str(E_J) +' GHz')"
   ]
  },
  {
   "cell_type": "code",
   "execution_count": 66,
   "metadata": {},
   "outputs": [
    {
     "name": "stdout",
     "output_type": "stream",
     "text": [
      "Array E_Ca = 7.9062 GHz\n",
      "Array E_Ja = 347.79 GHz\n",
      "E_Ja per um^2 = 869.475 GHz\n",
      "Inductive energy E_L = 3.4779 GHz\n"
     ]
    }
   ],
   "source": [
    "#Array \n",
    "ajunc_area = 1*0.4 #um^2\n",
    "C_shunt = 0\n",
    "E_Ca = charging_energy(ajunc_area, C_shunt)\n",
    "print ('Array E_Ca = ' +str(E_C) +' GHz')\n",
    "\n",
    "L = 47e-9\n",
    "num_junc = 100\n",
    "E_L = inductive_energy(L)\n",
    "E_Ja = E_L*num_junc\n",
    "print ('Array E_Ja = ' +str(E_Ja) +' GHz')\n",
    "print ('E_Ja per um^2 = ' +str(E_Ja/ajunc_area) +' GHz')\n",
    "print ('Inductive energy E_L = ' +str(E_L) +' GHz')"
   ]
  },
  {
   "cell_type": "markdown",
   "metadata": {},
   "source": [
    "## Chain mode"
   ]
  },
  {
   "cell_type": "code",
   "execution_count": 67,
   "metadata": {},
   "outputs": [
    {
     "data": {
      "text/plain": [
       "<matplotlib.legend.Legend at 0x7fec2d037550>"
      ]
     },
     "execution_count": 67,
     "metadata": {},
     "output_type": "execute_result"
    },
    {
     "data": {
      "image/png": "[encoded data removed]",
      "text/plain": [
       "<Figure size 432x288 with 1 Axes>"
      ]
     },
     "metadata": {
      "needs_background": "light"
     },
     "output_type": "display_data"
    }
   ],
   "source": [
    "def mode_freq(k,wp,Cg, CJA, N):\n",
    "    return wp*np.sqrt((1-np.cos(np.pi*k/N))/((1-np.cos(np.pi*k/N))+0.5*Cg/CJA))\n",
    "\n",
    "k_array = np.linspace(0,10,101)\n",
    "w = np.zeros_like(k_array)\n",
    "\n",
    "#Yale design\n",
    "N = 100\n",
    "CJA = 40e-15\n",
    "LJA = 1.9e-9\n",
    "Cg = 0.04e-15\n",
    "wp = (LJA*CJA)**(-0.5)\n",
    "for idx, k in enumerate(k_array):\n",
    "    w[idx] = mode_freq(k,wp,Cg,CJA,N)/(2*np.pi)*1e-9\n",
    "plt.plot(k_array,w, label = 'Yale')\n",
    "plt.axhline(y=wp/(2*np.pi)*1e-9,linestyle = '--')\n",
    "\n",
    "#UMD design\n",
    "N = 100\n",
    "CJA = 36e-15\n",
    "LJA = 1.65e-9\n",
    "Cg = 0.036e-15\n",
    "wp = (LJA*CJA)**(-0.5)\n",
    "for idx, k in enumerate(k_array):\n",
    "    w[idx] = mode_freq(k,wp,Cg,CJA,N)/(2*np.pi)*1e-9\n",
    "plt.plot(k_array,w, label = 'UMD')\n",
    "plt.axhline(y=wp/(2*np.pi)*1e-9,linestyle = '--')\n",
    "\n",
    "#Berkeley design\n",
    "N = 100\n",
    "CJA = 36e-15\n",
    "LJA = 0.47e-9\n",
    "Cg = 0.04e-15\n",
    "wp = (LJA*CJA)**(-0.5)\n",
    "for idx, k in enumerate(k_array):\n",
    "    w[idx] = mode_freq(k,wp,Cg,CJA,N)/(2*np.pi)*1e-9\n",
    "plt.plot(k_array,w, label = 'QNL')\n",
    "plt.axhline(y=wp/(2*np.pi)*1e-9,linestyle = '--')\n",
    "\n",
    "plt.axvline(x=1)\n",
    "plt.xlim([0,10])\n",
    "plt.xlabel(r'$k$')\n",
    "plt.ylabel(r'$\\omega_k$ (GHz)')\n",
    "plt.legend()"
   ]
  },
  {
   "cell_type": "markdown",
   "metadata": {},
   "source": [
    "## UMD fabrication data"
   ]
  },
  {
   "cell_type": "code",
   "execution_count": 72,
   "metadata": {},
   "outputs": [
    {
     "data": {
      "text/plain": [
       "[<matplotlib.lines.Line2D at 0x7fec2d52dc70>]"
      ]
     },
     "execution_count": 72,
     "metadata": {},
     "output_type": "execute_result"
    },
    {
     "data": {
      "image/png": "[encoded data removed]",
      "text/plain": [
       "<Figure size 432x288 with 1 Axes>"
      ]
     },
     "metadata": {
      "needs_background": "light"
     },
     "output_type": "display_data"
    }
   ],
   "source": [
    "from Devices import UMD\n",
    "samples = UMD.devices()\n",
    "\n",
    "E_J_all = np.zeros(len(samples))\n",
    "E_L_all = np.zeros_like(E_J_all)\n",
    "E_C_all = np.zeros_like(E_J_all)\n",
    "juncArea_all = np.zeros_like(E_J_all)\n",
    "juncNum_all = np.zeros_like(E_J_all)\n",
    "ajuncArea_all = np.zeros_like(E_J_all)\n",
    "for idx in range(len(samples)):\n",
    "    E_J_all[idx] = samples[idx]['E_J']\n",
    "    E_L_all[idx] = samples[idx]['E_L']\n",
    "    E_C_all[idx] = samples[idx]['E_C']\n",
    "    juncArea_all[idx] = samples[idx]['junc_area']*1e-18\n",
    "    juncNum_all[idx] = samples[idx]['array_junc_num']\n",
    "    ajuncArea_all[idx] = samples[idx]['array_junc_area']*1e-12\n",
    "    \n",
    "E_J_chain = E_L_all * juncNum_all\n",
    "#Critical current\n",
    "J_o_junc = (E_J_all*1e9*cs.h) / phi_o / juncArea_all\n",
    "J_o_chain = (E_J_chain*1e9*cs.h) / phi_o / ajuncArea_all\n",
    "\n",
    "plt.plot(J_o_junc)\n",
    "plt.plot(J_o_chain)"
   ]
  },
  {
   "cell_type": "markdown",
   "metadata": {},
   "source": [
    "## Berkeley fabrication data"
   ]
  },
  {
   "cell_type": "markdown",
   "metadata": {},
   "source": [
    "## Phase slip estimation"
   ]
  },
  {
   "cell_type": "code",
   "execution_count": null,
   "metadata": {},
   "outputs": [],
   "source": []
  }
 ],
 "metadata": {
  "kernelspec": {
   "display_name": "Python 3",
   "language": "python",
   "name": "python3"
  },
  "language_info": {
   "codemirror_mode": {
    "name": "ipython",
    "version": 3
   },
   "file_extension": ".py",
   "mimetype": "text/x-python",
   "name": "python",
   "nbconvert_exporter": "python",
   "pygments_lexer": "ipython3",
   "version": "3.8.5"
  }
 },
 "nbformat": 4,
 "nbformat_minor": 4
}
