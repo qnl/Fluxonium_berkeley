{
 "cells": [
  {
   "cell_type": "markdown",
   "metadata": {},
   "source": [
    "# Transmon systems dynamics"
   ]
  },
  {
   "cell_type": "code",
   "execution_count": null,
   "metadata": {},
   "outputs": [],
   "source": [
    "import numpy as np\n",
    "from matplotlib import pyplot as plt\n",
    "from qutip import*\n",
    "from scipy.special import eval_hermite as hpoly\n",
    "import sys\n",
    "sys.path.append('/Users/longnguyen/Documents/GitHub/Fluxonium_berkeley/')\n",
    "from Fluxonium_hamiltonians import qchard_coupobj as coupobj\n",
    "from Fluxonium_hamiltonians import qchard_transmon as transmon\n",
    "from Fluxonium_hamiltonians import qchard_pshapes as pshapes\n",
    "from Fluxonium_hamiltonians import qchard_evolgates as gates\n",
    "import plotting_settings\n",
    "import scipy.linalg"
   ]
  },
  {
   "cell_type": "markdown",
   "metadata": {},
   "source": [
    "## Parameters "
   ]
  },
  {
   "cell_type": "code",
   "execution_count": 3,
   "metadata": {},
   "outputs": [],
   "source": [
    "omega1 = 5.2541 #GHz\n",
    "omega2 = 5.3310\n",
    "omega3 = 5.4910\n",
    "alpha1 = 4.9770-omega1\n",
    "alpha2 = 5.0589-omega2\n",
    "alpha3 = 5.2192-omega3\n",
    "nlev = 3\n",
    "control1 = transmon.TransmonSimple(omega_q = omega1, alpha = alpha1, nlev = nlev)\n",
    "target = transmon.TransmonSimple(omega_q = omega2, alpha = alpha2, nlev = nlev)\n",
    "control2 = transmon.TransmonSimple(omega_q = omega3, alpha = alpha3, nlev = nlev)\n",
    "g = 2*np.pi*0.00279\n",
    "coupling_type = 'JC-rwa'"
   ]
  },
  {
   "cell_type": "code",
   "execution_count": null,
   "metadata": {},
   "outputs": [],
   "source": [
    "#Sweep the coupling strength, charge\n",
    "E_int_array = np.linspace(0, 0.1, 101)\n",
    "energies_coupled_swE = np.zeros((control1.nlev * control2.nlev * target.nlev, len(E_int_array)))\n",
    "nlev_show = 10\n",
    "\n",
    "for idx, E_int in enumerate(E_int_array):\n",
    "    system = coupobj.CoupledObjects(control1, target, control2,\n",
    "    [control1, target, E_int, coupling_type],\n",
    "    [control2, target, E_int, coupling_type])\n",
    "    energies_coupled_swE[:,idx] = system.levels()\n",
    "\n",
    "fig, (ax1, ax2) = plt.subplots(nrows=1, ncols=2, figsize = [12,6])\n",
    "plt.subplots_adjust(left=None, bottom=None, right=None, top=None, wspace=None, hspace=None)\n",
    "\n",
    "#Transition freqs\n",
    "for idx in range(0, nlev_show):\n",
    "    ax1.plot(E_int_array, energies_coupled_swE[idx, :]-energies_coupled_swE[0, :], linewidth = 2.0)\n",
    "ax1.set_xlabel('$J_C$ (GHz)')\n",
    "ax1.set_ylabel('Eigenenergies (GHz)')\n",
    "ax1.set_xlim([E_int_array[0], E_int_array[-1]])\n",
    "ax1.set_ylim([-0.2,15])\n",
    "\n",
    "#State labeling\n",
    "for idx in range(0, nlev_show):\n",
    "    ax2.plot(E_int_array, 0.1 * idx+(energies_coupled_swE[idx, :]-energies_coupled_swE[idx, 0]), linewidth = 2.0)\n",
    "    label = (r'$|$' + system.level_label(idx, label_format='str') + r'$\\rangle$')\n",
    "    ax2.text(0, 0.02 + 0.1 * idx, label, fontsize=12)\n",
    "ax2.set_xlabel('$J_C$ (GHz)')\n",
    "ax2.set_ylabel(r'$\\delta f$')\n",
    "ax2.set_xlim([E_int_array[0], E_int_array[-1]])"
   ]
  },
  {
   "cell_type": "markdown",
   "metadata": {},
   "source": [
    "## Drive"
   ]
  },
  {
   "cell_type": "code",
   "execution_count": 6,
   "metadata": {},
   "outputs": [
    {
     "ename": "AttributeError",
     "evalue": "'str' object has no attribute 'isket'",
     "output_type": "error",
     "traceback": [
      "\u001b[0;31m---------------------------------------------------------------------------\u001b[0m",
      "\u001b[0;31mAttributeError\u001b[0m                            Traceback (most recent call last)",
      "\u001b[0;32m<ipython-input-6-69ed2ba2c802>\u001b[0m in \u001b[0;36m<module>\u001b[0;34m\u001b[0m\n\u001b[1;32m     25\u001b[0m \u001b[0mH_drive\u001b[0m \u001b[0;34m=\u001b[0m \u001b[0mepsilon\u001b[0m \u001b[0;34m*\u001b[0m \u001b[0;34m(\u001b[0m\u001b[0msystem\u001b[0m\u001b[0;34m.\u001b[0m\u001b[0ma\u001b[0m\u001b[0;34m(\u001b[0m\u001b[0;36m0\u001b[0m\u001b[0;34m)\u001b[0m \u001b[0;34m+\u001b[0m \u001b[0msystem\u001b[0m\u001b[0;34m.\u001b[0m\u001b[0ma\u001b[0m\u001b[0;34m(\u001b[0m\u001b[0;36m0\u001b[0m\u001b[0;34m)\u001b[0m\u001b[0;34m.\u001b[0m\u001b[0mdag\u001b[0m\u001b[0;34m(\u001b[0m\u001b[0;34m)\u001b[0m \u001b[0;34m+\u001b[0m \u001b[0msystem\u001b[0m\u001b[0;34m.\u001b[0m\u001b[0ma\u001b[0m\u001b[0;34m(\u001b[0m\u001b[0;36m1\u001b[0m\u001b[0;34m)\u001b[0m \u001b[0;34m+\u001b[0m \u001b[0msystem\u001b[0m\u001b[0;34m.\u001b[0m\u001b[0ma\u001b[0m\u001b[0;34m(\u001b[0m\u001b[0;36m1\u001b[0m\u001b[0;34m)\u001b[0m\u001b[0;34m.\u001b[0m\u001b[0mdag\u001b[0m\u001b[0;34m(\u001b[0m\u001b[0;34m)\u001b[0m\u001b[0;34m)\u001b[0m\u001b[0;34m\u001b[0m\u001b[0;34m\u001b[0m\u001b[0m\n\u001b[1;32m     26\u001b[0m \u001b[0mcomp_space\u001b[0m \u001b[0;34m=\u001b[0m \u001b[0;34m(\u001b[0m\u001b[0;34m'|000>'\u001b[0m\u001b[0;34m,\u001b[0m \u001b[0;34m'|100>'\u001b[0m\u001b[0;34m,\u001b[0m \u001b[0;34m'|010>'\u001b[0m\u001b[0;34m,\u001b[0m \u001b[0;34m'|001>'\u001b[0m\u001b[0;34m,\u001b[0m \u001b[0;34m'|110>'\u001b[0m\u001b[0;34m,\u001b[0m \u001b[0;34m'|011>'\u001b[0m\u001b[0;34m,\u001b[0m \u001b[0;34m'|101>'\u001b[0m\u001b[0;34m,\u001b[0m \u001b[0;34m'|111>'\u001b[0m\u001b[0;34m)\u001b[0m\u001b[0;34m\u001b[0m\u001b[0;34m\u001b[0m\u001b[0m\n\u001b[0;32m---> 27\u001b[0;31m U_t = gates.evolution_subspace_microwave(\n\u001b[0m\u001b[1;32m     28\u001b[0m         \u001b[0msystem\u001b[0m\u001b[0;34m.\u001b[0m\u001b[0mH\u001b[0m\u001b[0;34m(\u001b[0m\u001b[0;34m)\u001b[0m\u001b[0;34m,\u001b[0m \u001b[0mH_drive\u001b[0m\u001b[0;34m,\u001b[0m \u001b[0msubspace_states\u001b[0m \u001b[0;34m=\u001b[0m \u001b[0mcomp_space\u001b[0m\u001b[0;34m,\u001b[0m \u001b[0mt_points\u001b[0m\u001b[0;34m=\u001b[0m\u001b[0mt_points\u001b[0m\u001b[0;34m,\u001b[0m\u001b[0;34m\u001b[0m\u001b[0;34m\u001b[0m\u001b[0m\n\u001b[1;32m     29\u001b[0m         T_gate=T_gate, shape=shape, sigma=sigma, omega_d=omega_d)\n",
      "\u001b[0;32m~/Documents/GitHub/Fluxonium_berkeley/Fluxonium_hamiltonians/qchard_evolgates.py\u001b[0m in \u001b[0;36mevolution_subspace_microwave\u001b[0;34m(H_nodrive, H_drive, subspace_states, t_points, **kwargs)\u001b[0m\n\u001b[1;32m    256\u001b[0m     \u001b[0mpsi_t\u001b[0m \u001b[0;34m=\u001b[0m \u001b[0mnp\u001b[0m\u001b[0;34m.\u001b[0m\u001b[0mempty_like\u001b[0m\u001b[0;34m(\u001b[0m\u001b[0msubspace_states\u001b[0m\u001b[0;34m,\u001b[0m \u001b[0mdtype\u001b[0m\u001b[0;34m=\u001b[0m\u001b[0mobject\u001b[0m\u001b[0;34m)\u001b[0m\u001b[0;34m\u001b[0m\u001b[0;34m\u001b[0m\u001b[0m\n\u001b[1;32m    257\u001b[0m     \u001b[0;32mfor\u001b[0m \u001b[0mind\u001b[0m\u001b[0;34m,\u001b[0m \u001b[0mpsi_0\u001b[0m \u001b[0;32min\u001b[0m \u001b[0menumerate\u001b[0m\u001b[0;34m(\u001b[0m\u001b[0msubspace_states\u001b[0m\u001b[0;34m)\u001b[0m\u001b[0;34m:\u001b[0m\u001b[0;34m\u001b[0m\u001b[0;34m\u001b[0m\u001b[0m\n\u001b[0;32m--> 258\u001b[0;31m         psi_t[ind] = evolution_psi_microwave(\n\u001b[0m\u001b[1;32m    259\u001b[0m             H_nodrive, H_drive, psi_0, t_points, **kwargs)\n\u001b[1;32m    260\u001b[0m \u001b[0;34m\u001b[0m\u001b[0m\n",
      "\u001b[0;32m~/Documents/GitHub/Fluxonium_berkeley/Fluxonium_hamiltonians/qchard_evolgates.py\u001b[0m in \u001b[0;36mevolution_psi_microwave\u001b[0;34m(H_nodrive, H_drive, psi0, t_points, **kwargs)\u001b[0m\n\u001b[1;32m    179\u001b[0m \u001b[0;34m\u001b[0m\u001b[0m\n\u001b[1;32m    180\u001b[0m     \u001b[0mH\u001b[0m \u001b[0;34m=\u001b[0m \u001b[0;34m[\u001b[0m\u001b[0;36m2\u001b[0m \u001b[0;34m*\u001b[0m \u001b[0mnp\u001b[0m\u001b[0;34m.\u001b[0m\u001b[0mpi\u001b[0m \u001b[0;34m*\u001b[0m \u001b[0mH_nodrive\u001b[0m\u001b[0;34m,\u001b[0m \u001b[0;34m[\u001b[0m\u001b[0mH_drive\u001b[0m\u001b[0;34m,\u001b[0m \u001b[0mH_drive_coeff_gate\u001b[0m\u001b[0;34m]\u001b[0m\u001b[0;34m]\u001b[0m\u001b[0;34m\u001b[0m\u001b[0;34m\u001b[0m\u001b[0m\n\u001b[0;32m--> 181\u001b[0;31m     result = qt.sesolve(H, psi0, t_points, [], args=kwargs,\n\u001b[0m\u001b[1;32m    182\u001b[0m                         options=qt.Options(nsteps=25000))\n\u001b[1;32m    183\u001b[0m \u001b[0;34m\u001b[0m\u001b[0m\n",
      "\u001b[0;32m~/opt/anaconda3/envs/qutip-env/lib/python3.8/site-packages/qutip/sesolve.py\u001b[0m in \u001b[0;36msesolve\u001b[0;34m(H, psi0, tlist, e_ops, args, options, progress_bar, _safe_mode)\u001b[0m\n\u001b[1;32m    131\u001b[0m         \u001b[0mprogress_bar\u001b[0m \u001b[0;34m=\u001b[0m \u001b[0mTextProgressBar\u001b[0m\u001b[0;34m(\u001b[0m\u001b[0;34m)\u001b[0m\u001b[0;34m\u001b[0m\u001b[0;34m\u001b[0m\u001b[0m\n\u001b[1;32m    132\u001b[0m \u001b[0;34m\u001b[0m\u001b[0m\n\u001b[0;32m--> 133\u001b[0;31m     \u001b[0;32mif\u001b[0m \u001b[0;32mnot\u001b[0m \u001b[0;34m(\u001b[0m\u001b[0mpsi0\u001b[0m\u001b[0;34m.\u001b[0m\u001b[0misket\u001b[0m \u001b[0;32mor\u001b[0m \u001b[0mpsi0\u001b[0m\u001b[0;34m.\u001b[0m\u001b[0misunitary\u001b[0m\u001b[0;34m)\u001b[0m\u001b[0;34m:\u001b[0m\u001b[0;34m\u001b[0m\u001b[0;34m\u001b[0m\u001b[0m\n\u001b[0m\u001b[1;32m    134\u001b[0m         raise TypeError(\"The unitary solver requires psi0 to be\"\n\u001b[1;32m    135\u001b[0m                         \u001b[0;34m\" a ket as initial state\"\u001b[0m\u001b[0;34m\u001b[0m\u001b[0;34m\u001b[0m\u001b[0m\n",
      "\u001b[0;31mAttributeError\u001b[0m: 'str' object has no attribute 'isket'"
     ]
    }
   ],
   "source": [
    "system = coupobj.CoupledObjects(control1, target, control2,\n",
    "    [control1, target, g, coupling_type],\n",
    "    [control2, target, g, coupling_type])\n",
    "\n",
    "#Gate parameters\n",
    "T_gate = 340 #ns\n",
    "transition_to_drive = ('000','010')\n",
    "drive_amplitude_factor = 1\n",
    "delta_omega_d = 0.0\n",
    "\n",
    "#pulse shape\n",
    "shape = 'gauss'\n",
    "sigma = 0.25 #in unit of T_gate\n",
    "nlev_q = 5\n",
    "\n",
    "#Drive amplitude and frequency\n",
    "level1, level2 = transition_to_drive[0], transition_to_drive[1]\n",
    "omega_d = abs(system.freq(level1, level2)) + delta_omega_d\n",
    "matr_el = np.abs(system.a_ij(control1, level1, level2) + system.adag_ij(control1, level1, level2)\n",
    "                 + system.a_ij(control2, level1, level2) + system.adag_ij(control2, level1, level2))\n",
    "epsilon = drive_amplitude_factor / abs(matr_el)\n",
    "\n",
    "#Evolve gate\n",
    "t_points = np.linspace(0, T_gate, 2 * int(T_gate) + 1)\n",
    "H_drive = epsilon * (system.a(0) + system.a(0).dag() + system.a(1) + system.a(1).dag())\n",
    "comp_space = ('|000>', '|100>', '|010>', '|001>', '|110>', '|011>', '|101>', '|111>')\n",
    "U_t = gates.evolution_subspace_microwave(\n",
    "        system.H(), H_drive, subspace_states = comp_space, t_points=t_points, \n",
    "        T_gate=T_gate, shape=shape, sigma=sigma, omega_d=omega_d)"
   ]
  },
  {
   "cell_type": "code",
   "execution_count": null,
   "metadata": {},
   "outputs": [],
   "source": []
  },
  {
   "cell_type": "code",
   "execution_count": null,
   "metadata": {},
   "outputs": [],
   "source": []
  }
 ],
 "metadata": {
  "kernelspec": {
   "display_name": "Python 3",
   "language": "python",
   "name": "python3"
  },
  "language_info": {
   "codemirror_mode": {
    "name": "ipython",
    "version": 3
   },
   "file_extension": ".py",
   "mimetype": "text/x-python",
   "name": "python",
   "nbconvert_exporter": "python",
   "pygments_lexer": "ipython3",
   "version": "3.8.5"
  }
 },
 "nbformat": 4,
 "nbformat_minor": 4
}
