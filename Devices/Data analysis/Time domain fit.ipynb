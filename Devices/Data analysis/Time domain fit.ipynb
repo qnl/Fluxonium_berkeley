{
 "cells": [
  {
   "cell_type": "markdown",
   "metadata": {
    "toc": true
   },
   "source": [
    "<h1>Table of Contents<span class=\"tocSkip\"></span></h1>\n",
    "<div class=\"toc\"><ul class=\"toc-item\"><li><span><a href=\"#Import\" data-toc-modified-id=\"Import-1\"><span class=\"toc-item-num\">1&nbsp;&nbsp;</span>Import</a></span></li><li><span><a href=\"#Single-T1\" data-toc-modified-id=\"Single-T1-2\"><span class=\"toc-item-num\">2&nbsp;&nbsp;</span>Single T1</a></span></li></ul></div>"
   ]
  },
  {
   "cell_type": "markdown",
   "metadata": {},
   "source": [
    "# Import"
   ]
  },
  {
   "cell_type": "code",
   "execution_count": 53,
   "metadata": {
    "ExecuteTime": {
     "end_time": "2022-08-02T04:12:13.481011Z",
     "start_time": "2022-08-02T04:12:13.470815Z"
    }
   },
   "outputs": [],
   "source": [
    "from scipy.optimize import curve_fit\n",
    "from matplotlib import pyplot as plt\n",
    "import numpy as np\n",
    "import sys\n",
    "sys.path.append(\"/Users/longnguyen/Documents/Labber/Script\")\n",
    "import Labber\n",
    "sys.path.append(\"/Users/longnguyen/Documents/Data/fluxonium\")\n",
    "import h5py"
   ]
  },
  {
   "cell_type": "markdown",
   "metadata": {},
   "source": [
    "# Single T1 "
   ]
  },
  {
   "cell_type": "code",
   "execution_count": 18,
   "metadata": {
    "ExecuteTime": {
     "end_time": "2022-08-02T00:55:26.915071Z",
     "start_time": "2022-08-02T00:55:26.899438Z"
    }
   },
   "outputs": [
    {
     "name": "stdout",
     "output_type": "stream",
     "text": [
      "<KeysViewHDF5 ['Channels', 'Data', 'Instrument config', 'Instruments', 'Log list', 'Settings', 'Step config', 'Step list', 'Tags']>\n"
     ]
    }
   ],
   "source": [
    "fname=r'/Users/longnguyen/Documents/Data/fluxonium/Q1_T1_loop.hdf5'\n",
    "f = h5py.File(fname,'r')\n",
    "print (f.keys())"
   ]
  },
  {
   "cell_type": "code",
   "execution_count": 20,
   "metadata": {
    "ExecuteTime": {
     "end_time": "2022-08-02T00:56:40.236656Z",
     "start_time": "2022-08-02T00:56:40.232045Z"
    }
   },
   "outputs": [
    {
     "data": {
      "text/plain": [
       "<KeysViewHDF5 ['Channel names', 'Data', 'Time stamp']>"
      ]
     },
     "execution_count": 20,
     "metadata": {},
     "output_type": "execute_result"
    }
   ],
   "source": [
    "f.get('Data').keys()"
   ]
  },
  {
   "cell_type": "code",
   "execution_count": 21,
   "metadata": {
    "ExecuteTime": {
     "end_time": "2022-08-02T00:56:57.495796Z",
     "start_time": "2022-08-02T00:56:57.491743Z"
    }
   },
   "outputs": [
    {
     "data": {
      "text/plain": [
       "<HDF5 dataset \"Data\": shape (40, 4, 6), type \"<f8\">"
      ]
     },
     "execution_count": 21,
     "metadata": {},
     "output_type": "execute_result"
    }
   ],
   "source": [
    "f.get('Data').get('Data')"
   ]
  },
  {
   "cell_type": "code",
   "execution_count": 28,
   "metadata": {
    "ExecuteTime": {
     "end_time": "2022-08-02T00:58:18.167952Z",
     "start_time": "2022-08-02T00:58:18.163100Z"
    }
   },
   "outputs": [
    {
     "data": {
      "text/plain": [
       "array([(b'Multi-Qubit Pulse Generator - Sequence duration', b''),\n",
       "       (b'DataFitter - Decay Constant Guess-s', b''),\n",
       "       (b'Signal Demodulation - Value', b'Real'),\n",
       "       (b'Signal Demodulation - Value', b'Imaginary')],\n",
       "      dtype=[('name', 'O'), ('info', 'O')])"
      ]
     },
     "execution_count": 28,
     "metadata": {},
     "output_type": "execute_result"
    }
   ],
   "source": [
    "f.get('Data').get('Channel names')[:]"
   ]
  },
  {
   "cell_type": "code",
   "execution_count": 38,
   "metadata": {
    "ExecuteTime": {
     "end_time": "2022-08-02T01:01:45.278835Z",
     "start_time": "2022-08-02T01:01:45.274256Z"
    }
   },
   "outputs": [],
   "source": [
    "time = f.get('Data').get('Data')[:,0,0]*1e6\n",
    "real = f.get('Data').get('Data')[:,2,0]\n",
    "imag = f.get('Data').get('Data')[:,3,0]"
   ]
  },
  {
   "cell_type": "code",
   "execution_count": 40,
   "metadata": {
    "ExecuteTime": {
     "end_time": "2022-08-02T01:02:07.057081Z",
     "start_time": "2022-08-02T01:02:06.951036Z"
    }
   },
   "outputs": [
    {
     "data": {
      "text/plain": [
       "[<matplotlib.lines.Line2D at 0x7f9f87638d00>]"
      ]
     },
     "execution_count": 40,
     "metadata": {},
     "output_type": "execute_result"
    },
    {
     "data": {
      "image/png": "[encoded data removed]",
      "text/plain": [
       "<Figure size 432x288 with 1 Axes>"
      ]
     },
     "metadata": {
      "needs_background": "light"
     },
     "output_type": "display_data"
    }
   ],
   "source": [
    "phase = np.angle(real+1j*imag)\n",
    "plt.plot(time,phase)"
   ]
  },
  {
   "cell_type": "code",
   "execution_count": 52,
   "metadata": {
    "ExecuteTime": {
     "end_time": "2022-08-02T01:05:46.014106Z",
     "start_time": "2022-08-02T01:05:45.903959Z"
    }
   },
   "outputs": [
    {
     "data": {
      "text/plain": [
       "Text(0.5, 1.0, '30.537568829965792')"
      ]
     },
     "execution_count": 52,
     "metadata": {},
     "output_type": "execute_result"
    },
    {
     "data": {
      "image/png": "[encoded data removed]",
      "text/plain": [
       "<Figure size 432x288 with 1 Axes>"
      ]
     },
     "metadata": {
      "needs_background": "light"
     },
     "output_type": "display_data"
    }
   ],
   "source": [
    "idx = 0\n",
    "\n",
    "\n",
    "time = f.get('Data').get('Data')[:,0,idx]*1e6\n",
    "real = f.get('Data').get('Data')[:,2,idx]\n",
    "imag = f.get('Data').get('Data')[:,3,idx]\n",
    "\n",
    "phase = np.angle(real+1j*imag)\n",
    "plt.plot(time,phase)\n",
    "\n",
    "def exp_func(x,amp,tau,const):\n",
    "    return amp*np.exp(-x/tau)+const\n",
    "guess = [np.max(phase) - np.min(phase), 30, np.min(phase)]\n",
    "opt, cov = curve_fit(exp_func, xdata = time, ydata = phase, p0 = guess)\n",
    "plt.plot(time,phase)\n",
    "plt.plot(time,exp_func(time,*opt),'--')\n",
    "plt.title(opt[1])"
   ]
  },
  {
   "cell_type": "code",
   "execution_count": null,
   "metadata": {},
   "outputs": [],
   "source": []
  }
 ],
 "metadata": {
  "kernelspec": {
   "display_name": "Python 3",
   "language": "python",
   "name": "python3"
  },
  "language_info": {
   "codemirror_mode": {
    "name": "ipython",
    "version": 3
   },
   "file_extension": ".py",
   "mimetype": "text/x-python",
   "name": "python",
   "nbconvert_exporter": "python",
   "pygments_lexer": "ipython3",
   "version": "3.8.5"
  },
  "latex_envs": {
   "LaTeX_envs_menu_present": true,
   "autoclose": false,
   "autocomplete": true,
   "bibliofile": "biblio.bib",
   "cite_by": "apalike",
   "current_citInitial": 1,
   "eqLabelWithNumbers": true,
   "eqNumInitial": 1,
   "hotkeys": {
    "equation": "Ctrl-E",
    "itemize": "Ctrl-I"
   },
   "labels_anchors": false,
   "latex_user_defs": false,
   "report_style_numbering": false,
   "user_envs_cfg": false
  },
  "toc": {
   "base_numbering": 1,
   "nav_menu": {},
   "number_sections": true,
   "sideBar": true,
   "skip_h1_title": false,
   "title_cell": "Table of Contents",
   "title_sidebar": "Contents",
   "toc_cell": true,
   "toc_position": {},
   "toc_section_display": true,
   "toc_window_display": true
  },
  "varInspector": {
   "cols": {
    "lenName": 16,
    "lenType": 16,
    "lenVar": 40
   },
   "kernels_config": {
    "python": {
     "delete_cmd_postfix": "",
     "delete_cmd_prefix": "del ",
     "library": "var_list.py",
     "varRefreshCmd": "print(var_dic_list())"
    },
    "r": {
     "delete_cmd_postfix": ") ",
     "delete_cmd_prefix": "rm(",
     "library": "var_list.r",
     "varRefreshCmd": "cat(var_dic_list()) "
    }
   },
   "types_to_exclude": [
    "module",
    "function",
    "builtin_function_or_method",
    "instance",
    "_Feature"
   ],
   "window_display": false
  }
 },
 "nbformat": 4,
 "nbformat_minor": 4
}
