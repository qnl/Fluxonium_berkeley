{
 "cells": [
  {
   "cell_type": "code",
   "execution_count": 11,
   "metadata": {},
   "outputs": [],
   "source": [
    "import gdspy\n",
    "import qnldraw as qd\n",
    "import qnldraw.library as qlib\n",
    "from qnldraw import Chip\n",
    "import qnldraw.shapes as shapes\n",
    "from qnldraw import components\n",
    "import qnldraw.paths as paths\n",
    "import numpy as np\n",
    "import qnldraw.junction as qj"
   ]
  },
  {
   "cell_type": "code",
   "execution_count": 42,
   "metadata": {},
   "outputs": [],
   "source": [
    "\n",
    "class DolanBridgeJunctionArray(components.Component):\n",
    "    __draw__ = True\n",
    "    \n",
    "    def draw(self, n, overlap, spacing, undercut):\n",
    "        jx, jy = overlap\n",
    "        ox, oy = undercut\n",
    "        \n",
    "        positions = (np.arange(n) - (n-1)/2)*(jy+spacing)\n",
    "        \n",
    "        for y in positions:\n",
    "            junction_rect = shapes.Rectangle(jx, jy).translate(0, y)\n",
    "            self.add(junction_rect)\n",
    "        overlay = shapes.Rectangle(ox,oy, layer = 1).translate(-extra_undercut, 0)\n",
    "        self.add(overlay)\n",
    "        nodes = {\n",
    "            'wire1': np.array((0, positions[-1] + 0.5*jy)),\n",
    "            'wire2': np.array((0, positions[0] - 0.5*jy))\n",
    "        }\n",
    "        return nodes"
   ]
  },
  {
   "cell_type": "code",
   "execution_count": 55,
   "metadata": {},
   "outputs": [],
   "source": [
    "if __name__ == \"__main__\":\n",
    "    lib = gdspy.GdsLibrary()\n",
    "    chip = qd.Chip(size = (2000,1000))\n",
    "\n",
    "#     with open('parameters.yaml', 'r') as f:\n",
    "#         params = qd.Params(yaml.load(f, yaml.CSafeLoader))\n",
    "\n",
    "    #These should probably be put in parameters.yaml\n",
    "    n =  10\n",
    "    overlap = [2,1] # lx, ly, junction size\n",
    "    spacing = 0.2\n",
    "    extra_undercut = 0.1\n",
    "    undercut = [overlap[0]+0.1+extra_undercut, n*(overlap[1]+spacing)+0.1]\n",
    "    \n",
    "    \n",
    "\n",
    "    dose_layers = [1, 2]\n",
    "    evap_layers = [4, 5]\n",
    "    params = {\n",
    "        'evaporation':\n",
    "        {'layers': [4, 5],\n",
    "         'source': {'distance': 390000.0},\n",
    "         'resist': {'residual_undercut': 0.17, 'upper_photoresist_thickness': 0.12, 'lower_photoresist_thickness': 0.5},\n",
    "         'angles': {'theta': 45, 'phi': ['+y', '+x']}\n",
    "        }\n",
    "    }\n",
    "    \n",
    "\n",
    "    junction_array = DolanBridgeJunctionArray(n, overlap, spacing, undercut)\n",
    "#     fig = qd.plot(junction_array)\n",
    "    chip.add_component(junction_array, cid='JJArray', layers=dose_layers)\n",
    "\n",
    "    ## Simulate Evaporation\n",
    "    polys = junction_array.get_polygons(by_spec=True)\n",
    "    highdose = gdspy.PolygonSet(polys[(dose_layers[0], 0)])\n",
    "    lowdose = gdspy.PolygonSet(polys[(dose_layers[1], 0)])\n",
    "\n",
    "    evaporated = qj.simulate_evaporation(\n",
    "        lowdose, highdose, **params['evaporation']\n",
    "    )\n",
    "\n",
    "    for i, (layer, evap) in enumerate(zip(evap_layers, evaporated)):\n",
    "        chip.add_component(evap, f'evap_{i}', layers=layer)\n",
    "        \n",
    "    mask = chip.render(name = 'fluxonium', draw_border = True)\n",
    "#     fig = qd.plot(mask[0], figsize=(20,20), axis=True, grid=False)\n",
    "    \n",
    "    cells = chip.render(name='jj_array', draw_border=False)\n",
    "    lib.write_gds('jj_array_test.gds', cells=cells)"
   ]
  },
  {
   "cell_type": "code",
   "execution_count": null,
   "metadata": {},
   "outputs": [],
   "source": []
  },
  {
   "cell_type": "code",
   "execution_count": null,
   "metadata": {},
   "outputs": [],
   "source": []
  }
 ],
 "metadata": {
  "kernelspec": {
   "display_name": "Python 3",
   "language": "python",
   "name": "python3"
  },
  "language_info": {
   "codemirror_mode": {
    "name": "ipython",
    "version": 3
   },
   "file_extension": ".py",
   "mimetype": "text/x-python",
   "name": "python",
   "nbconvert_exporter": "python",
   "pygments_lexer": "ipython3",
   "version": "3.8.5"
  }
 },
 "nbformat": 4,
 "nbformat_minor": 4
}
