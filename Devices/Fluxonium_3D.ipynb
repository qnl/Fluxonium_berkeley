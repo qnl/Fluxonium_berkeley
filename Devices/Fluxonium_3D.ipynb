{
 "cells": [
  {
   "cell_type": "code",
   "execution_count": 3,
   "metadata": {},
   "outputs": [],
   "source": [
    "import gdspy\n",
    "import qnldraw as qd\n",
    "import qnldraw.library as qlib\n",
    "from qnldraw import Chip, shapes, components\n",
    "import qnldraw.paths as paths\n",
    "import numpy as np\n",
    "from qnldraw.junction import JunctionArray\n",
    "from qnldraw.junction import JunctionLead"
   ]
  },
  {
   "cell_type": "code",
   "execution_count": 6,
   "metadata": {},
   "outputs": [],
   "source": [
    "class JunctionArray(components.Component):\n",
    "    __draw__ = True\n",
    "    \n",
    "    def draw(self, n, overlap, wire, undercut):\n",
    "        jx, jy = overlap\n",
    "        wx, wy = wire\n",
    "        \n",
    "        spacing = jy + wy\n",
    "        \n",
    "        positions = (np.arange(n) - (n-1)/2)*spacing\n",
    "        \n",
    "        for y in positions:\n",
    "            junction_rect = shapes.Rectangle(jx, jy).translate(0, y)\n",
    "            undercuts = [\n",
    "                shapes.Rectangle(undercut, jy, 'right', layer=1).translate(-jx/2, y),\n",
    "                shapes.Rectangle(undercut, jy, 'left', layer=1).translate(jx/2, y)\n",
    "            ]\n",
    "            \n",
    "            self.add(junction_rect)\n",
    "            self.add(undercuts)\n",
    "            \n",
    "        for i, y in enumerate(positions[:-1]):\n",
    "            wire_rect = shapes.Rectangle(wx, wy, 'bottom').translate(0, y + 0.5*jy)\n",
    "            undercuts = shapes.Rectangle(\n",
    "                undercut, wy, 'bottom left' if i%2 else 'bottom right', layer=1\n",
    "            ).translate(\n",
    "                (2*(i%2) - 1)*wx/2, y + 0.5*jy\n",
    "            )\n",
    "\n",
    "            self.add(wire_rect)\n",
    "            self.add(undercuts)\n",
    "            \n",
    "        nodes = {\n",
    "            'wire1': np.array((0, positions[-1] + 0.5*jy)),\n",
    "            'wire2': np.array((0, positions[0] - 0.5*jy))\n",
    "        }\n",
    "        return nodes\n",
    "\n",
    "class AntennaSymmetric(components.Component):\n",
    "    __draw__ = True\n",
    "    \n",
    "    def draw(self, pad, lead, gap):\n",
    "        pad_x, pad_y = pad\n",
    "        lead_x, lead_y = lead\n",
    "        \n",
    "        antenna = [\n",
    "            shapes.Rectangle(pad_x, pad_y). translate((gap/2+lead_x+pad_x/2),0),\n",
    "            shapes.Rectangle(pad_x, pad_y). translate(-(gap/2+lead_x+pad_x/2),0),\n",
    "            shapes.Rectangle(lead_x, lead_y). translate(gap/2+lead_x/2,0),\n",
    "            shapes.Rectangle(lead_x, lead_y). translate(-gap/2-lead_x/2,0)\n",
    "        ]\n",
    "        self.add(antenna)\n",
    "        nodes = {\n",
    "            'left': (-gap/2,0),\n",
    "            'right': (gap/2,0)\n",
    "        }\n",
    "        return nodes"
   ]
  },
  {
   "cell_type": "code",
   "execution_count": 5,
   "metadata": {},
   "outputs": [
    {
     "data": {
      "image/png": "[encoded data removed]",
      "text/plain": [
       "<Figure size 360x360 with 1 Axes>"
      ]
     },
     "metadata": {
      "needs_background": "light"
     },
     "output_type": "display_data"
    }
   ],
   "source": [
    "if __name__ == \"__main__\":\n",
    "    lib = gdspy.GdsLibrary()\n",
    "    chip = qd.Chip(size = (2000,1000))\n",
    "    \n",
    "    pad = (100,50)\n",
    "    lead = (200, 10)\n",
    "    gap = 30\n",
    "    \n",
    "    antenna = AntennaSymmetric(pad, lead, gap)\n",
    "    \n",
    "    params = {'number':100, \n",
    "          'overlap': [5, 0.2], \n",
    "          'wire':[0.4, 0.25], \n",
    "          'undercut': 0.8,\n",
    "         'undercut_after_JJ': 1.2}\n",
    "\n",
    "    n = params['number']\n",
    "    overlap = params['overlap']\n",
    "    wire = params['wire']\n",
    "    undercut = params['undercut']\n",
    "    undercut_after_JJ = params['undercut_after_JJ']\n",
    "    array_gap = overlap[0] + 10\n",
    "    offset = 5\n",
    "    \n",
    "    array = JunctionArray(n=n, overlap=overlap, wire=wire, undercut=undercut)\n",
    "    array1 = array.place((-array_gap/2, -offset), node='wire1', rotation=0)\n",
    "    array2 = array.place((array_gap/2, -offset), node='wire1', rotation=0)\n",
    "\n",
    "    lead = shapes.Rectangle(array_gap, overlap[1], (array_gap/2, offset+n*(wire[1]+overlap[1])))\n",
    "    fig = qd.plot(antenna)\n",
    "\n",
    "    chip.add_component(antenna, cid = 'antenna', layers = 2)\n",
    "    chip.add_component(array1, cid = 'array1', layers = 4)\n",
    "    chip.add_component(array2, cid = 'array2', layers = 4)\n",
    "    chip.add_component(lead, cid = 'lead', layers = 5)\n",
    "    mask = chip.render(name = 'fluxonium', draw_border = True)\n",
    "#     fig = qd.plot(mask[0], figsize=(20,20), axis=True, grid=False)"
   ]
  },
  {
   "cell_type": "code",
   "execution_count": null,
   "metadata": {},
   "outputs": [],
   "source": []
  },
  {
   "cell_type": "code",
   "execution_count": null,
   "metadata": {},
   "outputs": [],
   "source": []
  }
 ],
 "metadata": {
  "kernelspec": {
   "display_name": "Python 3",
   "language": "python",
   "name": "python3"
  },
  "language_info": {
   "codemirror_mode": {
    "name": "ipython",
    "version": 3
   },
   "file_extension": ".py",
   "mimetype": "text/x-python",
   "name": "python",
   "nbconvert_exporter": "python",
   "pygments_lexer": "ipython3",
   "version": "3.8.5"
  }
 },
 "nbformat": 4,
 "nbformat_minor": 4
}
