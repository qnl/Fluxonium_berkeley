{
 "cells": [
  {
   "cell_type": "code",
   "execution_count": 5,
   "metadata": {},
   "outputs": [],
   "source": [
    "import os\n",
    "import re\n",
    "import gdspy\n",
    "import numpy as np\n",
    "import ruamel.yaml as yaml\n",
    "\n",
    "import qnldraw as qd\n",
    "import qnldraw.library as qlib\n",
    "\n",
    "from qnldraw import components, paths, shapes, Chip, Params"
   ]
  },
  {
   "cell_type": "code",
   "execution_count": 6,
   "metadata": {},
   "outputs": [],
   "source": [
    "if __name__ == 'main':\n",
    "    param_dir = './parameters'\n",
    "    outfile = 'mask6.gds'\n",
    "    gds_dir = './pattern_files/'\n",
    "\n",
    "    with open(os.path.join(param_dir, 'mqcv6.yaml'), 'r') as f:\n",
    "        sample_params = Params(yaml.load(f, yaml.CSafeLoader))\n",
    "\n",
    "    lib = gdspy.GdsLibrary()\n",
    "    lib.unit = 1.0e-6           # um\n",
    "    lib.precision = 1.0e-9      # nm\n",
    "\n",
    "    chip = Chip()\n",
    "\n",
    "    ## This will be explained later\n",
    "    intersections = [\n",
    "        ([cid for cid in chip.components if re.match(r'^Q\\d+', cid)] +\n",
    "        [cid for cid in chip.components if re.match(r'^COUPLING', cid)])\n",
    "    ]\n",
    "\n",
    "    mask = chip.render('MASK', intersections=intersections, draw_border=True)\n",
    "\n",
    "    lib.write_gds(os.path.join(gds_dir, outfile), cells=mask)\n",
    "    fig=qd.plot(mask)"
   ]
  },
  {
   "cell_type": "code",
   "execution_count": null,
   "metadata": {},
   "outputs": [],
   "source": []
  }
 ],
 "metadata": {
  "kernelspec": {
   "display_name": "Python 3",
   "language": "python",
   "name": "python3"
  },
  "language_info": {
   "codemirror_mode": {
    "name": "ipython",
    "version": 3
   },
   "file_extension": ".py",
   "mimetype": "text/x-python",
   "name": "python",
   "nbconvert_exporter": "python",
   "pygments_lexer": "ipython3",
   "version": "3.8.5"
  }
 },
 "nbformat": 4,
 "nbformat_minor": 4
}
