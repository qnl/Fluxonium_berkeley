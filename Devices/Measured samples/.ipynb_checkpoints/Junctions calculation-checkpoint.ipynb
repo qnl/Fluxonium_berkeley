{
 "cells": [
  {
   "cell_type": "markdown",
   "metadata": {},
   "source": [
    "# Junction parameters estimation"
   ]
  },
  {
   "cell_type": "code",
   "execution_count": 1,
   "metadata": {},
   "outputs": [
    {
     "ename": "ModuleNotFoundError",
     "evalue": "No module named 'scipy'",
     "output_type": "error",
     "traceback": [
      "\u001b[0;31m---------------------------------------------------------------------------\u001b[0m",
      "\u001b[0;31mModuleNotFoundError\u001b[0m                       Traceback (most recent call last)",
      "\u001b[0;32m<ipython-input-1-3702ae2fc1eb>\u001b[0m in \u001b[0;36m<module>\u001b[0;34m\u001b[0m\n\u001b[0;32m----> 1\u001b[0;31m \u001b[0;32mimport\u001b[0m \u001b[0mscipy\u001b[0m\u001b[0;34m.\u001b[0m\u001b[0mconstants\u001b[0m \u001b[0;32mas\u001b[0m \u001b[0mcs\u001b[0m\u001b[0;34m\u001b[0m\u001b[0;34m\u001b[0m\u001b[0m\n\u001b[0m\u001b[1;32m      2\u001b[0m \u001b[0;32mimport\u001b[0m \u001b[0mnumpy\u001b[0m \u001b[0;32mas\u001b[0m \u001b[0mnp\u001b[0m\u001b[0;34m\u001b[0m\u001b[0;34m\u001b[0m\u001b[0m\n\u001b[1;32m      3\u001b[0m \u001b[0;32mfrom\u001b[0m \u001b[0mmatplotlib\u001b[0m \u001b[0;32mimport\u001b[0m \u001b[0mpyplot\u001b[0m \u001b[0;32mas\u001b[0m \u001b[0mplt\u001b[0m\u001b[0;34m\u001b[0m\u001b[0;34m\u001b[0m\u001b[0m\n\u001b[1;32m      4\u001b[0m \u001b[0;32mimport\u001b[0m \u001b[0msys\u001b[0m\u001b[0;34m\u001b[0m\u001b[0;34m\u001b[0m\u001b[0m\n\u001b[1;32m      5\u001b[0m \u001b[0msys\u001b[0m\u001b[0;34m.\u001b[0m\u001b[0mpath\u001b[0m\u001b[0;34m.\u001b[0m\u001b[0mappend\u001b[0m\u001b[0;34m(\u001b[0m\u001b[0;34m'/Users/longnguyen/Documents/GitHub/Fluxonium_berkeley'\u001b[0m\u001b[0;34m)\u001b[0m\u001b[0;34m\u001b[0m\u001b[0;34m\u001b[0m\u001b[0m\n",
      "\u001b[0;31mModuleNotFoundError\u001b[0m: No module named 'scipy'"
     ]
    }
   ],
   "source": [
    "import scipy.constants as cs\n",
    "import numpy as np\n",
    "from matplotlib import pyplot as plt\n",
    "import sys\n",
    "sys.path.append('/Users/longnguyen/Documents/GitHub/Fluxonium_berkeley')\n",
    "import plotting_settings"
   ]
  },
  {
   "cell_type": "markdown",
   "metadata": {},
   "source": [
    "## Conversion\n",
    "Here we use the formulas\n",
    "$$ E_C = \\frac{e^2}{2C_\\sum} ,$$\n",
    "\n",
    "$$ E_L = \\frac{\\phi_0^2}{L},$$\n",
    "and with $L_J = \\phi_0/ I_c$, we can write\n",
    "$$E_J = \\phi_o I_c,$$\n",
    "where $\\phi_o = \\hbar/2e$ is the reduced flux quantum, and $I_c$ is the Josephson junction's critical current. The critical current density can be computed via the relation $J_c \\times \\mathrm{area} = I_c$. For an array of junctions, the inductive energy and the array junction Josephson energy are linked via the simple relation $E_L \\times N = E_{JA}$.\\\\\n",
    "\n",
    "To convert from joules to Hz, simple divide by the Planck constant."
   ]
  },
  {
   "cell_type": "code",
   "execution_count": null,
   "metadata": {},
   "outputs": [],
   "source": [
    "phi_o = cs.hbar/(2*cs.e)\n",
    "def charging_energy(junc_area, C_shunt):\n",
    "    ''' \n",
    "    Junction capacitance: roughly 45fF/um^2  \n",
    "    Input: junc_area in um^2, C_shunt in F\n",
    "    Output: charging energy in GHz\n",
    "    '''\n",
    "    C_J = 45e-15*junc_area #F\n",
    "    C_sum = C_J+C_shunt\n",
    "    E_C = cs.e**2/(2*C_sum)/cs.h\n",
    "    return round(E_C*1e-9,4)\n",
    "\n",
    "def inductive_energy(inductance):\n",
    "    '''\n",
    "    input: inductance in H\n",
    "    output: inductive energy in GHz\n",
    "    '''\n",
    "    E_L = phi_o**2/L/cs.h\n",
    "    return round(E_L*1e-9,4)"
   ]
  },
  {
   "cell_type": "code",
   "execution_count": null,
   "metadata": {},
   "outputs": [],
   "source": [
    "#Small junction\n",
    "junc_area = 100e-3 * 100e-3 #um^2\n",
    "C_shunt = 2e-15 #F\n",
    "E_C = charging_energy(junc_area, C_shunt)\n",
    "print ('Charging energy E_C = ' +str(E_C) +' GHz')\n",
    "\n",
    "L = 30e-9\n",
    "E_J = inductive_energy(L)\n",
    "print ('Josephnson energy E_J = ' +str(E_J) +' GHz')"
   ]
  },
  {
   "cell_type": "code",
   "execution_count": null,
   "metadata": {},
   "outputs": [],
   "source": [
    "#Array \n",
    "ajunc_area = 1*0.4 #um^2\n",
    "C_shunt = 0\n",
    "E_Ca = charging_energy(ajunc_area, C_shunt)\n",
    "print ('Array E_Ca = ' +str(E_C) +' GHz')\n",
    "\n",
    "L = 47e-9\n",
    "num_junc = 100\n",
    "E_L = inductive_energy(L)\n",
    "E_Ja = E_L*num_junc\n",
    "print ('Array E_Ja = ' +str(E_Ja) +' GHz')\n",
    "print ('E_Ja per um^2 = ' +str(E_Ja/ajunc_area) +' GHz')\n",
    "print ('Inductive energy E_L = ' +str(E_L) +' GHz')"
   ]
  },
  {
   "cell_type": "markdown",
   "metadata": {},
   "source": [
    "## Chain mode"
   ]
  },
  {
   "cell_type": "code",
   "execution_count": null,
   "metadata": {},
   "outputs": [],
   "source": [
    "def mode_freq(k,wp,Cg, CJA, N):\n",
    "    return wp*np.sqrt((1-np.cos(np.pi*k/N))/((1-np.cos(np.pi*k/N))+0.5*Cg/CJA))\n",
    "\n",
    "k_array = np.linspace(0,10,101)\n",
    "w = np.zeros_like(k_array)\n",
    "\n",
    "#Yale design\n",
    "N = 100\n",
    "CJA = 40e-15\n",
    "LJA = 1.9e-9\n",
    "Cg = 0.04e-15\n",
    "wp = (LJA*CJA)**(-0.5)\n",
    "for idx, k in enumerate(k_array):\n",
    "    w[idx] = mode_freq(k,wp,Cg,CJA,N)/(2*np.pi)*1e-9\n",
    "plt.plot(k_array,w, label = 'Yale')\n",
    "plt.axhline(y=wp/(2*np.pi)*1e-9,linestyle = '--')\n",
    "\n",
    "#UMD design\n",
    "N = 100\n",
    "CJA = 36e-15\n",
    "LJA = 1.65e-9\n",
    "Cg = 0.036e-15\n",
    "wp = (LJA*CJA)**(-0.5)\n",
    "for idx, k in enumerate(k_array):\n",
    "    w[idx] = mode_freq(k,wp,Cg,CJA,N)/(2*np.pi)*1e-9\n",
    "plt.plot(k_array,w, label = 'UMD')\n",
    "plt.axhline(y=wp/(2*np.pi)*1e-9,linestyle = '--')\n",
    "\n",
    "#Berkeley design\n",
    "N = 100\n",
    "CJA = 36e-15\n",
    "LJA = 0.47e-9\n",
    "Cg = 0.04e-15\n",
    "wp = (LJA*CJA)**(-0.5)\n",
    "for idx, k in enumerate(k_array):\n",
    "    w[idx] = mode_freq(k,wp,Cg,CJA,N)/(2*np.pi)*1e-9\n",
    "plt.plot(k_array,w, label = 'QNL')\n",
    "plt.axhline(y=wp/(2*np.pi)*1e-9,linestyle = '--')\n",
    "\n",
    "plt.axvline(x=1)\n",
    "plt.xlim([0,10])\n",
    "plt.xlabel(r'$k$')\n",
    "plt.ylabel(r'$\\omega_k$ (GHz)')\n",
    "plt.legend()"
   ]
  },
  {
   "cell_type": "markdown",
   "metadata": {},
   "source": [
    "## UMD fabrication data"
   ]
  },
  {
   "cell_type": "code",
   "execution_count": null,
   "metadata": {},
   "outputs": [],
   "source": [
    "from Devices import UMD\n",
    "samples = UMD.UMD_devices().list_of_devices\n",
    "\n",
    "print (len(samples))\n",
    "E_J_all = np.zeros(len(samples))\n",
    "E_L_all = np.zeros_like(E_J_all)\n",
    "E_C_all = np.zeros_like(E_J_all)\n",
    "juncArea_all = np.zeros_like(E_J_all)\n",
    "juncNum_all = np.zeros_like(E_J_all)\n",
    "ajuncArea_all = np.zeros_like(E_J_all)\n",
    "for idx in range(len(samples)):\n",
    "    E_J_all[idx] = samples[idx]['E_J']\n",
    "    E_L_all[idx] = samples[idx]['E_L']\n",
    "    E_C_all[idx] = samples[idx]['E_C']\n",
    "    juncArea_all[idx] = samples[idx]['junc_area']*1e-6\n",
    "    juncNum_all[idx] = samples[idx]['array_junc_num']\n",
    "    ajuncArea_all[idx] = samples[idx]['array_junc_area']\n",
    "    \n",
    "E_J_chain = E_L_all * juncNum_all\n",
    "\n",
    "#Critical current density\n",
    "J_o_junc = (E_J_all*1e9*cs.h) / phi_o / juncArea_all\n",
    "J_o_chain = (E_J_chain*1e9*cs.h) / phi_o / ajuncArea_all\n",
    "plt.figure(figsize = [9,7])\n",
    "plt.plot(J_o_junc*1e9, linestyle = 'none', marker='s',markerfacecolor = 'none', markeredgewidth=2, label='Small junction')\n",
    "plt.plot(J_o_chain*1e9, linestyle = 'none', marker='d',markerfacecolor = 'none', markeredgewidth=2, label='Array junction')\n",
    "plt.xlabel('Device #')\n",
    "plt.ylabel('$J_c(\\mathrm{nA/\\mu m^2})$')\n",
    "plt.legend()"
   ]
  },
  {
   "cell_type": "markdown",
   "metadata": {},
   "source": [
    "## Berkeley fabrication data\n",
    "Current array junction has area $0.2~\\mathrm{\\mu m}\\times 3.96 ~\\mathrm{\\mu m}$, same as UMD's, but thinner. 45 degree evaporation should bring the area to $0.2~\\mathrm{\\mu m}\\times 3.2 ~\\mathrm{\\mu m}$. The current spacing between junctions is $500~\\mathrm{nm}$, but we can make it $250~\\mathrm{nm}$ to have a tightly-packed array. Currently $J_c=670~\\mathrm{nA/\\mu m^2}$, but normally should be $670~\\mathrm{nA/\\mu m^2}$"
   ]
  },
  {
   "cell_type": "markdown",
   "metadata": {},
   "source": [
    "## Phase slip estimation"
   ]
  },
  {
   "cell_type": "code",
   "execution_count": null,
   "metadata": {},
   "outputs": [],
   "source": []
  }
 ],
 "metadata": {
  "kernelspec": {
   "display_name": "Python 3",
   "language": "python",
   "name": "python3"
  }
 },
 "nbformat": 4,
 "nbformat_minor": 4
}
